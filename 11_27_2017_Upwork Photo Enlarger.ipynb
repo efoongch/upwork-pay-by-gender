{
 "cells": [
  {
   "cell_type": "code",
   "execution_count": 1,
   "metadata": {},
   "outputs": [
    {
     "ename": "ImportError",
     "evalue": "No module named cv2",
     "output_type": "error",
     "traceback": [
      "\u001b[0;31m---------------------------------------------------------------------------\u001b[0m",
      "\u001b[0;31mImportError\u001b[0m                               Traceback (most recent call last)",
      "\u001b[0;32m<ipython-input-1-e1c4576e4794>\u001b[0m in \u001b[0;36m<module>\u001b[0;34m()\u001b[0m\n\u001b[1;32m      7\u001b[0m \u001b[0;32mfrom\u001b[0m \u001b[0mresizeimage\u001b[0m \u001b[0;32mimport\u001b[0m \u001b[0mresizeimage\u001b[0m\u001b[0;34m\u001b[0m\u001b[0m\n\u001b[1;32m      8\u001b[0m \u001b[0;32mimport\u001b[0m \u001b[0murllib\u001b[0m \u001b[0;32mas\u001b[0m \u001b[0murllib\u001b[0m\u001b[0;34m\u001b[0m\u001b[0m\n\u001b[0;32m----> 9\u001b[0;31m \u001b[0;32mimport\u001b[0m \u001b[0mcv2\u001b[0m\u001b[0;34m\u001b[0m\u001b[0m\n\u001b[0m\u001b[1;32m     10\u001b[0m \u001b[0;34m\u001b[0m\u001b[0m\n\u001b[1;32m     11\u001b[0m \u001b[0;32mclass\u001b[0m \u001b[0mUpworkPhotoEnlarger\u001b[0m\u001b[0;34m:\u001b[0m\u001b[0;34m\u001b[0m\u001b[0m\n",
      "\u001b[0;31mImportError\u001b[0m: No module named cv2"
     ]
    }
   ],
   "source": [
    "import httplib2\n",
    "import oauth2\n",
    "import urllib3\n",
    "import types\n",
    "import psycopg2, psycopg2.extras\n",
    "from PIL import Image\n",
    "from resizeimage import resizeimage\n",
    "import urllib as urllib\n",
    "import cv2\n",
    "\n",
    "class UpworkPhotoEnlarger:\n",
    "    \n",
    "    def __init__(self):\n",
    "        self.log_filename = \"trial_log_upwork_enlarge_photos_2017_11_27.txt\"\n",
    "        self.input_photo_folder_name = \"images_trial\"\n",
    "        self.output_photo_folder_name = \"resized_images_trial_2\"\n",
    "        \n",
    "        # Write a log\n",
    "        self.log = open(self.log_filename, 'a')\n",
    "        self.log.write(\"We have started saving photo data!\" + \"\\n\")\n",
    "\n",
    "        # Connect to the database \n",
    "        self.conn = psycopg2.connect(\"dbname=eureka01\")\n",
    "        self.cur = self.conn.cursor(cursor_factory=psycopg2.extras.DictCursor)\n",
    "        psycopg2.extensions.register_adapter(dict, psycopg2.extras.Json)\n",
    "        \n",
    "        # Get detailed_info from workers in our database\n",
    "        self.cur.execute(\"SELECT detailed_info FROM upwork_unitedstates_allskills_2017_11_01\")\n",
    "        \n",
    "        # For naming the worker photos we save  \n",
    "        self.user_count = 1\n",
    "        \n",
    "    def enlarge_photos(self):\n",
    "        for user in self.cur:\n",
    "            try: \n",
    "                local_filename = \"profile_photos/\" + self.input_photo_folder_name + \"/\" + str(self.user_count) + \".jpg\"\n",
    "                output_filename = \"resized_profile_photos/\" + self.output_photo_folder_name + \"/\" + str(self.user_count) + \".jpg\"\n",
    "                cv2.resize(local_filename, None, fx=2, fy=2, interpolation=cv2.INTER_LINEAR)\n",
    "                cv2.imshow(\"Enlarged image\", img)\n",
    "                \n",
    "                print \"We have enlarged the photo! \" + str(self.user_count)\n",
    "                self.log.write(\"We have enlarged the photo at {0}\".format(self.user_count) + \"\\n\")\n",
    "                self.log.flush()\n",
    "                self.user_count += 1\n",
    "            except Exception as err: \n",
    "                print \"Problem saving the photo at {0}\".format(self.user_count)\n",
    "                print err \n",
    "                self.log.write(\"Problem saving photo at {0}: {1}\".format(self.user_count, err) + \"\\n\")\n",
    "                self.log.flush()\n",
    "                self.user_count += 1"
   ]
  },
  {
   "cell_type": "code",
   "execution_count": 2,
   "metadata": {},
   "outputs": [
    {
     "ename": "NameError",
     "evalue": "name 'UpworkPhotoEnlarger' is not defined",
     "output_type": "error",
     "traceback": [
      "\u001b[0;31m---------------------------------------------------------------------------\u001b[0m",
      "\u001b[0;31mNameError\u001b[0m                                 Traceback (most recent call last)",
      "\u001b[0;32m<ipython-input-2-23e4ba5b8d10>\u001b[0m in \u001b[0;36m<module>\u001b[0;34m()\u001b[0m\n\u001b[0;32m----> 1\u001b[0;31m \u001b[0mmyObject\u001b[0m \u001b[0;34m=\u001b[0m \u001b[0mUpworkPhotoEnlarger\u001b[0m\u001b[0;34m(\u001b[0m\u001b[0;34m)\u001b[0m\u001b[0;34m\u001b[0m\u001b[0m\n\u001b[0m\u001b[1;32m      2\u001b[0m \u001b[0mmyObject\u001b[0m\u001b[0;34m.\u001b[0m\u001b[0menlarge_photos\u001b[0m\u001b[0;34m(\u001b[0m\u001b[0;34m)\u001b[0m\u001b[0;34m\u001b[0m\u001b[0m\n",
      "\u001b[0;31mNameError\u001b[0m: name 'UpworkPhotoEnlarger' is not defined"
     ]
    }
   ],
   "source": [
    "myObject = UpworkPhotoEnlarger()\n",
    "myObject.enlarge_photos()"
   ]
  },
  {
   "cell_type": "code",
   "execution_count": null,
   "metadata": {
    "collapsed": true
   },
   "outputs": [],
   "source": []
  }
 ],
 "metadata": {
  "kernelspec": {
   "display_name": "Python 2",
   "language": "python",
   "name": "python2"
  },
  "language_info": {
   "codemirror_mode": {
    "name": "ipython",
    "version": 2
   },
   "file_extension": ".py",
   "mimetype": "text/x-python",
   "name": "python",
   "nbconvert_exporter": "python",
   "pygments_lexer": "ipython2",
   "version": "2.7.13"
  }
 },
 "nbformat": 4,
 "nbformat_minor": 2
}
