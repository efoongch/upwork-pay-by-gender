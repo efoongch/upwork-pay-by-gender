{
 "cells": [
  {
   "cell_type": "code",
   "execution_count": 2,
   "metadata": {},
   "outputs": [
    {
     "name": "stdout",
     "output_type": "stream",
     "text": [
      "                      job_category job_type            worker_id\n",
      "0                      Translation   hourly  ~01293c7646ce6e3690\n",
      "1                      Translation   hourly  ~01293c7646ce6e3690\n",
      "2                      Translation    fixed  ~01293c7646ce6e3690\n",
      "3                      Translation    fixed  ~01293c7646ce6e3690\n",
      "4                Sales & Marketing   hourly  ~01532f4aeb4fca879d\n",
      "5                Sales & Marketing   hourly  ~01532f4aeb4fca879d\n",
      "6                Sales & Marketing   hourly  ~01532f4aeb4fca879d\n",
      "7                Sales & Marketing   hourly  ~01532f4aeb4fca879d\n",
      "8                Sales & Marketing   hourly  ~01532f4aeb4fca879d\n",
      "9                Sales & Marketing   hourly  ~01532f4aeb4fca879d\n",
      "10               Sales & Marketing   hourly  ~01532f4aeb4fca879d\n",
      "11               Sales & Marketing   hourly  ~01532f4aeb4fca879d\n",
      "12               Sales & Marketing   hourly  ~01532f4aeb4fca879d\n",
      "13               Sales & Marketing   hourly  ~01532f4aeb4fca879d\n",
      "14               Sales & Marketing   hourly  ~01532f4aeb4fca879d\n",
      "15               Sales & Marketing   hourly  ~01532f4aeb4fca879d\n",
      "16               Sales & Marketing   hourly  ~01532f4aeb4fca879d\n",
      "17               Sales & Marketing    fixed  ~01532f4aeb4fca879d\n",
      "18               Sales & Marketing    fixed  ~01532f4aeb4fca879d\n",
      "19               Sales & Marketing    fixed  ~01532f4aeb4fca879d\n",
      "20               Sales & Marketing    fixed  ~01532f4aeb4fca879d\n",
      "21               Sales & Marketing    fixed  ~01532f4aeb4fca879d\n",
      "22               Sales & Marketing    fixed  ~01532f4aeb4fca879d\n",
      "23               Sales & Marketing    fixed  ~01532f4aeb4fca879d\n",
      "24               Sales & Marketing    fixed  ~01532f4aeb4fca879d\n",
      "25               Sales & Marketing    fixed  ~01532f4aeb4fca879d\n",
      "26               Sales & Marketing    fixed  ~01532f4aeb4fca879d\n",
      "27               Sales & Marketing    fixed  ~01532f4aeb4fca879d\n",
      "28               Sales & Marketing    fixed  ~01532f4aeb4fca879d\n",
      "29               Sales & Marketing    fixed  ~01532f4aeb4fca879d\n",
      "...                            ...      ...                  ...\n",
      "264684  Web, Mobile & Software Dev    fixed  ~012864d9b7e39e4da7\n",
      "264685  Web, Mobile & Software Dev    fixed  ~012864d9b7e39e4da7\n",
      "264686  Web, Mobile & Software Dev    fixed  ~012864d9b7e39e4da7\n",
      "264687  Web, Mobile & Software Dev    fixed  ~012864d9b7e39e4da7\n",
      "264688  Web, Mobile & Software Dev    fixed  ~012864d9b7e39e4da7\n",
      "264689  Web, Mobile & Software Dev    fixed  ~012864d9b7e39e4da7\n",
      "264690  Web, Mobile & Software Dev    fixed  ~012864d9b7e39e4da7\n",
      "264691  Web, Mobile & Software Dev    fixed  ~012864d9b7e39e4da7\n",
      "264692  Web, Mobile & Software Dev    fixed  ~012864d9b7e39e4da7\n",
      "264693  Web, Mobile & Software Dev    fixed  ~012864d9b7e39e4da7\n",
      "264694           Sales & Marketing    fixed  ~0175ea1b088bd5a51a\n",
      "264695           Sales & Marketing    fixed  ~0175ea1b088bd5a51a\n",
      "264696           Sales & Marketing    fixed  ~0175ea1b088bd5a51a\n",
      "264697           Sales & Marketing    fixed  ~0175ea1b088bd5a51a\n",
      "264698           Sales & Marketing    fixed  ~0175ea1b088bd5a51a\n",
      "264699           Sales & Marketing    fixed  ~0175ea1b088bd5a51a\n",
      "264700           Sales & Marketing    fixed  ~0175ea1b088bd5a51a\n",
      "264701               Admin Support   hourly  ~019e06db8f23f75d63\n",
      "264702               Admin Support   hourly  ~019e06db8f23f75d63\n",
      "264703               Admin Support   hourly  ~019e06db8f23f75d63\n",
      "264704               Admin Support   hourly  ~019e06db8f23f75d63\n",
      "264705               Admin Support   hourly  ~019e06db8f23f75d63\n",
      "264706               Admin Support   hourly  ~019e06db8f23f75d63\n",
      "264707               Admin Support   hourly  ~019e06db8f23f75d63\n",
      "264708               Admin Support   hourly  ~019e06db8f23f75d63\n",
      "264709               Admin Support   hourly  ~019e06db8f23f75d63\n",
      "264710               Admin Support   hourly  ~019e06db8f23f75d63\n",
      "264711               Admin Support   hourly  ~019e06db8f23f75d63\n",
      "264712               Admin Support   hourly  ~019e06db8f23f75d63\n",
      "264713               Admin Support   hourly  ~019e06db8f23f75d63\n",
      "\n",
      "[264714 rows x 3 columns]\n"
     ]
    },
    {
     "data": {
      "text/plain": [
       "<matplotlib.axes._subplots.AxesSubplot at 0x7fa18b1bbf50>"
      ]
     },
     "execution_count": 2,
     "metadata": {},
     "output_type": "execute_result"
    },
    {
     "data": {
      "image/png": "[encoded data removed]",
      "text/plain": [
       "<matplotlib.figure.Figure at 0x7fa1c0397750>"
      ]
     },
     "metadata": {},
     "output_type": "display_data"
    }
   ],
   "source": [
    "%matplotlib inline\n",
    "import httplib2\n",
    "import oauth2\n",
    "import urllib3\n",
    "import types\n",
    "import re\n",
    "import numpy as np\n",
    "import pandas as pd\n",
    "import matplotlib.pyplot as plt\n",
    "from causalinference import CausalModel\n",
    "import httplib\n",
    "import base64\n",
    "import csv\n",
    "from statsmodels.formula.api import ols\n",
    "import statsmodels.api as sm\n",
    "import math\n",
    "from collections import defaultdict\n",
    "\n",
    "data_analysis_file_name = './csv_files/jobs_2017_12_12_upwork_analysis_unitedstates_allskills.csv'\n",
    "        \n",
    "jobs_data = pd.read_csv(data_analysis_file_name)\n",
    "\n",
    "print jobs_data\n",
    "\n",
    "job_categories = ['Design & Creative', 'Data Science & Analytics', 'Customer Service', 'Admin Support', \n",
    "                 'Accounting & Consulting', 'Writing', 'Web, Mobile & Software Dev', 'Translation', \n",
    "                 'Sales & Marketing', 'Legal', 'IT & Networking', 'Engineering & Architecture']\n",
    "\n",
    "hourly_percentage_list = []\n",
    "\n",
    "for category in job_categories:\n",
    "    \n",
    "    hourly_jobs = jobs_data[(jobs_data['job_type'] == 'hourly') & (jobs_data['job_category'] == category)]\n",
    "    hourly_total = len(hourly_jobs)\n",
    "    \n",
    "    fixed_jobs = jobs_data[(jobs_data['job_type'] == 'fixed') & (jobs_data['job_category'] == category)]\n",
    "    fixed_total = len(fixed_jobs)\n",
    "    \n",
    "    total_in_category = hourly_total + fixed_total\n",
    "    \n",
    "    hourly_percentage = float(hourly_total)/float(fixed_total) * 100\n",
    "\n",
    "    hourly_percentage_list.append(hourly_percentage)\n",
    "    \n",
    "percentage_df = pd.DataFrame(hourly_percentage_list, index=job_categories, columns=['Percentage Hourly Assignments'])\n",
    "\n",
    "percentage_df = percentage_df.sort_values('Percentage Hourly Assignments')\n",
    "\n",
    "print \"Percentage hourly assignments\"\n",
    "percentage_df.plot(kind=\"bar\", figsize=(15,10))\n",
    "\n",
    "print \"Overall assignments\"\n"
   ]
  },
  {
   "cell_type": "code",
   "execution_count": null,
   "metadata": {
    "collapsed": true
   },
   "outputs": [],
   "source": []
  }
 ],
 "metadata": {
  "kernelspec": {
   "display_name": "Python 2",
   "language": "python",
   "name": "python2"
  },
  "language_info": {
   "codemirror_mode": {
    "name": "ipython",
    "version": 2
   },
   "file_extension": ".py",
   "mimetype": "text/x-python",
   "name": "python",
   "nbconvert_exporter": "python",
   "pygments_lexer": "ipython2",
   "version": "2.7.13"
  }
 },
 "nbformat": 4,
 "nbformat_minor": 2
}
