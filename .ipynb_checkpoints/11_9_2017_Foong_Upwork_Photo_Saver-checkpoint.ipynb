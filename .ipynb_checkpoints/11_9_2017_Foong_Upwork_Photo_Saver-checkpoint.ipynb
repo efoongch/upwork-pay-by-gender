{
 "cells": [
  {
   "cell_type": "code",
   "execution_count": 18,
   "metadata": {},
   "outputs": [],
   "source": [
    "import httplib2\n",
    "import oauth2\n",
    "import urllib3\n",
    "import types\n",
    "import psycopg2, psycopg2.extras\n",
    "from PIL import Image\n",
    "from resizeimage import resizeimage\n",
    "import urllib as urllib\n",
    "\n",
    "class UpworkPhotoSaver:\n",
    "    \n",
    "    def __init__(self):\n",
    "        # Write a log\n",
    "        self.log = open('log_upwork_data_cleaning_2017_11_09_worldwide_allskills_trial.txt', 'a')\n",
    "        self.log.write(\"We have started cleaning data!\" + \"\\n\")\n",
    "\n",
    "        # Connect to the database \n",
    "        self.conn = psycopg2.connect(\"dbname=eureka01\")\n",
    "        self.cur = self.conn.cursor(cursor_factory=psycopg2.extras.DictCursor)\n",
    "        psycopg2.extensions.register_adapter(dict, psycopg2.extras.Json)\n",
    "        \n",
    "        # Get detailed_info from workers in our database\n",
    "        self.cur.execute(\"SELECT detailed_info FROM upwork_worldwide_allskills_2017_10_21 LIMIT 10;\")\n",
    "        \n",
    "        # For naming the worker photos we save  \n",
    "        self.user_count = 1\n",
    "        \n",
    "    def collect_photos(self):\n",
    "        for user in self.cur:\n",
    "            photo_url = user[0][\"dev_portrait_50\"]\n",
    "            local_filename = \"images_trial/\" + str(self.user_count) + \".jpg\"\n",
    "            urllib.urlretrieve(photo_url, local_filename)\n",
    "            print \"We have saved the photo! \" + str(self.user_count)\n",
    "            \n",
    "            self.user_count += 1\n",
    "    "
   ]
  },
  {
   "cell_type": "code",
   "execution_count": 19,
   "metadata": {},
   "outputs": [
    {
     "name": "stdout",
     "output_type": "stream",
     "text": [
      "We have saved the photo! 1\n"
     ]
    },
    {
     "ename": "AttributeError",
     "evalue": "UpworkPhotoSaver instance has no attribute 'resize_photo'",
     "output_type": "error",
     "traceback": [
      "\u001b[0;31m---------------------------------------------------------------------------\u001b[0m",
      "\u001b[0;31mAttributeError\u001b[0m                            Traceback (most recent call last)",
      "\u001b[0;32m<ipython-input-19-619abcb9519d>\u001b[0m in \u001b[0;36m<module>\u001b[0;34m()\u001b[0m\n\u001b[1;32m      1\u001b[0m \u001b[0mmyObject\u001b[0m \u001b[0;34m=\u001b[0m \u001b[0mUpworkPhotoSaver\u001b[0m\u001b[0;34m(\u001b[0m\u001b[0;34m)\u001b[0m\u001b[0;34m\u001b[0m\u001b[0m\n\u001b[0;32m----> 2\u001b[0;31m \u001b[0mmyObject\u001b[0m\u001b[0;34m.\u001b[0m\u001b[0mcollect_photos\u001b[0m\u001b[0;34m(\u001b[0m\u001b[0;34m)\u001b[0m\u001b[0;34m\u001b[0m\u001b[0m\n\u001b[0m",
      "\u001b[0;32m<ipython-input-18-8014d167b858>\u001b[0m in \u001b[0;36mcollect_photos\u001b[0;34m(self)\u001b[0m\n\u001b[1;32m     33\u001b[0m             \u001b[0;32mprint\u001b[0m \u001b[0;34m\"We have saved the photo! \"\u001b[0m \u001b[0;34m+\u001b[0m \u001b[0mstr\u001b[0m\u001b[0;34m(\u001b[0m\u001b[0mself\u001b[0m\u001b[0;34m.\u001b[0m\u001b[0muser_count\u001b[0m\u001b[0;34m)\u001b[0m\u001b[0;34m\u001b[0m\u001b[0m\n\u001b[1;32m     34\u001b[0m \u001b[0;34m\u001b[0m\u001b[0m\n\u001b[0;32m---> 35\u001b[0;31m             \u001b[0mself\u001b[0m\u001b[0;34m.\u001b[0m\u001b[0mresize_photo\u001b[0m\u001b[0;34m(\u001b[0m\u001b[0mlocal_filename\u001b[0m\u001b[0;34m)\u001b[0m\u001b[0;34m\u001b[0m\u001b[0m\n\u001b[0m\u001b[1;32m     36\u001b[0m             \u001b[0;32mprint\u001b[0m \u001b[0;34m\"We have resized the photo! \"\u001b[0m \u001b[0;34m+\u001b[0m \u001b[0mstr\u001b[0m\u001b[0;34m(\u001b[0m\u001b[0mself\u001b[0m\u001b[0;34m.\u001b[0m\u001b[0muser_count\u001b[0m\u001b[0;34m)\u001b[0m\u001b[0;34m\u001b[0m\u001b[0m\n\u001b[1;32m     37\u001b[0m \u001b[0;34m\u001b[0m\u001b[0m\n",
      "\u001b[0;31mAttributeError\u001b[0m: UpworkPhotoSaver instance has no attribute 'resize_photo'"
     ]
    }
   ],
   "source": [
    "myObject = UpworkPhotoSaver()\n",
    "myObject.collect_photos()"
   ]
  },
  {
   "cell_type": "code",
   "execution_count": null,
   "metadata": {
    "collapsed": true
   },
   "outputs": [],
   "source": []
  }
 ],
 "metadata": {
  "kernelspec": {
   "display_name": "Python 2",
   "language": "python",
   "name": "python2"
  },
  "language_info": {
   "codemirror_mode": {
    "name": "ipython",
    "version": 2
   },
   "file_extension": ".py",
   "mimetype": "text/x-python",
   "name": "python",
   "nbconvert_exporter": "python",
   "pygments_lexer": "ipython2",
   "version": "2.7.13"
  }
 },
 "nbformat": 4,
 "nbformat_minor": 2
}
