{
 "cells": [
  {
   "cell_type": "markdown",
   "metadata": {},
   "source": [
    "# How Much Do Men and Women in the U.S. Ask For in Hourly Bill Rate on Upwork? \n",
    "\n",
    "In October 2017, we collected publicly available profiles for 10,980 workers worldwide on online freelancing platform, Upwork. We used Microsoft's Face API to detect gender of workers based on their profile photos, in contrast to prior literature that detected gender based on users' first names (e.g., Hannak et al., 2017, Wachs et al., 2017). Gender identification methods based on first name has been shown to have lower precision and recall in comparison to methods using facial recognition. We omitted profiles from the dataset if we could not reliably detect gender from their profile photo or if we could not identify the level of education for at least one of the entries on their profile. We also removed profiles that were outliers with bill rates more or less than two standard deviations from the average bill rate. To limit the scope of the analysis, we focused on workers based in the United States. In total, we included 1314 workers in our analyses (female = 653). \n",
    "\n",
    "Following similar work in HCI measuring the effects of online behaviors (Choudhury et al., 2016), we used stratified propensity score matching to estimate the causal effects of gender on average hourly bill rate. In this model, we controlled for workers': 1) highest level of education, 2) primary job category specified on Upwork, and 3) number of years of work experience listed on their profile. \n",
    "\n",
    "Based on our causal model, we show that being a woman predicted signficantly lower bill rates (M = \\$32.67, std = \\$19.95) compared to being a man (M = \\$38.12, std = \\$22.54, p < 0.01). On average, women in our dataset asked for hourly bill rates that were 85.7% of what men in the dataset asked for. This figure is comparable to the gender pay gap for full-time, year-round workers in the United States in 2015; on average, women earned 80% of men's annual average wages (Institute for Women's Policy Research, 2016; see https://iwpr.org/issue/employment-education-economic-change/pay-equity-discrimination/). \n",
    "\n",
    "Below we describe the dataset and the analyses we conducted. "
   ]
  },
  {
   "cell_type": "code",
   "execution_count": 1,
   "metadata": {},
   "outputs": [
    {
     "name": "stderr",
     "output_type": "stream",
     "text": [
      "/home/ecf384/.conda/envs/eureka2/lib/python2.7/site-packages/statsmodels/compat/pandas.py:56: FutureWarning: The pandas.core.datetools module is deprecated and will be removed in a future version. Please use the pandas.tseries module instead.\n",
      "  from pandas.core import datetools\n"
     ]
    },
    {
     "name": "stdout",
     "output_type": "stream",
     "text": [
      "Bill rate average: 40.0665808824\n",
      "Bill rate standard deviation: 40.2265996757\n",
      "~011a2cc6807fbeaaa6\n",
      "~017bf248685213bb45\n",
      "~018a686cb35070fafe\n",
      "~01148f7f1356479ea3\n",
      "~01e77590e9ac8c768f\n",
      "~01904043c35d00d81e\n",
      "~012c6f897ac7addfa1\n",
      "~0185a646b7b24cf239\n",
      "~019e591817048013ee\n",
      "~01c6b8d9037669253a\n",
      "~0137a95c53c34690e0\n",
      "~01783aa5b21c9775f7\n",
      "~0170f8df18d7ec3cb4\n",
      "~01886d5474eab5b4f2\n",
      "~011c76f372f649b938\n",
      "~013815c1643cd0735d\n",
      "~01bdf4a24ed737990c\n",
      "~017b1563723048cbf7\n",
      "~014c719990faba4680\n",
      "~01e8b4961fb91c62e6\n",
      "~015e3fdc8f4334eec2\n",
      "~0150115605f0473078\n",
      "~0138b70d798e6f81b7\n",
      "~018e0ff2efcd0f4054\n",
      "~01bae896346c44c796\n",
      "~014253a5979122ed36\n",
      "~01a0d2dd56452ddddd\n",
      "~011a4c23f800388b06\n",
      "~016139855ad44681f0\n",
      "~0196989e23d1ce8cf7\n",
      "~018a24a3cc05038b63\n",
      "~01e884194769a34aee\n",
      "~0151b9ad6c30c2d1a8\n",
      "~013843f3155454eb4d\n",
      "~0157cfd7a9bc5c6a2f\n",
      "~01f464d89fa067aec7\n",
      "~01ba12b5dcc8734df3\n",
      "~01f61c76d1e9bfd95a\n",
      "~01e17f8f91c80d8d5c\n",
      "~01c83f6ba5f83babd9\n",
      "~0187fa16d25b64aaf9\n",
      "~019a4d09bfdb745fcc\n",
      "~0112215643718c2271\n",
      "~015739ab3dd72641ae\n",
      "~01c65de67fc84b7d29\n",
      "~01d414aa65ff8acdb1\n",
      "Bill rate average: 40.0665808824\n",
      "Bill rate standard deviation: 40.2265996757\n",
      "[0]\n",
      "Bill rate array length: 1360\n",
      "Gender array length: 1360\n",
      "Covariate array length: 1360\n",
      "Female count: 669, Male count: 691\n"
     ]
    }
   ],
   "source": [
    "import httplib2\n",
    "import oauth2\n",
    "import urllib3\n",
    "import types\n",
    "import re\n",
    "import numpy as np\n",
    "import pandas as pd\n",
    "import matplotlib.pyplot as plt\n",
    "%matplotlib inline\n",
    "from gender_detector import GenderDetector \n",
    "import psycopg2, psycopg2.extras\n",
    "from causalinference import CausalModel\n",
    "from causalinference.utils import random_data\n",
    "import httplib\n",
    "import base64\n",
    "import json # For Microsoft Face API\n",
    "import urllib as urllib # For Microsoft Face API\n",
    "import time \n",
    "import csv\n",
    "import datetime \n",
    "from statsmodels.formula.api import ols\n",
    "import statsmodels.api as sm\n",
    "\n",
    "# Initialize arrays for Causal Analysis \n",
    "user_count = 1\n",
    "bill_rate_array = []\n",
    "gender_array = []\n",
    "all_covariates_array = []\n",
    "\n",
    "# Read data from csv files and reformat\n",
    "all_data_file_name = './csv_files/2017_12_12_upwork_analysis_unitedstates_allskills.csv' # Filename for all data\n",
    "gender_data_file_name = './csv_files/2017_12_12_upwork_face_data_unitedstates_allskills.csv' # Filename for gender data\n",
    "df = pd.read_csv(all_data_file_name)\n",
    "df_gender = pd.read_csv(gender_data_file_name)\n",
    "\n",
    "# Merge the files, then remove rows with an error, no gender identified, or ambiguous education\n",
    "merged = df.merge(df_gender, on='user_count')\n",
    "merged = merged[merged.bill_rate != 'error']\n",
    "merged = merged[merged.gender != 'unidentified']\n",
    "merged = merged[merged.gender != 'error']\n",
    "merged = merged[merged.education != 'None']\n",
    "merged = merged[merged.job_category != 'none']\n",
    "merged = merged[merged.country == 'United States'] # Look only at data in the United States, which is the largest dataset\n",
    "\n",
    "# Calculate mean and standard deviation\n",
    "merged['bill_rate'] = merged.bill_rate.astype('float')\n",
    "sd = np.std(merged['bill_rate'])\n",
    "mean = np.mean(merged['bill_rate'])\n",
    "print(\"Bill rate average: {0}\".format(mean))\n",
    "print(\"Bill rate standard deviation: {0}\".format(sd))\n",
    "\n",
    "# Remove outliers in the dataset\n",
    "# merged = merged[merged['bill_rate'] > mean - 2 * sd]\n",
    "# merged = merged[merged['bill_rate'] < mean + 2 * sd]\n",
    "\n",
    "# Show the outliers IDs\n",
    "def showOutliers(data):\n",
    "    outliers = data[data['bill_rate'] > mean + 2 * sd]\n",
    "    all_ids = outliers.worker_id_x\n",
    "    all_billrates = outliers.bill_rate\n",
    "    for person in all_ids:\n",
    "        print person\n",
    "        \n",
    "showOutliers(merged)\n",
    "\n",
    "# Calculate mean and standard deviation\n",
    "sd = np.std(merged['bill_rate'])\n",
    "mean = np.mean(merged['bill_rate'])\n",
    "print(\"Bill rate average: {0}\".format(mean))\n",
    "print(\"Bill rate standard deviation: {0}\".format(sd))\n",
    "\n",
    "all_bill_rates = merged.bill_rate.astype('float')\n",
    "merged['bill_rate'] = merged.bill_rate.astype('float')\n",
    "merged['work_experience'] = merged.work_experience.astype('float')\n",
    "all_work_experience = merged.work_experience\n",
    "all_education_id = merged.education_id\n",
    "all_job_category_id = merged.job_category_id\n",
    "all_country_id = merged.country_id\n",
    "all_genders = merged.gender\n",
    "female_count = 0\n",
    "male_count = 0\n",
    "\n",
    "# Converting covariates to a matrix on a dichotomous scale\n",
    "def make_dichotomous_matrix(id_value, covariate, final_matrix):\n",
    "    for option in list(set(covariate)):\n",
    "        if (id_value == option):\n",
    "            final_matrix.append(1)\n",
    "        else:\n",
    "            final_matrix.append(0)\n",
    "    return final_matrix\n",
    "\n",
    "covariate_matrix = []\n",
    "print make_dichotomous_matrix(20, all_country_id, covariate_matrix)\n",
    "        \n",
    "# Data formatting \n",
    "for gender in all_genders:\n",
    "    if (gender == \"male\"):\n",
    "        gender_array.append(0)\n",
    "        male_count += 1\n",
    "    elif (gender == \"female\"): # Female as the treatment group\n",
    "        gender_array.append(1)\n",
    "        female_count += 1\n",
    "\n",
    "for rate in all_bill_rates:\n",
    "    rate = round(float(rate), 2)\n",
    "    bill_rate_array.append(rate)\n",
    "    \n",
    "\n",
    "for row in merged.itertuples():    \n",
    "    job_category_matrix = []\n",
    "    country_matrix = []\n",
    "    education_matrix = []\n",
    "    individual_covariate_matrix = []\n",
    "    \n",
    "    #Blocked out because not considering >1 country\n",
    "    #country_matrix = make_dichotomous_matrix(row.country_id, all_country_id, country_matrix)\n",
    "    #individual_covariate_matrix.extend(country_matrix)\n",
    "    \n",
    "    job_category_matrix = make_dichotomous_matrix(row.job_category_id, all_job_category_id, job_category_matrix)\n",
    "    education_matrix = make_dichotomous_matrix(row.education_id, all_education_id, education_matrix)\n",
    "    \n",
    "    individual_covariate_matrix.extend(job_category_matrix)\n",
    "    individual_covariate_matrix.extend(education_matrix)\n",
    "    individual_covariate_matrix.append(row.work_experience)\n",
    "    all_covariates_array.append(individual_covariate_matrix)\n",
    "\n",
    "# Check that arrays contain complete data\n",
    "print \"Bill rate array length: {0}\".format(len(bill_rate_array))\n",
    "print \"Gender array length: {0}\".format(len(gender_array))\n",
    "print \"Covariate array length: {0}\".format(len(all_covariates_array))\n",
    "print \"Female count: {0}, Male count: {1}\".format(female_count, male_count)\n"
   ]
  },
  {
   "cell_type": "markdown",
   "metadata": {},
   "source": [
    "# Causal Analysis\n",
    "\n",
    "When we conduct a causal analysis of the data, we find that, on average, women on Upwork in the United States post an hourly bill rate of USD \\$32.67, while men post an hourly bill rate of USD \\$38.12. \n",
    "\n",
    "Therefore, women in this sample of Upwork workers in the United States asked for an hourly bill rate that was, on average, 85.7% of what men in the sample asked for. In comparison, female, full-time, year-round workers in the United States earned 80% of men's annual average wages in 2015 (Institute for Women's Policy Research, 2016; see https://iwpr.org/issue/employment-education-economic-change/pay-equity-discrimination/). "
   ]
  },
  {
   "cell_type": "code",
   "execution_count": 2,
   "metadata": {},
   "outputs": [
    {
     "name": "stdout",
     "output_type": "stream",
     "text": [
      "\n",
      "Summary Statistics\n",
      "\n",
      "                       Controls (N_c=661)         Treated (N_t=653)             \n",
      "       Variable         Mean         S.d.         Mean         S.d.     Raw-diff\n",
      "--------------------------------------------------------------------------------\n",
      "              Y       38.117       22.536       32.674       19.951       -5.443\n",
      "\n",
      "                       Controls (N_c=661)         Treated (N_t=653)             \n",
      "       Variable         Mean         S.d.         Mean         S.d.     Nor-diff\n",
      "--------------------------------------------------------------------------------\n",
      "             X0        0.253        0.435        0.282        0.450        0.066\n",
      "             X1        0.228        0.420        0.041        0.199       -0.569\n",
      "             X2        0.051        0.221        0.165        0.372        0.373\n",
      "             X3        0.051        0.221        0.009        0.095       -0.248\n",
      "             X4        0.030        0.171        0.047        0.213        0.089\n",
      "             X5        0.175        0.381        0.274        0.446        0.238\n",
      "             X6        0.024        0.154        0.012        0.110       -0.089\n",
      "             X7        0.061        0.239        0.021        0.145       -0.198\n",
      "             X8        0.054        0.227        0.052        0.222       -0.011\n",
      "             X9        0.008        0.087        0.017        0.129        0.085\n",
      "            X10        0.057        0.233        0.072        0.259        0.059\n",
      "            X11        0.006        0.078        0.006        0.078        0.001\n",
      "            X12        0.629        0.483        0.588        0.493       -0.085\n",
      "            X13        0.218        0.413        0.271        0.445        0.124\n",
      "            X14        0.027        0.163        0.017        0.129       -0.071\n",
      "            X15        0.027        0.163        0.020        0.140       -0.048\n",
      "            X16        0.023        0.149        0.028        0.164        0.031\n",
      "            X17        0.076        0.265        0.077        0.266        0.003\n",
      "            X18        5.277        6.584        5.613        6.748        0.050\n",
      "\n"
     ]
    }
   ],
   "source": [
    "Y = np.array(bill_rate_array)\n",
    "D = np.array(gender_array)\n",
    "X = np.array(all_covariates_array)\n",
    "\n",
    "causal = CausalModel(Y, D, X)\n",
    "\n",
    "print(causal.summary_stats)"
   ]
  },
  {
   "cell_type": "markdown",
   "metadata": {},
   "source": [
    "When each person in the dataset was matched with a comparable person in the dataset (based on job category, highest level of education, and number of years of work experience), we found that women (the \"treatment\" group) post significantly lower bill rates compared to men (the \"control\" group) (z = -2.47, p = 0.01). "
   ]
  },
  {
   "cell_type": "code",
   "execution_count": 3,
   "metadata": {},
   "outputs": [
    {
     "name": "stdout",
     "output_type": "stream",
     "text": [
      "\n",
      "Treatment Effect Estimates: Matching\n",
      "\n",
      "                     Est.       S.e.          z      P>|z|      [95% Conf. int.]\n",
      "--------------------------------------------------------------------------------\n",
      "           ATE     -4.068      1.650     -2.465      0.014     -7.302     -0.833\n",
      "           ATC     -4.795      1.969     -2.435      0.015     -8.655     -0.935\n",
      "           ATT     -3.332      1.839     -1.811      0.070     -6.937      0.273\n",
      "\n"
     ]
    }
   ],
   "source": [
    "# Matching each person in the dataset with a comparable person in the dataset\n",
    "\n",
    "causal.est_via_matching(bias_adj=True)\n",
    "print (causal.estimates)"
   ]
  },
  {
   "cell_type": "markdown",
   "metadata": {},
   "source": [
    "Next, we estimated the propensity score or the probability of being a woman given the covariates (job category, highest level of education, and number of years of work experience). The resulting model takes into consideration the following covariates when estimating propensity score: "
   ]
  },
  {
   "cell_type": "code",
   "execution_count": 4,
   "metadata": {},
   "outputs": [
    {
     "name": "stdout",
     "output_type": "stream",
     "text": [
      "\n",
      "Estimated Parameters of Propensity Score\n",
      "\n",
      "                    Coef.       S.e.          z      P>|z|      [95% Conf. int.]\n",
      "--------------------------------------------------------------------------------\n",
      "     Intercept      0.116      0.095      1.228      0.220     -0.069      0.302\n",
      "            X1     -1.878      0.228     -8.244      0.000     -2.325     -1.432\n",
      "            X2      0.994      0.217      4.591      0.000      0.570      1.419\n",
      "            X3     -1.910      0.453     -4.219      0.000     -2.798     -1.023\n",
      "            X7     -1.249      0.327     -3.822      0.000     -1.889     -0.608\n",
      "           X13      0.189      0.166      1.140      0.254     -0.136      0.515\n",
      "            X6     -0.882      0.444     -1.986      0.047     -1.752     -0.011\n",
      "            X5      0.090      0.167      0.539      0.590     -0.237      0.417\n",
      "            X8     -0.260      0.260     -1.000      0.317     -0.770      0.250\n",
      "            X9      0.614      0.548      1.122      0.262     -0.459      1.688\n",
      "        X13*X5      0.719      0.336      2.141      0.032      0.061      1.378\n",
      "\n"
     ]
    }
   ],
   "source": [
    "# Propensity score estimation\n",
    "\n",
    "causal.est_propensity_s()\n",
    "print (causal.propensity)"
   ]
  },
  {
   "cell_type": "markdown",
   "metadata": {},
   "source": [
    "To improve covariate balance, we constructed a sample that removes people who have extreme propensity score values. This means that their covariate values lead them to have such high propensity to be a woman (or a man) that it is difficult to find another comparable person in the group. With this trimmed sample, women on average asked for an hourly bill rate of USD \\$32.67 and men asked for an hourly bill rate of USD \\$38.12. \n",
    "\n",
    "Therefore, women in this sample of Upwork workers in the United States asked for an hourly bill rate that was, on average, 85.7% of what men in the sample asked for. "
   ]
  },
  {
   "cell_type": "code",
   "execution_count": 5,
   "metadata": {},
   "outputs": [
    {
     "name": "stdout",
     "output_type": "stream",
     "text": [
      "\n",
      "Summary Statistics\n",
      "\n",
      "                       Controls (N_c=661)         Treated (N_t=653)             \n",
      "       Variable         Mean         S.d.         Mean         S.d.     Raw-diff\n",
      "--------------------------------------------------------------------------------\n",
      "              Y       38.117       22.536       32.674       19.951       -5.443\n",
      "\n",
      "                       Controls (N_c=661)         Treated (N_t=653)             \n",
      "       Variable         Mean         S.d.         Mean         S.d.     Nor-diff\n",
      "--------------------------------------------------------------------------------\n",
      "             X0        0.253        0.435        0.282        0.450        0.066\n",
      "             X1        0.228        0.420        0.041        0.199       -0.569\n",
      "             X2        0.051        0.221        0.165        0.372        0.373\n",
      "             X3        0.051        0.221        0.009        0.095       -0.248\n",
      "             X4        0.030        0.171        0.047        0.213        0.089\n",
      "             X5        0.175        0.381        0.274        0.446        0.238\n",
      "             X6        0.024        0.154        0.012        0.110       -0.089\n",
      "             X7        0.061        0.239        0.021        0.145       -0.198\n",
      "             X8        0.054        0.227        0.052        0.222       -0.011\n",
      "             X9        0.008        0.087        0.017        0.129        0.085\n",
      "            X10        0.057        0.233        0.072        0.259        0.059\n",
      "            X11        0.006        0.078        0.006        0.078        0.001\n",
      "            X12        0.629        0.483        0.588        0.493       -0.085\n",
      "            X13        0.218        0.413        0.271        0.445        0.124\n",
      "            X14        0.027        0.163        0.017        0.129       -0.071\n",
      "            X15        0.027        0.163        0.020        0.140       -0.048\n",
      "            X16        0.023        0.149        0.028        0.164        0.031\n",
      "            X17        0.076        0.265        0.077        0.266        0.003\n",
      "            X18        5.277        6.584        5.613        6.748        0.050\n",
      "\n"
     ]
    }
   ],
   "source": [
    "# Trimming\n",
    "\n",
    "causal.trim_s()\n",
    "causal.cutoff\n",
    "print (causal.summary_stats)"
   ]
  },
  {
   "cell_type": "markdown",
   "metadata": {},
   "source": [
    "To improve the credibility of the treatment effects, we stratified the sample into blocks of people who have more similar covariate values. This resulted in 7 strata. The propensity score ranges of the different strata are reported below, and summary statistics are included for the first two strata. "
   ]
  },
  {
   "cell_type": "code",
   "execution_count": 6,
   "metadata": {},
   "outputs": [
    {
     "ename": "RuntimeError",
     "evalue": "maximum recursion depth exceeded while calling a Python object",
     "output_type": "error",
     "traceback": [
      "\u001b[0;31m---------------------------------------------------------------------------\u001b[0m",
      "\u001b[0;31mRuntimeError\u001b[0m                              Traceback (most recent call last)",
      "\u001b[0;32m<ipython-input-6-832073f2644e>\u001b[0m in \u001b[0;36m<module>\u001b[0;34m()\u001b[0m\n\u001b[0;32m----> 1\u001b[0;31m \u001b[0mcausal\u001b[0m\u001b[0;34m.\u001b[0m\u001b[0mstratify_s\u001b[0m\u001b[0;34m(\u001b[0m\u001b[0;34m)\u001b[0m\u001b[0;34m\u001b[0m\u001b[0m\n\u001b[0m\u001b[1;32m      2\u001b[0m \u001b[0;34m\u001b[0m\u001b[0m\n\u001b[1;32m      3\u001b[0m \u001b[0;32mprint\u001b[0m\u001b[0;34m(\u001b[0m\u001b[0mcausal\u001b[0m\u001b[0;34m.\u001b[0m\u001b[0mstrata\u001b[0m\u001b[0;34m)\u001b[0m\u001b[0;34m\u001b[0m\u001b[0m\n\u001b[1;32m      4\u001b[0m \u001b[0;32mprint\u001b[0m\u001b[0;34m(\u001b[0m\u001b[0mcausal\u001b[0m\u001b[0;34m.\u001b[0m\u001b[0mstrata\u001b[0m\u001b[0;34m[\u001b[0m\u001b[0;36m0\u001b[0m\u001b[0;34m]\u001b[0m\u001b[0;34m.\u001b[0m\u001b[0msummary_stats\u001b[0m\u001b[0;34m)\u001b[0m\u001b[0;34m\u001b[0m\u001b[0m\n\u001b[1;32m      5\u001b[0m \u001b[0;32mprint\u001b[0m\u001b[0;34m(\u001b[0m\u001b[0mcausal\u001b[0m\u001b[0;34m.\u001b[0m\u001b[0mstrata\u001b[0m\u001b[0;34m[\u001b[0m\u001b[0;36m1\u001b[0m\u001b[0;34m]\u001b[0m\u001b[0;34m.\u001b[0m\u001b[0msummary_stats\u001b[0m\u001b[0;34m)\u001b[0m\u001b[0;34m\u001b[0m\u001b[0m\n",
      "\u001b[0;32m/home/ecf384/.conda/envs/eureka2/lib/python2.7/site-packages/causalinference/causal.pyc\u001b[0m in \u001b[0;36mstratify_s\u001b[0;34m(self)\u001b[0m\n\u001b[1;32m    225\u001b[0m                 \u001b[0mK\u001b[0m \u001b[0;34m=\u001b[0m \u001b[0mself\u001b[0m\u001b[0;34m.\u001b[0m\u001b[0mraw_data\u001b[0m\u001b[0;34m[\u001b[0m\u001b[0;34m'K'\u001b[0m\u001b[0;34m]\u001b[0m\u001b[0;34m\u001b[0m\u001b[0m\n\u001b[1;32m    226\u001b[0m \u001b[0;34m\u001b[0m\u001b[0m\n\u001b[0;32m--> 227\u001b[0;31m                 \u001b[0mblocks_uniq\u001b[0m \u001b[0;34m=\u001b[0m \u001b[0mset\u001b[0m\u001b[0;34m(\u001b[0m\u001b[0mselect_blocks\u001b[0m\u001b[0;34m(\u001b[0m\u001b[0mpscore\u001b[0m\u001b[0;34m,\u001b[0m \u001b[0mlogodds\u001b[0m\u001b[0;34m,\u001b[0m \u001b[0mD\u001b[0m\u001b[0;34m,\u001b[0m \u001b[0mK\u001b[0m\u001b[0;34m,\u001b[0m \u001b[0;36m0\u001b[0m\u001b[0;34m,\u001b[0m \u001b[0;36m1\u001b[0m\u001b[0;34m)\u001b[0m\u001b[0;34m)\u001b[0m\u001b[0;34m\u001b[0m\u001b[0m\n\u001b[0m\u001b[1;32m    228\u001b[0m                 \u001b[0mself\u001b[0m\u001b[0;34m.\u001b[0m\u001b[0mblocks\u001b[0m \u001b[0;34m=\u001b[0m \u001b[0msorted\u001b[0m\u001b[0;34m(\u001b[0m\u001b[0mblocks_uniq\u001b[0m\u001b[0;34m)\u001b[0m\u001b[0;34m\u001b[0m\u001b[0m\n\u001b[1;32m    229\u001b[0m                 \u001b[0mself\u001b[0m\u001b[0;34m.\u001b[0m\u001b[0mstratify\u001b[0m\u001b[0;34m(\u001b[0m\u001b[0;34m)\u001b[0m\u001b[0;34m\u001b[0m\u001b[0m\n",
      "\u001b[0;32m/home/ecf384/.conda/envs/eureka2/lib/python2.7/site-packages/causalinference/causal.pyc\u001b[0m in \u001b[0;36mselect_blocks\u001b[0;34m(pscore, logodds, D, K, p_low, p_high)\u001b[0m\n\u001b[1;32m    433\u001b[0m         \u001b[0mhigh\u001b[0m \u001b[0;34m=\u001b[0m \u001b[0mpscore\u001b[0m\u001b[0;34m[\u001b[0m\u001b[0mscope\u001b[0m\u001b[0;34m]\u001b[0m\u001b[0;34m[\u001b[0m\u001b[0;34m-\u001b[0m\u001b[0;36m1\u001b[0m\u001b[0;34m]\u001b[0m\u001b[0;34m\u001b[0m\u001b[0m\n\u001b[1;32m    434\u001b[0m \u001b[0;34m\u001b[0m\u001b[0m\n\u001b[0;32m--> 435\u001b[0;31m         \u001b[0;32mreturn\u001b[0m \u001b[0mselect_blocks\u001b[0m\u001b[0;34m(\u001b[0m\u001b[0mpscore\u001b[0m\u001b[0;34m,\u001b[0m \u001b[0mlogodds\u001b[0m\u001b[0;34m,\u001b[0m \u001b[0mD\u001b[0m\u001b[0;34m,\u001b[0m \u001b[0mK\u001b[0m\u001b[0;34m,\u001b[0m \u001b[0mlow\u001b[0m\u001b[0;34m,\u001b[0m \u001b[0mmid\u001b[0m\u001b[0;34m)\u001b[0m \u001b[0;34m+\u001b[0m\u001b[0;31m \u001b[0m\u001b[0;31m\\\u001b[0m\u001b[0;34m\u001b[0m\u001b[0m\n\u001b[0m\u001b[1;32m    436\u001b[0m                \u001b[0mselect_blocks\u001b[0m\u001b[0;34m(\u001b[0m\u001b[0mpscore\u001b[0m\u001b[0;34m,\u001b[0m \u001b[0mlogodds\u001b[0m\u001b[0;34m,\u001b[0m \u001b[0mD\u001b[0m\u001b[0;34m,\u001b[0m \u001b[0mK\u001b[0m\u001b[0;34m,\u001b[0m \u001b[0mmid\u001b[0m\u001b[0;34m,\u001b[0m \u001b[0mhigh\u001b[0m\u001b[0;34m)\u001b[0m\u001b[0;34m\u001b[0m\u001b[0m\n\u001b[1;32m    437\u001b[0m \u001b[0;34m\u001b[0m\u001b[0m\n",
      "... last 1 frames repeated, from the frame below ...\n",
      "\u001b[0;32m/home/ecf384/.conda/envs/eureka2/lib/python2.7/site-packages/causalinference/causal.pyc\u001b[0m in \u001b[0;36mselect_blocks\u001b[0;34m(pscore, logodds, D, K, p_low, p_high)\u001b[0m\n\u001b[1;32m    433\u001b[0m         \u001b[0mhigh\u001b[0m \u001b[0;34m=\u001b[0m \u001b[0mpscore\u001b[0m\u001b[0;34m[\u001b[0m\u001b[0mscope\u001b[0m\u001b[0;34m]\u001b[0m\u001b[0;34m[\u001b[0m\u001b[0;34m-\u001b[0m\u001b[0;36m1\u001b[0m\u001b[0;34m]\u001b[0m\u001b[0;34m\u001b[0m\u001b[0m\n\u001b[1;32m    434\u001b[0m \u001b[0;34m\u001b[0m\u001b[0m\n\u001b[0;32m--> 435\u001b[0;31m         \u001b[0;32mreturn\u001b[0m \u001b[0mselect_blocks\u001b[0m\u001b[0;34m(\u001b[0m\u001b[0mpscore\u001b[0m\u001b[0;34m,\u001b[0m \u001b[0mlogodds\u001b[0m\u001b[0;34m,\u001b[0m \u001b[0mD\u001b[0m\u001b[0;34m,\u001b[0m \u001b[0mK\u001b[0m\u001b[0;34m,\u001b[0m \u001b[0mlow\u001b[0m\u001b[0;34m,\u001b[0m \u001b[0mmid\u001b[0m\u001b[0;34m)\u001b[0m \u001b[0;34m+\u001b[0m\u001b[0;31m \u001b[0m\u001b[0;31m\\\u001b[0m\u001b[0;34m\u001b[0m\u001b[0m\n\u001b[0m\u001b[1;32m    436\u001b[0m                \u001b[0mselect_blocks\u001b[0m\u001b[0;34m(\u001b[0m\u001b[0mpscore\u001b[0m\u001b[0;34m,\u001b[0m \u001b[0mlogodds\u001b[0m\u001b[0;34m,\u001b[0m \u001b[0mD\u001b[0m\u001b[0;34m,\u001b[0m \u001b[0mK\u001b[0m\u001b[0;34m,\u001b[0m \u001b[0mmid\u001b[0m\u001b[0;34m,\u001b[0m \u001b[0mhigh\u001b[0m\u001b[0;34m)\u001b[0m\u001b[0;34m\u001b[0m\u001b[0m\n\u001b[1;32m    437\u001b[0m \u001b[0;34m\u001b[0m\u001b[0m\n",
      "\u001b[0;31mRuntimeError\u001b[0m: maximum recursion depth exceeded while calling a Python object"
     ]
    }
   ],
   "source": [
    "causal.stratify_s()\n",
    "\n",
    "print(causal.strata)\n",
    "print(causal.strata[0].summary_stats)\n",
    "print(causal.strata[1].summary_stats)"
   ]
  },
  {
   "cell_type": "markdown",
   "metadata": {},
   "source": [
    "Lastly, we estimated the effect of the treatment (i.e., being a woman on Upwork in the United States) on average hourly bill rate using least square estimation, weighting, and matching. Across all estimation techniques, we found that women posted significantly lower average hourly bill rates compared to men (p < 0.05). "
   ]
  },
  {
   "cell_type": "code",
   "execution_count": 7,
   "metadata": {},
   "outputs": [
    {
     "name": "stdout",
     "output_type": "stream",
     "text": [
      "\n",
      "Treatment Effect Estimates: Weighting\n",
      "\n",
      "                     Est.       S.e.          z      P>|z|      [95% Conf. int.]\n",
      "--------------------------------------------------------------------------------\n",
      "           ATE     -2.991      1.266     -2.363      0.018     -5.472     -0.510\n",
      "\n",
      "Treatment Effect Estimates: OLS\n",
      "\n",
      "                     Est.       S.e.          z      P>|z|      [95% Conf. int.]\n",
      "--------------------------------------------------------------------------------\n",
      "           ATE     -3.003      1.215     -2.471      0.013     -5.385     -0.621\n",
      "           ATC     -3.509      1.430     -2.454      0.014     -6.311     -0.706\n",
      "           ATT     -2.491      1.219     -2.043      0.041     -4.881     -0.101\n",
      "\n",
      "Treatment Effect Estimates: Matching\n",
      "\n",
      "                     Est.       S.e.          z      P>|z|      [95% Conf. int.]\n",
      "--------------------------------------------------------------------------------\n",
      "           ATE     -4.068      1.650     -2.465      0.014     -7.302     -0.833\n",
      "           ATC     -4.795      1.969     -2.435      0.015     -8.655     -0.935\n",
      "           ATT     -3.332      1.839     -1.811      0.070     -6.937      0.273\n",
      "\n"
     ]
    }
   ],
   "source": [
    "# Treatment effect estimation\n",
    "\n",
    "causal.est_via_ols()\n",
    "causal.est_via_weighting()\n",
    "causal.est_via_matching(bias_adj=True)\n",
    "print(causal.estimates)"
   ]
  },
  {
   "cell_type": "markdown",
   "metadata": {},
   "source": [
    "# Descriptive Statistics"
   ]
  },
  {
   "cell_type": "markdown",
   "metadata": {},
   "source": [
    "# Average Bill Rate by Gender"
   ]
  },
  {
   "cell_type": "code",
   "execution_count": 8,
   "metadata": {},
   "outputs": [
    {
     "name": "stdout",
     "output_type": "stream",
     "text": [
      "Mean bill rates\n",
      "gender\n",
      "female    32.674089\n",
      "male      38.117050\n",
      "Name: bill_rate, dtype: float64\n",
      "Standard deviation of bill rates\n",
      "gender\n",
      "female    19.950654\n",
      "male      22.535993\n",
      "Name: bill_rate, dtype: float64\n"
     ]
    }
   ],
   "source": [
    "gender_table= merged.groupby('gender')['bill_rate'].mean()\n",
    "print \"Mean bill rates\"\n",
    "print gender_table\n",
    "\n",
    "gender_table= merged.groupby('gender')['bill_rate'].std()\n",
    "print \"Standard deviation of bill rates\"\n",
    "print gender_table"
   ]
  },
  {
   "cell_type": "markdown",
   "metadata": {},
   "source": [
    "# Distribution of Bill Rate by Gender\n",
    "\n",
    "The distribution of bill rate between men and women on Upwork is described below. The range of bill rates for women was smaller (range = 192) than the range of bill rates for men (range = 996). The overall distribution of bill rates for men and women is also described below. "
   ]
  },
  {
   "cell_type": "code",
   "execution_count": 9,
   "metadata": {},
   "outputs": [
    {
     "name": "stdout",
     "output_type": "stream",
     "text": [
      "Overall bill rate minimum: $3.0\n",
      "Overall bill rate maximum: $120.0\n",
      "Overall bill rate range: $117.0\n"
     ]
    },
    {
     "data": {
      "text/plain": [
       "array([[<matplotlib.axes._subplots.AxesSubplot object at 0x7f72e43bda90>]], dtype=object)"
      ]
     },
     "execution_count": 9,
     "metadata": {},
     "output_type": "execute_result"
    },
    {
     "data": {
      "image/png": "[encoded data removed]",
      "text/plain": [
       "<matplotlib.figure.Figure at 0x7f72e43bd4d0>"
      ]
     },
     "metadata": {},
     "output_type": "display_data"
    }
   ],
   "source": [
    "all_bill_rates = merged['bill_rate']\n",
    "\n",
    "all_bill_range = np.ptp(all_bill_rates)\n",
    "all_bill_min = np.amin(all_bill_rates)\n",
    "all_bill_max = np.amax(all_bill_rates)\n",
    "\n",
    "print (\"Overall bill rate minimum: ${0}\".format(all_bill_min))\n",
    "print(\"Overall bill rate maximum: ${0}\".format(all_bill_max))\n",
    "print(\"Overall bill rate range: ${0}\".format(all_bill_range))\n",
    "\n",
    "merged.hist(column='bill_rate', figsize=(8,8), color=\"purple\", bins=50)"
   ]
  },
  {
   "cell_type": "code",
   "execution_count": 10,
   "metadata": {},
   "outputs": [
    {
     "name": "stdout",
     "output_type": "stream",
     "text": [
      "Female bill rate minimum: $3.0\n",
      "Female bill rate maximum: $100.0\n",
      "Female bill rate range: $97.0\n"
     ]
    },
    {
     "data": {
      "text/plain": [
       "array([[<matplotlib.axes._subplots.AxesSubplot object at 0x7f72e4398b90>]], dtype=object)"
      ]
     },
     "execution_count": 10,
     "metadata": {},
     "output_type": "execute_result"
    },
    {
     "data": {
      "image/png": "[encoded data removed]",
      "text/plain": [
       "<matplotlib.figure.Figure at 0x7f72e423eb90>"
      ]
     },
     "metadata": {},
     "output_type": "display_data"
    }
   ],
   "source": [
    "female_bill_rates = merged[merged['gender'] == 'female']['bill_rate']\n",
    "\n",
    "female_bill_range = np.ptp(female_bill_rates)\n",
    "female_bill_min = np.amin(female_bill_rates)\n",
    "female_bill_max = np.amax(female_bill_rates)\n",
    "\n",
    "female_df = merged[merged['gender'] == 'female']\n",
    "\n",
    "print (\"Female bill rate minimum: ${0}\".format(female_bill_min))\n",
    "print(\"Female bill rate maximum: ${0}\".format(female_bill_max))\n",
    "print(\"Female bill rate range: ${0}\".format(female_bill_range))\n",
    "\n",
    "female_df.hist(column='bill_rate', figsize=(8,8), color=\"red\", bins=50)"
   ]
  },
  {
   "cell_type": "code",
   "execution_count": 11,
   "metadata": {},
   "outputs": [
    {
     "name": "stdout",
     "output_type": "stream",
     "text": [
      "Male bill rate minimum: $3.0\n",
      "Male bill rate maximum: $120.0\n",
      "Male bill rate range: $117.0\n"
     ]
    },
    {
     "data": {
      "text/plain": [
       "array([[<matplotlib.axes._subplots.AxesSubplot object at 0x7f72aa3cf790>]], dtype=object)"
      ]
     },
     "execution_count": 11,
     "metadata": {},
     "output_type": "execute_result"
    },
    {
     "data": {
      "image/png": "[encoded data removed]",
      "text/plain": [
       "<matplotlib.figure.Figure at 0x7f72e43eb750>"
      ]
     },
     "metadata": {},
     "output_type": "display_data"
    }
   ],
   "source": [
    "male_bill_rates = merged[merged['gender'] == 'male']['bill_rate']\n",
    "\n",
    "male_bill_range = np.ptp(male_bill_rates)\n",
    "male_bill_min = np.amin(male_bill_rates)\n",
    "male_bill_max = np.amax(male_bill_rates)\n",
    "\n",
    "male_df = merged[merged['gender'] == 'male']\n",
    "\n",
    "print (\"Male bill rate minimum: ${0}\".format(male_bill_min))\n",
    "print(\"Male bill rate maximum: ${0}\".format(male_bill_max))\n",
    "print(\"Male bill rate range: ${0}\".format(male_bill_range))\n",
    "\n",
    "male_df.hist(column='bill_rate', figsize=(8,8), color=\"blue\", bins=50)"
   ]
  },
  {
   "cell_type": "markdown",
   "metadata": {},
   "source": [
    "# Removing Outliers from Male and Female Sample"
   ]
  },
  {
   "cell_type": "markdown",
   "metadata": {},
   "source": [
    "Noticing the large range of bill rates for male workers on Upwork, we removed outliers whose bill rate was more or less than two standard deviations of the average bill rate for male and female workers. In this revised sample, the average hourly bill rate for men was USD \\$44.70 (std = USD \\$49.82), and the range was USD \\$122.00. For women, the average hourly bill rate was USD \\$35.29 (std = USD \\$26.09), and the range was USD \\$82.00. "
   ]
  },
  {
   "cell_type": "code",
   "execution_count": 12,
   "metadata": {},
   "outputs": [
    {
     "name": "stdout",
     "output_type": "stream",
     "text": [
      "Male bill rate average: 38.1170499244\n",
      "Male bill rate standard deviation: 22.5189397021\n",
      "Male bill rate minimum: $3.0\n",
      "Male bill rate maximum: $80.0\n",
      "Male bill rate range: $77.0\n"
     ]
    },
    {
     "name": "stderr",
     "output_type": "stream",
     "text": [
      "/home/ecf384/.conda/envs/eureka2/lib/python2.7/site-packages/ipykernel_launcher.py:6: UserWarning: Boolean Series key will be reindexed to match DataFrame index.\n",
      "  \n",
      "/home/ecf384/.conda/envs/eureka2/lib/python2.7/site-packages/ipykernel_launcher.py:7: UserWarning: Boolean Series key will be reindexed to match DataFrame index.\n",
      "  import sys\n"
     ]
    },
    {
     "data": {
      "text/plain": [
       "array([[<matplotlib.axes._subplots.AxesSubplot object at 0x7f72aa1eaa10>]], dtype=object)"
      ]
     },
     "execution_count": 12,
     "metadata": {},
     "output_type": "execute_result"
    },
    {
     "data": {
      "image/png": "[encoded data removed]",
      "text/plain": [
       "<matplotlib.figure.Figure at 0x7f72aa209150>"
      ]
     },
     "metadata": {},
     "output_type": "display_data"
    }
   ],
   "source": [
    "male_sd = np.std(merged[merged['gender'] == 'male']['bill_rate'])\n",
    "male_mean = np.mean(merged[merged['gender'] == 'male']['bill_rate'])\n",
    "print(\"Male bill rate average: {0}\".format(male_mean))\n",
    "print(\"Male bill rate standard deviation: {0}\".format(male_sd))\n",
    "male_no_outliers_df = merged[merged['gender'] == 'male']\n",
    "male_no_outliers_df = male_no_outliers_df[merged['bill_rate'] > male_mean - 2 * male_sd]\n",
    "male_no_outliers_df = male_no_outliers_df[merged['bill_rate'] < male_mean + 2 * male_sd]\n",
    "\n",
    "male_bill_range = np.ptp(male_no_outliers_df['bill_rate'])\n",
    "male_bill_min = np.amin(male_no_outliers_df['bill_rate'])\n",
    "male_bill_max = np.amax(male_no_outliers_df['bill_rate'])\n",
    "\n",
    "print (\"Male bill rate minimum: ${0}\".format(male_bill_min))\n",
    "print(\"Male bill rate maximum: ${0}\".format(male_bill_max))\n",
    "print(\"Male bill rate range: ${0}\".format(male_bill_range))\n",
    "\n",
    "male_no_outliers_df.hist(column='bill_rate', figsize=(8,8), color=\"blue\", bins=50)"
   ]
  },
  {
   "cell_type": "code",
   "execution_count": 13,
   "metadata": {},
   "outputs": [
    {
     "name": "stdout",
     "output_type": "stream",
     "text": [
      "Female bill rate average: 32.6740888208\n",
      "Female bill rate standard deviation: 19.9353718812\n",
      "Female bill rate minimum: $3.0\n",
      "Female bill rate maximum: $70.0\n",
      "Female bill rate range: $67.0\n"
     ]
    },
    {
     "name": "stderr",
     "output_type": "stream",
     "text": [
      "/home/ecf384/.conda/envs/eureka2/lib/python2.7/site-packages/ipykernel_launcher.py:6: UserWarning: Boolean Series key will be reindexed to match DataFrame index.\n",
      "  \n",
      "/home/ecf384/.conda/envs/eureka2/lib/python2.7/site-packages/ipykernel_launcher.py:7: UserWarning: Boolean Series key will be reindexed to match DataFrame index.\n",
      "  import sys\n"
     ]
    },
    {
     "data": {
      "text/plain": [
       "array([[<matplotlib.axes._subplots.AxesSubplot object at 0x7f72a9fa8450>]], dtype=object)"
      ]
     },
     "execution_count": 13,
     "metadata": {},
     "output_type": "execute_result"
    },
    {
     "data": {
      "image/png": "[encoded data removed]",
      "text/plain": [
       "<matplotlib.figure.Figure at 0x7f72a9fb2bd0>"
      ]
     },
     "metadata": {},
     "output_type": "display_data"
    }
   ],
   "source": [
    "female_sd = np.std(merged[merged['gender'] == 'female']['bill_rate'])\n",
    "female_mean = np.mean(merged[merged['gender'] == 'female']['bill_rate'])\n",
    "print(\"Female bill rate average: {0}\".format(female_mean))\n",
    "print(\"Female bill rate standard deviation: {0}\".format(female_sd))\n",
    "female_no_outliers_df = merged[merged['gender'] == 'female']\n",
    "female_no_outliers_df = female_no_outliers_df[merged['bill_rate'] > female_mean - 2 * female_sd]\n",
    "female_no_outliers_df = female_no_outliers_df[merged['bill_rate'] < female_mean + 2 * female_sd]\n",
    "\n",
    "female_bill_range = np.ptp(female_no_outliers_df['bill_rate'])\n",
    "female_bill_min = np.amin(female_no_outliers_df['bill_rate'])\n",
    "female_bill_max = np.amax(female_no_outliers_df['bill_rate'])\n",
    "\n",
    "print (\"Female bill rate minimum: ${0}\".format(female_bill_min))\n",
    "print(\"Female bill rate maximum: ${0}\".format(female_bill_max))\n",
    "print(\"Female bill rate range: ${0}\".format(female_bill_range))\n",
    "\n",
    "female_no_outliers_df.hist(column='bill_rate', figsize=(8,8), color=\"red\", bins=50)"
   ]
  },
  {
   "cell_type": "markdown",
   "metadata": {},
   "source": [
    "# Bill Rate Across Job Categories"
   ]
  },
  {
   "cell_type": "code",
   "execution_count": 14,
   "metadata": {
    "scrolled": true
   },
   "outputs": [
    {
     "data": {
      "text/plain": [
       "<matplotlib.axes._subplots.AxesSubplot at 0x7f72aa18acd0>"
      ]
     },
     "execution_count": 14,
     "metadata": {},
     "output_type": "execute_result"
    },
    {
     "data": {
      "image/png": "[encoded data removed]",
      "text/plain": [
       "<matplotlib.figure.Figure at 0x7f7301003ed0>"
      ]
     },
     "metadata": {},
     "output_type": "display_data"
    }
   ],
   "source": [
    "gender_table= merged.groupby('job_category')['bill_rate'].mean()\n",
    "gender_table.plot(kind=\"bar\", figsize=(8,8))"
   ]
  },
  {
   "cell_type": "markdown",
   "metadata": {},
   "source": [
    "# Distribution of Covariates\n",
    "\n",
    "Below we report on the distribution of the covariate values for the sample. "
   ]
  },
  {
   "cell_type": "markdown",
   "metadata": {},
   "source": [
    "# Highest Level of Education by Gender"
   ]
  },
  {
   "cell_type": "code",
   "execution_count": 15,
   "metadata": {},
   "outputs": [
    {
     "data": {
      "text/plain": [
       "<matplotlib.axes._subplots.AxesSubplot at 0x7f72a9d12ad0>"
      ]
     },
     "execution_count": 15,
     "metadata": {},
     "output_type": "execute_result"
    },
    {
     "data": {
      "image/png": "[encoded data removed]",
      "text/plain": [
       "<matplotlib.figure.Figure at 0x7f72aa16efd0>"
      ]
     },
     "metadata": {},
     "output_type": "display_data"
    }
   ],
   "source": [
    "education_table = pd.crosstab(merged['education'], merged['gender'])\n",
    "education_table.plot(kind=\"bar\", figsize=(8,8))"
   ]
  },
  {
   "cell_type": "markdown",
   "metadata": {},
   "source": [
    "# Primary Job Category by Gender"
   ]
  },
  {
   "cell_type": "code",
   "execution_count": 16,
   "metadata": {},
   "outputs": [
    {
     "data": {
      "text/plain": [
       "<matplotlib.axes._subplots.AxesSubplot at 0x7f72a9c71650>"
      ]
     },
     "execution_count": 16,
     "metadata": {},
     "output_type": "execute_result"
    },
    {
     "data": {
      "image/png": "[encoded data removed]",
      "text/plain": [
       "<matplotlib.figure.Figure at 0x7f72a9bc47d0>"
      ]
     },
     "metadata": {},
     "output_type": "display_data"
    }
   ],
   "source": [
    "job_category_table = pd.crosstab(merged['job_category'], merged['gender'])\n",
    "job_category_table.plot(kind=\"bar\", figsize=(8,8))"
   ]
  },
  {
   "cell_type": "markdown",
   "metadata": {},
   "source": [
    "# Distribution of Work Experience by Gender"
   ]
  },
  {
   "cell_type": "markdown",
   "metadata": {},
   "source": [
    "Distribution of work experience (years) for men and women in the U.S. on Upwork"
   ]
  },
  {
   "cell_type": "code",
   "execution_count": 17,
   "metadata": {},
   "outputs": [
    {
     "data": {
      "text/plain": [
       "array([[<matplotlib.axes._subplots.AxesSubplot object at 0x7f72a9a7aa50>]], dtype=object)"
      ]
     },
     "execution_count": 17,
     "metadata": {},
     "output_type": "execute_result"
    },
    {
     "data": {
      "image/png": "[encoded data removed]",
      "text/plain": [
       "<matplotlib.figure.Figure at 0x7f72a9a83b10>"
      ]
     },
     "metadata": {},
     "output_type": "display_data"
    }
   ],
   "source": [
    "# Get work experience distribution \n",
    "merged.hist(column='work_experience', figsize=(8,8), color=\"purple\", bins=50)"
   ]
  },
  {
   "cell_type": "code",
   "execution_count": 18,
   "metadata": {},
   "outputs": [
    {
     "data": {
      "text/plain": [
       "array([[<matplotlib.axes._subplots.AxesSubplot object at 0x7f72a9991a10>]], dtype=object)"
      ]
     },
     "execution_count": 18,
     "metadata": {},
     "output_type": "execute_result"
    },
    {
     "data": {
      "image/png": "[encoded data removed]",
      "text/plain": [
       "<matplotlib.figure.Figure at 0x7f72a98c5610>"
      ]
     },
     "metadata": {},
     "output_type": "display_data"
    }
   ],
   "source": [
    "# Work experience distribution for women \n",
    "female_df = merged[merged['gender'] == 'female']\n",
    "female_df.hist(column='work_experience', figsize=(8,8), color=\"red\", bins=50)"
   ]
  },
  {
   "cell_type": "code",
   "execution_count": 19,
   "metadata": {
    "scrolled": true
   },
   "outputs": [
    {
     "data": {
      "text/plain": [
       "array([[<matplotlib.axes._subplots.AxesSubplot object at 0x7f72a96b9f10>]], dtype=object)"
      ]
     },
     "execution_count": 19,
     "metadata": {},
     "output_type": "execute_result"
    },
    {
     "data": {
      "image/png": "[encoded data removed]",
      "text/plain": [
       "<matplotlib.figure.Figure at 0x7f72a96cb210>"
      ]
     },
     "metadata": {},
     "output_type": "display_data"
    }
   ],
   "source": [
    "# Work experience distribution for men \n",
    "male_df = merged[merged['gender'] == 'male']\n",
    "male_df.hist(column='work_experience', figsize=(8,8), color=\"blue\", bins=50)"
   ]
  },
  {
   "cell_type": "markdown",
   "metadata": {},
   "source": [
    "# Additional Analyses for Evaluating Statistical Significance"
   ]
  },
  {
   "cell_type": "markdown",
   "metadata": {},
   "source": [
    "# Comparing Average Bill Rate Across Genders"
   ]
  },
  {
   "cell_type": "markdown",
   "metadata": {},
   "source": [
    "Average bill rate is significantly different between men and women in the U.S. on Upwork (p < 0.001). "
   ]
  },
  {
   "cell_type": "code",
   "execution_count": 20,
   "metadata": {
    "scrolled": true
   },
   "outputs": [
    {
     "name": "stdout",
     "output_type": "stream",
     "text": [
      "                            OLS Regression Results                            \n",
      "==============================================================================\n",
      "Dep. Variable:              bill_rate   R-squared:                       0.016\n",
      "Model:                            OLS   Adj. R-squared:                  0.015\n",
      "Method:                 Least Squares   F-statistic:                     21.47\n",
      "Date:                Fri, 01 Dec 2017   Prob (F-statistic):           3.95e-06\n",
      "Time:                        14:01:09   Log-Likelihood:                -5882.0\n",
      "No. Observations:                1314   AIC:                         1.177e+04\n",
      "Df Residuals:                    1312   BIC:                         1.178e+04\n",
      "Df Model:                           1                                         \n",
      "Covariance Type:            nonrobust                                         \n",
      "==================================================================================\n",
      "                     coef    std err          t      P>|t|      [0.025      0.975]\n",
      "----------------------------------------------------------------------------------\n",
      "Intercept         32.6741      0.833     39.217      0.000      31.040      34.309\n",
      "gender[T.male]     5.4430      1.175      4.634      0.000       3.138       7.747\n",
      "==============================================================================\n",
      "Omnibus:                      242.461   Durbin-Watson:                   1.939\n",
      "Prob(Omnibus):                  0.000   Jarque-Bera (JB):              404.381\n",
      "Skew:                           1.192   Prob(JB):                     1.55e-88\n",
      "Kurtosis:                       4.305   Cond. No.                         2.63\n",
      "==============================================================================\n",
      "\n",
      "Warnings:\n",
      "[1] Standard Errors assume that the covariance matrix of the errors is correctly specified.\n",
      "                 sum_sq      df         F    PR(>F)\n",
      "gender      9731.722961     1.0  21.46934  0.000004\n",
      "Residual  594709.489530  1312.0       NaN       NaN\n"
     ]
    }
   ],
   "source": [
    "# Computing statistical significance of bill rate between men and women on Upwork\n",
    "model = ols(\"bill_rate ~ gender\", merged).fit()\n",
    "anova_table = sm.stats.anova_lm(model, typ=2)\n",
    "print(model.summary())\n",
    "print anova_table"
   ]
  },
  {
   "cell_type": "markdown",
   "metadata": {},
   "source": [
    "# Comparing Average Bill Rate Across Job Categories"
   ]
  },
  {
   "cell_type": "markdown",
   "metadata": {},
   "source": [
    "Average bill rate is significantly different between workers in different job categories in the U.S. on Upwork (p < 0.001). "
   ]
  },
  {
   "cell_type": "code",
   "execution_count": 21,
   "metadata": {
    "scrolled": true
   },
   "outputs": [
    {
     "name": "stdout",
     "output_type": "stream",
     "text": [
      "                            OLS Regression Results                            \n",
      "==============================================================================\n",
      "Dep. Variable:              bill_rate   R-squared:                       0.094\n",
      "Model:                            OLS   Adj. R-squared:                  0.086\n",
      "Method:                 Least Squares   F-statistic:                     12.25\n",
      "Date:                Fri, 01 Dec 2017   Prob (F-statistic):           3.18e-22\n",
      "Time:                        14:01:10   Log-Likelihood:                -5828.0\n",
      "No. Observations:                1314   AIC:                         1.168e+04\n",
      "Df Residuals:                    1302   BIC:                         1.174e+04\n",
      "Df Model:                          11                                         \n",
      "Covariance Type:            nonrobust                                         \n",
      "==============================================================================================================\n",
      "                                                 coef    std err          t      P>|t|      [0.025      0.975]\n",
      "--------------------------------------------------------------------------------------------------------------\n",
      "Intercept                                     47.0564      2.451     19.195      0.000      42.247      51.866\n",
      "job_category[T.Admin Support]                -22.1961      2.995     -7.410      0.000     -28.072     -16.320\n",
      "job_category[T.Customer Service]             -21.6364      5.684     -3.807      0.000     -32.786     -10.487\n",
      "job_category[T.Data Science & Analytics]      -5.7685      3.715     -1.553      0.121     -13.056       1.519\n",
      "job_category[T.Design & Creative]            -11.8116      2.685     -4.399      0.000     -17.079      -6.544\n",
      "job_category[T.Engineering & Architecture]    -1.6885      4.852     -0.348      0.728     -11.206       7.829\n",
      "job_category[T.IT & Networking]               -6.8814      4.065     -1.693      0.091     -14.857       1.094\n",
      "job_category[T.Legal]                          7.5686      7.655      0.989      0.323      -7.448      22.586\n",
      "job_category[T.Sales & Marketing]             -1.6160      3.310     -0.488      0.626      -8.110       4.878\n",
      "job_category[T.Translation]                  -22.3800      3.776     -5.927      0.000     -29.788     -14.972\n",
      "job_category[T.Web, Mobile & Software Dev]    -7.3074      2.894     -2.525      0.012     -12.984      -1.631\n",
      "job_category[T.Writing]                      -15.2900      2.727     -5.607      0.000     -20.640      -9.940\n",
      "==============================================================================\n",
      "Omnibus:                      255.701   Durbin-Watson:                   1.932\n",
      "Prob(Omnibus):                  0.000   Jarque-Bera (JB):              464.971\n",
      "Skew:                           1.187   Prob(JB):                    1.08e-101\n",
      "Kurtosis:                       4.690   Cond. No.                         17.9\n",
      "==============================================================================\n",
      "\n",
      "Warnings:\n",
      "[1] Standard Errors assume that the covariance matrix of the errors is correctly specified.\n",
      "                     sum_sq      df          F        PR(>F)\n",
      "job_category   56707.511343    11.0  12.254326  3.180441e-22\n",
      "Residual      547733.701148  1302.0        NaN           NaN\n"
     ]
    }
   ],
   "source": [
    "# Computing statistical significance of bill rate between people from different job categories on Upwork worldwide\n",
    "model = ols(\"bill_rate ~ job_category\", merged).fit()\n",
    "anova_table = sm.stats.anova_lm(model, typ=2)\n",
    "print(model.summary())\n",
    "print anova_table"
   ]
  },
  {
   "cell_type": "markdown",
   "metadata": {},
   "source": [
    "# Comparing Average Bill Rate Across Highest Levels of Education"
   ]
  },
  {
   "cell_type": "markdown",
   "metadata": {},
   "source": [
    "Average bill rate is significantly different between workers with different highest levels of education (p < 0.01)."
   ]
  },
  {
   "cell_type": "code",
   "execution_count": 22,
   "metadata": {},
   "outputs": [
    {
     "name": "stdout",
     "output_type": "stream",
     "text": [
      "                            OLS Regression Results                            \n",
      "==============================================================================\n",
      "Dep. Variable:              bill_rate   R-squared:                       0.030\n",
      "Model:                            OLS   Adj. R-squared:                  0.027\n",
      "Method:                 Least Squares   F-statistic:                     8.189\n",
      "Date:                Fri, 01 Dec 2017   Prob (F-statistic):           1.26e-07\n",
      "Time:                        14:01:12   Log-Likelihood:                -5872.5\n",
      "No. Observations:                1314   AIC:                         1.176e+04\n",
      "Df Residuals:                    1308   BIC:                         1.179e+04\n",
      "Df Model:                           5                                         \n",
      "Covariance Type:            nonrobust                                         \n",
      "=============================================================================================\n",
      "                                coef    std err          t      P>|t|      [0.025      0.975]\n",
      "---------------------------------------------------------------------------------------------\n",
      "Intercept                    29.3479      2.117     13.864      0.000      25.195      33.501\n",
      "education[T.Bachelor]         5.5204      2.245      2.459      0.014       1.116       9.925\n",
      "education[T.Doctorate]       17.7728      4.465      3.981      0.000       9.014      26.531\n",
      "education[T.High School]     -8.2247      4.351     -1.890      0.059     -16.761       0.312\n",
      "education[T.Master]           8.9477      2.424      3.691      0.000       4.192      13.703\n",
      "education[T.Professional]    12.7106      4.250      2.991      0.003       4.374      21.047\n",
      "==============================================================================\n",
      "Omnibus:                      240.235   Durbin-Watson:                   1.900\n",
      "Prob(Omnibus):                  0.000   Jarque-Bera (JB):              400.962\n",
      "Skew:                           1.179   Prob(JB):                     8.55e-88\n",
      "Kurtosis:                       4.327   Cond. No.                         12.5\n",
      "==============================================================================\n",
      "\n",
      "Warnings:\n",
      "[1] Standard Errors assume that the covariance matrix of the errors is correctly specified.\n",
      "                  sum_sq      df         F        PR(>F)\n",
      "education   18345.767218     5.0  8.188517  1.262857e-07\n",
      "Residual   586095.445273  1308.0       NaN           NaN\n"
     ]
    }
   ],
   "source": [
    "# Computing statistical significance of bill rate between people with different education on Upwork worldwide\n",
    "model = ols(\"bill_rate ~ education\", merged).fit()\n",
    "anova_table = sm.stats.anova_lm(model, typ=2)\n",
    "print(model.summary())\n",
    "print anova_table"
   ]
  },
  {
   "cell_type": "markdown",
   "metadata": {},
   "source": [
    "# Comparing Average Bill Rate Across All Covariates and Genders"
   ]
  },
  {
   "cell_type": "markdown",
   "metadata": {},
   "source": [
    "Average bill rate is significantly different between workers, taking into account all covariate values and gender (p < 0.001). "
   ]
  },
  {
   "cell_type": "code",
   "execution_count": 23,
   "metadata": {},
   "outputs": [
    {
     "name": "stdout",
     "output_type": "stream",
     "text": [
      "                            OLS Regression Results                            \n",
      "==============================================================================\n",
      "Dep. Variable:              bill_rate   R-squared:                       0.082\n",
      "Model:                            OLS   Adj. R-squared:                  0.077\n",
      "Method:                 Least Squares   F-statistic:                     14.61\n",
      "Date:                Fri, 01 Dec 2017   Prob (F-statistic):           1.34e-20\n",
      "Time:                        14:01:13   Log-Likelihood:                -5836.3\n",
      "No. Observations:                1314   AIC:                         1.169e+04\n",
      "Df Residuals:                    1305   BIC:                         1.174e+04\n",
      "Df Model:                           8                                         \n",
      "Covariance Type:            nonrobust                                         \n",
      "=============================================================================================\n",
      "                                coef    std err          t      P>|t|      [0.025      0.975]\n",
      "---------------------------------------------------------------------------------------------\n",
      "Intercept                    21.9582      2.240      9.803      0.000      17.564      26.353\n",
      "education[T.Bachelor]         5.5741      2.191      2.544      0.011       1.276       9.873\n",
      "education[T.Doctorate]       12.7963      4.397      2.910      0.004       4.170      21.422\n",
      "education[T.High School]     -7.5224      4.243     -1.773      0.076     -15.846       0.801\n",
      "education[T.Master]           7.7434      2.390      3.240      0.001       3.055      12.432\n",
      "education[T.Professional]    10.5503      4.167      2.532      0.011       2.376      18.725\n",
      "gender[T.male]                5.9451      1.142      5.207      0.000       3.705       8.185\n",
      "job_category_id               0.5491      0.168      3.262      0.001       0.219       0.879\n",
      "work_experience               0.5238      0.087      6.034      0.000       0.353       0.694\n",
      "==============================================================================\n",
      "Omnibus:                      245.941   Durbin-Watson:                   1.914\n",
      "Prob(Omnibus):                  0.000   Jarque-Bera (JB):              424.875\n",
      "Skew:                           1.178   Prob(JB):                     5.49e-93\n",
      "Kurtosis:                       4.486   Cond. No.                         94.0\n",
      "==============================================================================\n",
      "\n",
      "Warnings:\n",
      "[1] Standard Errors assume that the covariance matrix of the errors is correctly specified.\n",
      "                        sum_sq      df          F        PR(>F)\n",
      "education         11767.095275     5.0   5.536222  4.717924e-05\n",
      "gender            11526.103118     1.0  27.114195  2.226108e-07\n",
      "job_category_id    4522.054525     1.0  10.637756  1.136655e-03\n",
      "work_experience   15475.739746     1.0  36.405385  2.084440e-09\n",
      "Residual         554748.705596  1305.0        NaN           NaN\n"
     ]
    }
   ],
   "source": [
    "# Computing statistical significance using model with all covariates\n",
    "model = ols(\"bill_rate ~ job_category_id + education + gender + work_experience\", merged).fit()\n",
    "anova_table = sm.stats.anova_lm(model, typ=2)\n",
    "print(model.summary())\n",
    "print anova_table"
   ]
  },
  {
   "cell_type": "markdown",
   "metadata": {},
   "source": [
    "# Average Bill Rate of Male and Female Web Developers\n",
    "\n",
    "Comparing the bill rates of web developers in the United States (n = 178), we find no statistically significant difference between the average bill rate of men (M = USD \\$39.92, sd = USD \\$21.46) and women (M = USD \\$39.81, sd = USD \\$21.79). "
   ]
  },
  {
   "cell_type": "code",
   "execution_count": 24,
   "metadata": {},
   "outputs": [
    {
     "name": "stdout",
     "output_type": "stream",
     "text": [
      "Male web dev average: 39.9160927152\n",
      "21.4604678906\n",
      "Female web dev average: 38.8148148148\n",
      "21.7869091463\n",
      "                            OLS Regression Results                            \n",
      "==============================================================================\n",
      "Dep. Variable:              bill_rate   R-squared:                       0.000\n",
      "Model:                            OLS   Adj. R-squared:                 -0.005\n",
      "Method:                 Least Squares   F-statistic:                   0.05936\n",
      "Date:                Fri, 01 Dec 2017   Prob (F-statistic):              0.808\n",
      "Time:                        14:01:14   Log-Likelihood:                -798.77\n",
      "No. Observations:                 178   AIC:                             1602.\n",
      "Df Residuals:                     176   BIC:                             1608.\n",
      "Df Model:                           1                                         \n",
      "Covariance Type:            nonrobust                                         \n",
      "==================================================================================\n",
      "                     coef    std err          t      P>|t|      [0.025      0.975]\n",
      "----------------------------------------------------------------------------------\n",
      "Intercept         38.8148      4.163      9.324      0.000      30.599      47.031\n",
      "gender[T.male]     1.1013      4.520      0.244      0.808      -7.819      10.022\n",
      "==============================================================================\n",
      "Omnibus:                       25.458   Durbin-Watson:                   2.038\n",
      "Prob(Omnibus):                  0.000   Jarque-Bera (JB):               32.425\n",
      "Skew:                           0.905   Prob(JB):                     9.10e-08\n",
      "Kurtosis:                       4.047   Cond. No.                         4.95\n",
      "==============================================================================\n",
      "\n",
      "Warnings:\n",
      "[1] Standard Errors assume that the covariance matrix of the errors is correctly specified.\n",
      "                sum_sq     df         F   PR(>F)\n",
      "gender       27.778869    1.0  0.059363  0.80779\n",
      "Residual  82359.378069  176.0       NaN      NaN\n"
     ]
    }
   ],
   "source": [
    "web_developers_df = merged[merged['job_category'] == 'Web, Mobile & Software Dev']\n",
    "male_web_dev = web_developers_df[web_developers_df['gender'] == 'male']['bill_rate']\n",
    "female_web_dev = web_developers_df[web_developers_df['gender'] == 'female']['bill_rate']\n",
    "\n",
    "print \"Male web dev average: {0}\".format(np.mean(male_web_dev))\n",
    "print np.std(male_web_dev)\n",
    "print \"Female web dev average: {0}\".format(np.mean(female_web_dev))\n",
    "print np.std(female_web_dev)\n",
    "\n",
    "web_dev_model = ols(\"bill_rate ~ gender\", web_developers_df).fit()\n",
    "web_dev_anova_table = sm.stats.anova_lm(web_dev_model, typ=2)\n",
    "\n",
    "print(web_dev_model.summary())\n",
    "print web_dev_anova_table"
   ]
  },
  {
   "cell_type": "markdown",
   "metadata": {},
   "source": [
    "# Comparing Bill Rate Across Job Categories and Gender"
   ]
  },
  {
   "cell_type": "code",
   "execution_count": 25,
   "metadata": {},
   "outputs": [
    {
     "name": "stdout",
     "output_type": "stream",
     "text": [
      "Difference for Accounting & Consulting (men vs women): 3.48848039216\n",
      "Difference for Admin Support (men vs women): -0.334967320261\n",
      "Difference for Customer Service (men vs women): 5.49818181818\n",
      "Difference for Data Science & Analytics (men vs women): -0.671964285714\n",
      "Difference for Design & Creative (men vs women): 0.446133819318\n",
      "Difference for Engineering & Architecture (men vs women): -4.791875\n",
      "Difference for IT & Networking (men vs women): 26.7745098039\n",
      "Difference for Legal (men vs women): 27.25\n",
      "Difference for Sales & Marketing (men vs women): 1.54828107503\n",
      "Difference for Translation (men vs women): 4.93306451613\n",
      "Difference for Web, Mobile & Software Dev (men vs women): 1.10127790042\n",
      "Difference for Writing (men vs women): 5.5040281256\n"
     ]
    },
    {
     "data": {
      "image/png": "[encoded data removed]",
      "text/plain": [
       "<matplotlib.figure.Figure at 0x7f72a951ea10>"
      ]
     },
     "metadata": {},
     "output_type": "display_data"
    }
   ],
   "source": [
    "gender_table= merged.groupby(['job_category','gender'])['bill_rate'].mean()\n",
    "\n",
    "#job_category_rate_table = pd.crosstab(gender_table)\n",
    "gender_table.plot(kind=\"bar\", figsize=(8,8))\n",
    "\n",
    "i = 0\n",
    "job_category_index = 0\n",
    "bill_rate_difference = 0\n",
    "job_categories = [\"Accounting & Consulting\", \"Admin Support\", \n",
    "                  \"Customer Service\", \"Data Science & Analytics\", \"Design & Creative\", \n",
    "                  \"Engineering & Architecture\", \"IT & Networking\", \"Legal\", \"Sales & Marketing\",\n",
    "                  \"Translation\", \"Web, Mobile & Software Dev\", \"Writing\"]\n",
    "\n",
    "bill_rate_diff = []\n",
    "\n",
    "\n",
    "for entry in gender_table:\n",
    "    if (i % 2 != 0):\n",
    "        bill_rate_difference = gender_table[i] - gender_table[i-1]\n",
    "        print(\"Difference for {0} (men vs women): {1}\".format(job_categories[job_category_index], bill_rate_difference))\n",
    "        bill_rate_diff.append(bill_rate_difference)\n",
    "        job_category_index += 1\n",
    "    i += 1"
   ]
  },
  {
   "cell_type": "code",
   "execution_count": 69,
   "metadata": {},
   "outputs": [
    {
     "data": {
      "image/png": "[encoded data removed]",
      "text/plain": [
       "<matplotlib.figure.Figure at 0x7f25ac5c8b10>"
      ]
     },
     "metadata": {},
     "output_type": "display_data"
    }
   ],
   "source": [
    "# Plot bar chart of the difference in bill rate by job category\n",
    "\n",
    "y = bill_rate_diff\n",
    "x = [1, 2, 3, 4, 5, 6, 7, 8, 9, 10, 11, 12]\n",
    "width = 1/1.5\n",
    "bar_chart = plt.bar(x, y, width, color=\"purple\", tick_label=job_categories)"
   ]
  },
  {
   "cell_type": "markdown",
   "metadata": {},
   "source": [
    "# Things to Look Into Next\n",
    "\n",
    "https://matplotlib.org/devdocs/gallery/shapes_and_collections/scatter.html#sphx-glr-gallery-shapes-and-collections-scatter-py\n",
    "\n",
    "http://scikit-learn.org/stable/auto_examples/cluster/plot_dbscan.html\n"
   ]
  }
 ],
 "metadata": {
  "kernelspec": {
   "display_name": "Python 2",
   "language": "python",
   "name": "python2"
  },
  "language_info": {
   "codemirror_mode": {
    "name": "ipython",
    "version": 2
   },
   "file_extension": ".py",
   "mimetype": "text/x-python",
   "name": "python",
   "nbconvert_exporter": "python",
   "pygments_lexer": "ipython2",
   "version": "2.7.13"
  }
 },
 "nbformat": 4,
 "nbformat_minor": 2
}
