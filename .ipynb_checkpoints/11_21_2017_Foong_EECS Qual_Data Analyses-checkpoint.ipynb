{
 "cells": [
  {
   "cell_type": "markdown",
   "metadata": {},
   "source": [
    "# How Much Do Men and Women in the U.S. Ask For in Hourly Bill Rate on Upwork? \n",
    "\n",
    "In October 2017, we collected publicly available profiles for 10,980 workers worldwide on online freelancing platform, Upwork. We used Microsoft's Face API to detect gender of workers based on their profile photos, in contrast to prior literature that detected gender based on users' first names (e.g., Hannak et al., 2017, Wachs et al., 2017). Gender identification methods based on first name has been shown to have lower precision and recall in comparison to methods using facial recognition. We omitted profiles from the dataset if we could not reliably detect gender from their profile photo or if we could not identify the level of education for at least one of the entries on their profile. To limit the scope of the analysis, we focused on workers based in the United States. In total, we included 1360 workers in our analyses (female = 669). \n",
    "\n",
    "Following similar work in HCI measuring the effects of online behaviors (Choudhury et al., 2016), we used stratified propensity score matching to estimate the causal effects of gender on average hourly bill rate. In this model, we controlled for workers': 1) highest level of education, 2) primary job category specified on Upwork, and 3) number of years of work experience listed on their profile. \n",
    "\n",
    "Based on our causal model, we show that being a woman predicts signficantly lower bill rates (M = \\$35.33, std = \\$26.13) compared to being a man (M = \\$45.02, std = \\$50.13, p < 0.01). On average, women in our dataset asked for hourly bill rates that were 78.48% of what men in the dataset asked for. This figure is comparable to the gender pay gap for full-time, year-round workers in the United States in 2015; on average, women earned 80% of men's annual average wages (Institute for Women's Policy Research, 2016; see https://iwpr.org/issue/employment-education-economic-change/pay-equity-discrimination/). \n",
    "\n",
    "Below we describe the dataset and the analyses we conducted. "
   ]
  },
  {
   "cell_type": "code",
   "execution_count": 1,
   "metadata": {},
   "outputs": [
    {
     "name": "stderr",
     "output_type": "stream",
     "text": [
      "/home/ecf384/.conda/envs/eureka2/lib/python2.7/site-packages/statsmodels/compat/pandas.py:56: FutureWarning: The pandas.core.datetools module is deprecated and will be removed in a future version. Please use the pandas.tseries module instead.\n",
      "  from pandas.core import datetools\n"
     ]
    },
    {
     "name": "stdout",
     "output_type": "stream",
     "text": [
      "[0]\n",
      "Bill rate array length: 1360\n",
      "Gender array length: 1360\n",
      "Covariate array length: 1360\n",
      "Female count: 669, Male count: 691\n"
     ]
    }
   ],
   "source": [
    "import httplib2\n",
    "import oauth2\n",
    "import urllib3\n",
    "import types\n",
    "import re\n",
    "import numpy as np\n",
    "import pandas as pd\n",
    "import matplotlib.pyplot as plt\n",
    "%matplotlib inline\n",
    "from gender_detector import GenderDetector \n",
    "import psycopg2, psycopg2.extras\n",
    "from causalinference import CausalModel\n",
    "from causalinference.utils import random_data\n",
    "import httplib\n",
    "import base64\n",
    "import json # For Microsoft Face API\n",
    "import urllib as urllib # For Microsoft Face API\n",
    "import time \n",
    "import csv\n",
    "import datetime \n",
    "from statsmodels.formula.api import ols\n",
    "import statsmodels.api as sm\n",
    "\n",
    "# Initialize arrays for Causal Analysis \n",
    "user_count = 1\n",
    "bill_rate_array = []\n",
    "gender_array = []\n",
    "all_covariates_array = []\n",
    "\n",
    "# Read data from csv files and reformat\n",
    "all_data_file_name = '11_21_2017_upwork_analysis_worldwide_allskills.csv' # Filename for all data\n",
    "gender_data_file_name = '11_20_2017_upwork_gender_analysis_worldwide_allskills.csv' # Filename for gender data\n",
    "df = pd.read_csv(all_data_file_name)\n",
    "df_gender = pd.read_csv(gender_data_file_name)\n",
    "\n",
    "# Merge the files, then remove rows with an error, no gender identified, or ambiguous education\n",
    "merged = df.merge(df_gender, on='user_count')\n",
    "merged = merged[merged.bill_rate != 'error']\n",
    "merged = merged[merged.gender != 'unidentified']\n",
    "merged = merged[merged.gender != 'error']\n",
    "merged = merged[merged.education != 'None']\n",
    "merged = merged[merged.job_category != 'none']\n",
    "merged = merged[merged.country == 'United States'] # Look only at data in the United States, which is the largest dataset\n",
    "\n",
    "all_bill_rates = merged.bill_rate.astype('float')\n",
    "merged['bill_rate'] = merged.bill_rate.astype('float')\n",
    "merged['work_experience'] = merged.work_experience.astype('float')\n",
    "all_work_experience = merged.work_experience\n",
    "all_education_id = merged.education_id\n",
    "all_job_category_id = merged.job_category_id\n",
    "all_country_id = merged.country_id\n",
    "all_genders = merged.gender\n",
    "female_count = 0\n",
    "male_count = 0\n",
    "\n",
    "# Converting covariates to a matrix on a dichotomous scale\n",
    "def make_dichotomous_matrix(id_value, covariate, final_matrix):\n",
    "    for option in list(set(covariate)):\n",
    "        if (id_value == option):\n",
    "            final_matrix.append(1)\n",
    "        else:\n",
    "            final_matrix.append(0)\n",
    "    return final_matrix\n",
    "\n",
    "covariate_matrix = []\n",
    "print make_dichotomous_matrix(20, all_country_id, covariate_matrix)\n",
    "        \n",
    "# Data formatting \n",
    "for gender in all_genders:\n",
    "    if (gender == \"male\"):\n",
    "        gender_array.append(0)\n",
    "        male_count += 1\n",
    "    elif (gender == \"female\"): # Female as the treatment group\n",
    "        gender_array.append(1)\n",
    "        female_count += 1\n",
    "\n",
    "for rate in all_bill_rates:\n",
    "    rate = round(float(rate), 2)\n",
    "    bill_rate_array.append(rate)\n",
    "    \n",
    "\n",
    "for row in merged.itertuples():    \n",
    "    job_category_matrix = []\n",
    "    country_matrix = []\n",
    "    education_matrix = []\n",
    "    individual_covariate_matrix = []\n",
    "    \n",
    "    #Blocked out because not considering >1 country\n",
    "    #country_matrix = make_dichotomous_matrix(row.country_id, all_country_id, country_matrix)\n",
    "    #individual_covariate_matrix.extend(country_matrix)\n",
    "    \n",
    "    job_category_matrix = make_dichotomous_matrix(row.job_category_id, all_job_category_id, job_category_matrix)\n",
    "    education_matrix = make_dichotomous_matrix(row.education_id, all_education_id, education_matrix)\n",
    "    \n",
    "    individual_covariate_matrix.extend(job_category_matrix)\n",
    "    individual_covariate_matrix.extend(education_matrix)\n",
    "    individual_covariate_matrix.append(row.work_experience)\n",
    "    all_covariates_array.append(individual_covariate_matrix)\n",
    "\n",
    "# Check that arrays contain complete data\n",
    "print \"Bill rate array length: {0}\".format(len(bill_rate_array))\n",
    "print \"Gender array length: {0}\".format(len(gender_array))\n",
    "print \"Covariate array length: {0}\".format(len(all_covariates_array))\n",
    "print \"Female count: {0}, Male count: {1}\".format(female_count, male_count)\n"
   ]
  },
  {
   "cell_type": "markdown",
   "metadata": {},
   "source": [
    "# Causal Analysis\n",
    "\n",
    "When we conduct a causal analysis of the data, we find that, on average, women on Upwork in the United States post an hourly bill rate of USD \\$35.29, while men post an hourly bill rate of USD \\$44.70. \n",
    "\n",
    "Therefore, women in this sample of Upwork workers in the United States asked for an hourly bill rate that was, on average, 78.95% of what men in the sample asked for. In comparison, female, full-time, year-round workers in the United States earned 80% of men's annual average wages in 2015 (Institute for Women's Policy Research, 2016; see https://iwpr.org/issue/employment-education-economic-change/pay-equity-discrimination/). "
   ]
  },
  {
   "cell_type": "code",
   "execution_count": 2,
   "metadata": {},
   "outputs": [
    {
     "name": "stdout",
     "output_type": "stream",
     "text": [
      "\n",
      "Summary Statistics\n",
      "\n",
      "                       Controls (N_c=691)         Treated (N_t=669)             \n",
      "       Variable         Mean         S.d.         Mean         S.d.     Raw-diff\n",
      "--------------------------------------------------------------------------------\n",
      "              Y       44.695       49.860       35.286       26.106       -9.409\n",
      "\n",
      "                       Controls (N_c=691)         Treated (N_t=669)             \n",
      "       Variable         Mean         S.d.         Mean         S.d.     Nor-diff\n",
      "--------------------------------------------------------------------------------\n",
      "             X0        0.250        0.434        0.278        0.448        0.063\n",
      "             X1        0.226        0.418        0.043        0.204       -0.554\n",
      "             X2        0.049        0.216        0.163        0.370        0.376\n",
      "             X3        0.052        0.222        0.009        0.094       -0.252\n",
      "             X4        0.029        0.168        0.048        0.214        0.098\n",
      "             X5        0.172        0.378        0.271        0.445        0.238\n",
      "             X6        0.025        0.155        0.012        0.109       -0.094\n",
      "             X7        0.059        0.236        0.021        0.143       -0.196\n",
      "             X8        0.059        0.236        0.052        0.223       -0.031\n",
      "             X9        0.007        0.085        0.016        0.127        0.085\n",
      "            X10        0.059        0.236        0.079        0.270        0.078\n",
      "            X11        0.012        0.107        0.007        0.086       -0.042\n",
      "            X12        0.621        0.486        0.592        0.492       -0.059\n",
      "            X13        0.223        0.416        0.271        0.445        0.111\n",
      "            X14        0.029        0.168        0.016        0.127       -0.084\n",
      "            X15        0.027        0.164        0.019        0.138       -0.053\n",
      "            X16        0.026        0.159        0.027        0.162        0.005\n",
      "            X17        0.074        0.262        0.075        0.263        0.004\n",
      "            X18        5.469        6.731        5.677        6.750        0.031\n",
      "\n"
     ]
    }
   ],
   "source": [
    "Y = np.array(bill_rate_array)\n",
    "D = np.array(gender_array)\n",
    "X = np.array(all_covariates_array)\n",
    "\n",
    "causal = CausalModel(Y, D, X)\n",
    "\n",
    "print(causal.summary_stats)"
   ]
  },
  {
   "cell_type": "markdown",
   "metadata": {},
   "source": [
    "When each person in the dataset was matched with a comparable person in the dataset (based on job category, highest level of education, and number of years of work experience), we found that women (the \"treatment\" group) post significantly lower bill rates compared to men (the \"control\" group) (z = -2.56, p = 0.01). "
   ]
  },
  {
   "cell_type": "code",
   "execution_count": 3,
   "metadata": {},
   "outputs": [
    {
     "name": "stdout",
     "output_type": "stream",
     "text": [
      "\n",
      "Treatment Effect Estimates: Matching\n",
      "\n",
      "                     Est.       S.e.          z      P>|z|      [95% Conf. int.]\n",
      "--------------------------------------------------------------------------------\n",
      "           ATE     -7.343      2.869     -2.560      0.010    -12.966     -1.720\n",
      "           ATC     -8.733      3.104     -2.813      0.005    -14.817     -2.649\n",
      "           ATT     -5.908      3.493     -1.692      0.091    -12.754      0.938\n",
      "\n"
     ]
    }
   ],
   "source": [
    "# Matching each person in the dataset with a comparable person in the dataset\n",
    "\n",
    "causal.est_via_matching(bias_adj=True)\n",
    "print (causal.estimates)"
   ]
  },
  {
   "cell_type": "markdown",
   "metadata": {},
   "source": [
    "Next, we estimated the propensity score or the probability of being a woman given the covariates (job category, highest level of education, and number of years of work experience). The resulting model takes into consideration the following covariates when estimating propensity score: "
   ]
  },
  {
   "cell_type": "code",
   "execution_count": 4,
   "metadata": {},
   "outputs": [
    {
     "name": "stdout",
     "output_type": "stream",
     "text": [
      "\n",
      "Estimated Parameters of Propensity Score\n",
      "\n",
      "                    Coef.       S.e.          z      P>|z|      [95% Conf. int.]\n",
      "--------------------------------------------------------------------------------\n",
      "     Intercept      0.096      0.097      0.987      0.324     -0.095      0.287\n",
      "            X1     -1.783      0.223     -7.992      0.000     -2.220     -1.346\n",
      "            X2      1.090      0.220      4.946      0.000      0.658      1.522\n",
      "            X3     -1.900      0.452     -4.206      0.000     -2.786     -1.015\n",
      "            X7     -1.375      0.361     -3.813      0.000     -2.082     -0.668\n",
      "            X5      0.152      0.169      0.901      0.368     -0.179      0.483\n",
      "           X13      0.130      0.165      0.791      0.429     -0.192      0.453\n",
      "            X6     -0.872      0.441     -1.977      0.048     -1.737     -0.008\n",
      "            X8     -0.318      0.254     -1.251      0.211     -0.816      0.180\n",
      "           X15     -0.702      0.427     -1.642      0.101     -1.539      0.136\n",
      "           X14     -0.751      0.451     -1.665      0.096     -1.635      0.133\n",
      "            X9      0.652      0.548      1.190      0.234     -0.422      1.727\n",
      "            X4      0.265      0.305      0.871      0.384     -0.332      0.863\n",
      "        X5*X13      0.753      0.335      2.246      0.025      0.096      1.410\n",
      "        X15*X4     14.639    900.316      0.016      0.987  -1749.980   1779.257\n",
      "        X7*X14      1.743      0.954      1.827      0.068     -0.127      3.612\n",
      "\n"
     ]
    }
   ],
   "source": [
    "# Propensity score estimation\n",
    "\n",
    "causal.est_propensity_s()\n",
    "print (causal.propensity)"
   ]
  },
  {
   "cell_type": "markdown",
   "metadata": {},
   "source": [
    "To improve covariate balance, we constructed a sample that removes people who have extreme propensity score values. This means that their covariate values lead them to have such high propensity to be a woman (or a man) that it is difficult to find another comparable person in the group. With this trimmed sample, women on average asked for an hourly bill rate of USD \\$35.33 and men asked for an hourly bill rate of USD \\$45.02. \n",
    "\n",
    "Therefore, women in this sample of Upwork workers in the United States asked for an hourly bill rate that was, on average, 78.48% of what men in the sample asked for. "
   ]
  },
  {
   "cell_type": "code",
   "execution_count": 5,
   "metadata": {},
   "outputs": [
    {
     "name": "stdout",
     "output_type": "stream",
     "text": [
      "\n",
      "Summary Statistics\n",
      "\n",
      "                       Controls (N_c=681)         Treated (N_t=667)             \n",
      "       Variable         Mean         S.d.         Mean         S.d.     Raw-diff\n",
      "--------------------------------------------------------------------------------\n",
      "              Y       45.019       50.127       35.332       26.131       -9.687\n",
      "\n",
      "                       Controls (N_c=681)         Treated (N_t=667)             \n",
      "       Variable         Mean         S.d.         Mean         S.d.     Nor-diff\n",
      "--------------------------------------------------------------------------------\n",
      "             X0        0.254        0.436        0.279        0.449        0.056\n",
      "             X1        0.217        0.413        0.043        0.204       -0.534\n",
      "             X2        0.050        0.218        0.163        0.370        0.374\n",
      "             X3        0.050        0.218        0.009        0.094       -0.244\n",
      "             X4        0.029        0.169        0.045        0.207        0.083\n",
      "             X5        0.175        0.380        0.271        0.445        0.234\n",
      "             X6        0.025        0.156        0.012        0.109       -0.096\n",
      "             X7        0.060        0.238        0.021        0.143       -0.200\n",
      "             X8        0.060        0.238        0.052        0.223       -0.034\n",
      "             X9        0.007        0.085        0.016        0.127        0.084\n",
      "            X10        0.060        0.238        0.079        0.271        0.076\n",
      "            X11        0.012        0.108        0.007        0.086       -0.044\n",
      "            X12        0.630        0.483        0.594        0.492       -0.074\n",
      "            X13        0.226        0.419        0.271        0.445        0.105\n",
      "            X14        0.026        0.161        0.016        0.127       -0.069\n",
      "            X15        0.016        0.126        0.016        0.127        0.003\n",
      "            X16        0.026        0.161        0.027        0.162        0.003\n",
      "            X17        0.075        0.263        0.075        0.264        0.000\n",
      "            X18        5.504        6.754        5.685        6.756        0.027\n",
      "\n"
     ]
    }
   ],
   "source": [
    "# Trimming\n",
    "\n",
    "causal.trim_s()\n",
    "causal.cutoff\n",
    "print (causal.summary_stats)"
   ]
  },
  {
   "cell_type": "markdown",
   "metadata": {},
   "source": [
    "To improve the credibility of the treatment effects, we stratified the sample into blocks of people who have more similar covariate values. This resulted in 7 strata. The propensity score ranges of the different strata are reported below, and summary statistics are included for the first two strata. "
   ]
  },
  {
   "cell_type": "code",
   "execution_count": 6,
   "metadata": {},
   "outputs": [
    {
     "name": "stdout",
     "output_type": "stream",
     "text": [
      "\n",
      "Stratification Summary\n",
      "\n",
      "              Propensity Score         Sample Size     Ave. Propensity   Outcome\n",
      "   Stratum      Min.      Max.  Controls   Treated  Controls   Treated  Raw-diff\n",
      "--------------------------------------------------------------------------------\n",
      "         1     0.141     0.174       182        35     0.157     0.158    -6.430\n",
      "         2     0.178     0.344        59        21     0.263     0.279    -5.352\n",
      "         3     0.353     0.477        62        48     0.434     0.440   -11.214\n",
      "         4     0.524     0.524       178       197     0.524     0.524    -5.249\n",
      "         5     0.556     0.562       121       154     0.560     0.560   -12.532\n",
      "         6     0.589     0.621        22        37     0.601     0.604    -2.179\n",
      "         7     0.679     0.789        57       175     0.759     0.761    -0.053\n",
      "\n",
      "\n",
      "Summary Statistics\n",
      "\n",
      "                       Controls (N_c=182)          Treated (N_t=35)             \n",
      "       Variable         Mean         S.d.         Mean         S.d.     Raw-diff\n",
      "--------------------------------------------------------------------------------\n",
      "              Y       46.502       32.999       40.071       29.997       -6.430\n",
      "\n",
      "                       Controls (N_c=182)          Treated (N_t=35)             \n",
      "       Variable         Mean         S.d.         Mean         S.d.     Nor-diff\n",
      "--------------------------------------------------------------------------------\n",
      "             X0        0.000        0.000        0.000        0.000          nan\n",
      "             X1        0.813        0.391        0.829        0.382        0.040\n",
      "             X2        0.000        0.000        0.000        0.000          nan\n",
      "             X3        0.187        0.391        0.171        0.382       -0.040\n",
      "             X4        0.000        0.000        0.000        0.000          nan\n",
      "             X5        0.000        0.000        0.000        0.000          nan\n",
      "             X6        0.000        0.000        0.000        0.000          nan\n",
      "             X7        0.000        0.000        0.000        0.000          nan\n",
      "             X8        0.000        0.000        0.000        0.000          nan\n",
      "             X9        0.000        0.000        0.000        0.000          nan\n",
      "            X10        0.000        0.000        0.000        0.000          nan\n",
      "            X11        0.000        0.000        0.000        0.000          nan\n",
      "            X12        0.643        0.480        0.686        0.471        0.090\n",
      "            X13        0.225        0.419        0.257        0.443        0.074\n",
      "            X14        0.000        0.000        0.000        0.000          nan\n",
      "            X15        0.000        0.000        0.000        0.000          nan\n",
      "            X16        0.005        0.074        0.029        0.169        0.177\n",
      "            X17        0.126        0.333        0.029        0.169       -0.370\n",
      "            X18        4.467        5.621        4.286        5.233       -0.033\n",
      "\n",
      "\n",
      "Summary Statistics\n",
      "\n",
      "                        Controls (N_c=59)          Treated (N_t=21)             \n",
      "       Variable         Mean         S.d.         Mean         S.d.     Raw-diff\n",
      "--------------------------------------------------------------------------------\n",
      "              Y       46.947       29.641       41.595       23.719       -5.352\n",
      "\n",
      "                        Controls (N_c=59)          Treated (N_t=21)             \n",
      "       Variable         Mean         S.d.         Mean         S.d.     Nor-diff\n",
      "--------------------------------------------------------------------------------\n",
      "             X0        0.051        0.222        0.048        0.218       -0.015\n",
      "             X1        0.000        0.000        0.000        0.000          nan\n",
      "             X2        0.000        0.000        0.000        0.000          nan\n",
      "             X3        0.000        0.000        0.000        0.000          nan\n",
      "             X4        0.000        0.000        0.000        0.000          nan\n",
      "             X5        0.000        0.000        0.000        0.000          nan\n",
      "             X6        0.288        0.457        0.381        0.498        0.194\n",
      "             X7        0.627        0.488        0.524        0.512       -0.207\n",
      "             X8        0.000        0.000        0.000        0.000          nan\n",
      "             X9        0.000        0.000        0.000        0.000          nan\n",
      "            X10        0.017        0.130        0.048        0.218        0.171\n",
      "            X11        0.017        0.130        0.000        0.000       -0.184\n",
      "            X12        0.492        0.504        0.286        0.463       -0.425\n",
      "            X13        0.373        0.488        0.524        0.512        0.302\n",
      "            X14        0.102        0.305        0.095        0.301       -0.021\n",
      "            X15        0.000        0.000        0.000        0.000          nan\n",
      "            X16        0.000        0.000        0.000        0.000          nan\n",
      "            X17        0.034        0.183        0.095        0.301        0.247\n",
      "            X18        5.237        5.761        4.095        4.805       -0.215\n",
      "\n"
     ]
    },
    {
     "name": "stderr",
     "output_type": "stream",
     "text": [
      "/home/ecf384/.conda/envs/eureka2/lib/python2.7/site-packages/causalinference/core/summary.py:110: RuntimeWarning: invalid value encountered in true_divide\n",
      "  return (mean_t-mean_c) / np.sqrt((sd_c**2+sd_t**2)/2)\n"
     ]
    }
   ],
   "source": [
    "causal.stratify_s()\n",
    "\n",
    "print(causal.strata)\n",
    "print(causal.strata[0].summary_stats)\n",
    "print(causal.strata[1].summary_stats)"
   ]
  },
  {
   "cell_type": "markdown",
   "metadata": {},
   "source": [
    "Lastly, we estimated the effect of the treatment (i.e., being a woman on Upwork in the United States) on average hourly bill rate using least square estimation, weighting, and matching. Across all estimation techniques, we found that women posted significantly lower average hourly bill rates compared to men (p < 0.01). "
   ]
  },
  {
   "cell_type": "code",
   "execution_count": 7,
   "metadata": {},
   "outputs": [
    {
     "name": "stdout",
     "output_type": "stream",
     "text": [
      "\n",
      "Treatment Effect Estimates: Weighting\n",
      "\n",
      "                     Est.       S.e.          z      P>|z|      [95% Conf. int.]\n",
      "--------------------------------------------------------------------------------\n",
      "           ATE     -6.162      2.221     -2.774      0.006    -10.516     -1.808\n",
      "\n",
      "Treatment Effect Estimates: OLS\n",
      "\n",
      "                     Est.       S.e.          z      P>|z|      [95% Conf. int.]\n",
      "--------------------------------------------------------------------------------\n",
      "           ATE     -6.459      2.422     -2.667      0.008    -11.205     -1.713\n",
      "           ATC     -6.883      2.281     -3.018      0.003    -11.353     -2.412\n",
      "           ATT     -6.027      2.887     -2.088      0.037    -11.684     -0.369\n",
      "\n",
      "Treatment Effect Estimates: Matching\n",
      "\n",
      "                     Est.       S.e.          z      P>|z|      [95% Conf. int.]\n",
      "--------------------------------------------------------------------------------\n",
      "           ATE     -7.393      2.893     -2.556      0.011    -13.062     -1.724\n",
      "           ATC     -8.925      3.122     -2.859      0.004    -15.044     -2.807\n",
      "           ATT     -5.829      3.520     -1.656      0.098    -12.728      1.070\n",
      "\n"
     ]
    }
   ],
   "source": [
    "# Treatment effect estimation\n",
    "\n",
    "causal.est_via_ols()\n",
    "causal.est_via_weighting()\n",
    "causal.est_via_matching(bias_adj=True)\n",
    "print(causal.estimates)"
   ]
  },
  {
   "cell_type": "markdown",
   "metadata": {},
   "source": [
    "# Descriptive Statistics"
   ]
  },
  {
   "cell_type": "markdown",
   "metadata": {},
   "source": [
    "# Average Bill Rate by Gender"
   ]
  },
  {
   "cell_type": "code",
   "execution_count": 8,
   "metadata": {},
   "outputs": [
    {
     "name": "stdout",
     "output_type": "stream",
     "text": [
      "Mean bill rates\n",
      "gender\n",
      "female    35.285770\n",
      "male      44.695181\n",
      "Name: bill_rate, dtype: float64\n",
      "Standard deviation of bill rates\n",
      "gender\n",
      "female    26.105574\n",
      "male      49.860480\n",
      "Name: bill_rate, dtype: float64\n"
     ]
    }
   ],
   "source": [
    "gender_table= merged.groupby('gender')['bill_rate'].mean()\n",
    "print \"Mean bill rates\"\n",
    "print gender_table\n",
    "\n",
    "gender_table= merged.groupby('gender')['bill_rate'].std()\n",
    "print \"Standard deviation of bill rates\"\n",
    "print gender_table"
   ]
  },
  {
   "cell_type": "markdown",
   "metadata": {},
   "source": [
    "# Distribution of Bill Rate by Gender\n",
    "\n",
    "The distribution of bill rate between men and women on Upwork is described below. The range of bill rates for women was smaller (range = 192) than the range of bill rates for men (range = 996). The overall distribution of bill rates for men and women is also described below. "
   ]
  },
  {
   "cell_type": "code",
   "execution_count": 9,
   "metadata": {},
   "outputs": [
    {
     "name": "stdout",
     "output_type": "stream",
     "text": [
      "Overall bill rate minimum: $3.0\n",
      "Overall bill rate maximum: $999.0\n",
      "Overall bill rate range: $996.0\n"
     ]
    },
    {
     "data": {
      "text/plain": [
       "array([[<matplotlib.axes._subplots.AxesSubplot object at 0x7f459230a7d0>]], dtype=object)"
      ]
     },
     "execution_count": 9,
     "metadata": {},
     "output_type": "execute_result"
    },
    {
     "data": {
      "image/png": "[encoded data removed]",
      "text/plain": [
       "<matplotlib.figure.Figure at 0x7f459230a110>"
      ]
     },
     "metadata": {},
     "output_type": "display_data"
    }
   ],
   "source": [
    "all_bill_rates = merged['bill_rate']\n",
    "\n",
    "all_bill_range = np.ptp(all_bill_rates)\n",
    "all_bill_min = np.amin(all_bill_rates)\n",
    "all_bill_max = np.amax(all_bill_rates)\n",
    "\n",
    "print (\"Overall bill rate minimum: ${0}\".format(all_bill_min))\n",
    "print(\"Overall bill rate maximum: ${0}\".format(all_bill_max))\n",
    "print(\"Overall bill rate range: ${0}\".format(all_bill_range))\n",
    "\n",
    "merged.hist(column='bill_rate', figsize=(8,8), color=\"purple\", bins=50)"
   ]
  },
  {
   "cell_type": "code",
   "execution_count": 10,
   "metadata": {},
   "outputs": [
    {
     "name": "stdout",
     "output_type": "stream",
     "text": [
      "Female bill rate minimum: $3.0\n",
      "Female bill rate maximum: $195.0\n",
      "Female bill rate range: $192.0\n"
     ]
    },
    {
     "data": {
      "text/plain": [
       "array([[<matplotlib.axes._subplots.AxesSubplot object at 0x7f458c030110>]], dtype=object)"
      ]
     },
     "execution_count": 10,
     "metadata": {},
     "output_type": "execute_result"
    },
    {
     "data": {
      "image/png": "[encoded data removed]",
      "text/plain": [
       "<matplotlib.figure.Figure at 0x7f45742604d0>"
      ]
     },
     "metadata": {},
     "output_type": "display_data"
    }
   ],
   "source": [
    "female_bill_rates = merged[merged['gender'] == 'female']['bill_rate']\n",
    "\n",
    "female_bill_range = np.ptp(female_bill_rates)\n",
    "female_bill_min = np.amin(female_bill_rates)\n",
    "female_bill_max = np.amax(female_bill_rates)\n",
    "\n",
    "female_df = merged[merged['gender'] == 'female']\n",
    "\n",
    "print (\"Female bill rate minimum: ${0}\".format(female_bill_min))\n",
    "print(\"Female bill rate maximum: ${0}\".format(female_bill_max))\n",
    "print(\"Female bill rate range: ${0}\".format(female_bill_range))\n",
    "\n",
    "female_df.hist(column='bill_rate', figsize=(8,8), color=\"red\", bins=50)"
   ]
  },
  {
   "cell_type": "code",
   "execution_count": 11,
   "metadata": {},
   "outputs": [
    {
     "name": "stdout",
     "output_type": "stream",
     "text": [
      "Male bill rate minimum: $3.0\n",
      "Male bill rate maximum: $999.0\n",
      "Male bill rate range: $996.0\n"
     ]
    },
    {
     "data": {
      "text/plain": [
       "array([[<matplotlib.axes._subplots.AxesSubplot object at 0x7f4553792c90>]], dtype=object)"
      ]
     },
     "execution_count": 11,
     "metadata": {},
     "output_type": "execute_result"
    },
    {
     "data": {
      "image/png": "[encoded data removed]",
      "text/plain": [
       "<matplotlib.figure.Figure at 0x7f45537a01d0>"
      ]
     },
     "metadata": {},
     "output_type": "display_data"
    }
   ],
   "source": [
    "male_bill_rates = merged[merged['gender'] == 'male']['bill_rate']\n",
    "\n",
    "male_bill_range = np.ptp(male_bill_rates)\n",
    "male_bill_min = np.amin(male_bill_rates)\n",
    "male_bill_max = np.amax(male_bill_rates)\n",
    "\n",
    "male_df = merged[merged['gender'] == 'male']\n",
    "\n",
    "print (\"Male bill rate minimum: ${0}\".format(male_bill_min))\n",
    "print(\"Male bill rate maximum: ${0}\".format(male_bill_max))\n",
    "print(\"Male bill rate range: ${0}\".format(male_bill_range))\n",
    "\n",
    "male_df.hist(column='bill_rate', figsize=(8,8), color=\"blue\", bins=50)"
   ]
  },
  {
   "cell_type": "markdown",
   "metadata": {},
   "source": [
    "# Removing Outliers from Male and Female Sample"
   ]
  },
  {
   "cell_type": "markdown",
   "metadata": {},
   "source": [
    "Noticing the large range of bill rates for male workers on Upwork, we removed outliers whose bill rate was more or less than two standard deviations of the average bill rate for male and female workers. In this revised sample, the average hourly bill rate for men was USD \\$44.70 (std = USD \\$49.82), and the range was USD \\$122.00. For women, the average hourly bill rate was USD \\$35.29 (std = USD \\$26.09), and the range was USD \\$82.00. "
   ]
  },
  {
   "cell_type": "code",
   "execution_count": 24,
   "metadata": {},
   "outputs": [
    {
     "name": "stdout",
     "output_type": "stream",
     "text": [
      "Male bill rate average: 44.6951808973\n",
      "Male bill rate standard deviation: 49.8243879957\n",
      "Male bill rate minimum: $3.0\n",
      "Male bill rate maximum: $125.0\n",
      "Male bill rate range: $122.0\n"
     ]
    },
    {
     "name": "stderr",
     "output_type": "stream",
     "text": [
      "/home/ecf384/.conda/envs/eureka2/lib/python2.7/site-packages/ipykernel_launcher.py:6: UserWarning: Boolean Series key will be reindexed to match DataFrame index.\n",
      "  \n",
      "/home/ecf384/.conda/envs/eureka2/lib/python2.7/site-packages/ipykernel_launcher.py:7: UserWarning: Boolean Series key will be reindexed to match DataFrame index.\n",
      "  import sys\n"
     ]
    },
    {
     "data": {
      "text/plain": [
       "array([[<matplotlib.axes._subplots.AxesSubplot object at 0x7f4552bdbf90>]], dtype=object)"
      ]
     },
     "execution_count": 24,
     "metadata": {},
     "output_type": "execute_result"
    },
    {
     "data": {
      "image/png": "[encoded data removed]",
      "text/plain": [
       "<matplotlib.figure.Figure at 0x7f4552bf1a90>"
      ]
     },
     "metadata": {},
     "output_type": "display_data"
    }
   ],
   "source": [
    "male_sd = np.std(merged[merged['gender'] == 'male']['bill_rate'])\n",
    "male_mean = np.mean(merged[merged['gender'] == 'male']['bill_rate'])\n",
    "print(\"Male bill rate average: {0}\".format(male_mean))\n",
    "print(\"Male bill rate standard deviation: {0}\".format(male_sd))\n",
    "male_no_outliers_df = merged[merged['gender'] == 'male']\n",
    "male_no_outliers_df = male_no_outliers_df[merged['bill_rate'] > male_mean - 2 * male_sd]\n",
    "male_no_outliers_df = male_no_outliers_df[merged['bill_rate'] < male_mean + 2 * male_sd]\n",
    "\n",
    "male_bill_range = np.ptp(male_no_outliers_df['bill_rate'])\n",
    "male_bill_min = np.amin(male_no_outliers_df['bill_rate'])\n",
    "male_bill_max = np.amax(male_no_outliers_df['bill_rate'])\n",
    "\n",
    "print (\"Male bill rate minimum: ${0}\".format(male_bill_min))\n",
    "print(\"Male bill rate maximum: ${0}\".format(male_bill_max))\n",
    "print(\"Male bill rate range: ${0}\".format(male_bill_range))\n",
    "\n",
    "male_no_outliers_df.hist(column='bill_rate', figsize=(8,8), color=\"blue\", bins=50)"
   ]
  },
  {
   "cell_type": "code",
   "execution_count": 25,
   "metadata": {},
   "outputs": [
    {
     "name": "stdout",
     "output_type": "stream",
     "text": [
      "Female bill rate average: 35.2857698057\n",
      "Female bill rate standard deviation: 26.0860553534\n",
      "Female bill rate minimum: $3.0\n",
      "Female bill rate maximum: $85.0\n",
      "Female bill rate range: $82.0\n"
     ]
    },
    {
     "name": "stderr",
     "output_type": "stream",
     "text": [
      "/home/ecf384/.conda/envs/eureka2/lib/python2.7/site-packages/ipykernel_launcher.py:6: UserWarning: Boolean Series key will be reindexed to match DataFrame index.\n",
      "  \n",
      "/home/ecf384/.conda/envs/eureka2/lib/python2.7/site-packages/ipykernel_launcher.py:7: UserWarning: Boolean Series key will be reindexed to match DataFrame index.\n",
      "  import sys\n"
     ]
    },
    {
     "data": {
      "text/plain": [
       "array([[<matplotlib.axes._subplots.AxesSubplot object at 0x7f4552991910>]], dtype=object)"
      ]
     },
     "execution_count": 25,
     "metadata": {},
     "output_type": "execute_result"
    },
    {
     "data": {
      "image/png": "[encoded data removed]",
      "text/plain": [
       "<matplotlib.figure.Figure at 0x7f45529ca9d0>"
      ]
     },
     "metadata": {},
     "output_type": "display_data"
    }
   ],
   "source": [
    "female_sd = np.std(merged[merged['gender'] == 'female']['bill_rate'])\n",
    "female_mean = np.mean(merged[merged['gender'] == 'female']['bill_rate'])\n",
    "print(\"Female bill rate average: {0}\".format(female_mean))\n",
    "print(\"Female bill rate standard deviation: {0}\".format(female_sd))\n",
    "female_no_outliers_df = merged[merged['gender'] == 'female']\n",
    "female_no_outliers_df = female_no_outliers_df[merged['bill_rate'] > female_mean - 2 * female_sd]\n",
    "female_no_outliers_df = female_no_outliers_df[merged['bill_rate'] < female_mean + 2 * female_sd]\n",
    "\n",
    "female_bill_range = np.ptp(female_no_outliers_df['bill_rate'])\n",
    "female_bill_min = np.amin(female_no_outliers_df['bill_rate'])\n",
    "female_bill_max = np.amax(female_no_outliers_df['bill_rate'])\n",
    "\n",
    "print (\"Female bill rate minimum: ${0}\".format(female_bill_min))\n",
    "print(\"Female bill rate maximum: ${0}\".format(female_bill_max))\n",
    "print(\"Female bill rate range: ${0}\".format(female_bill_range))\n",
    "\n",
    "female_no_outliers_df.hist(column='bill_rate', figsize=(8,8), color=\"red\", bins=50)"
   ]
  },
  {
   "cell_type": "markdown",
   "metadata": {},
   "source": [
    "# Bill Rate Across Job Categories"
   ]
  },
  {
   "cell_type": "code",
   "execution_count": 13,
   "metadata": {
    "scrolled": true
   },
   "outputs": [
    {
     "data": {
      "text/plain": [
       "<matplotlib.axes._subplots.AxesSubplot at 0x7f4592356e50>"
      ]
     },
     "execution_count": 13,
     "metadata": {},
     "output_type": "execute_result"
    },
    {
     "data": {
      "image/png": "[encoded data removed]",
      "text/plain": [
       "<matplotlib.figure.Figure at 0x7f458c0c3550>"
      ]
     },
     "metadata": {},
     "output_type": "display_data"
    }
   ],
   "source": [
    "gender_table= merged.groupby('job_category')['bill_rate'].mean()\n",
    "gender_table.plot(kind=\"bar\", figsize=(8,8))"
   ]
  },
  {
   "cell_type": "markdown",
   "metadata": {},
   "source": [
    "# Distribution of Covariates\n",
    "\n",
    "Below we report on the distribution of the covariate values for the sample. "
   ]
  },
  {
   "cell_type": "markdown",
   "metadata": {},
   "source": [
    "# Highest Level of Education by Gender"
   ]
  },
  {
   "cell_type": "code",
   "execution_count": 14,
   "metadata": {},
   "outputs": [
    {
     "data": {
      "text/plain": [
       "<matplotlib.axes._subplots.AxesSubplot at 0x7f45532a14d0>"
      ]
     },
     "execution_count": 14,
     "metadata": {},
     "output_type": "execute_result"
    },
    {
     "data": {
      "image/png": "[encoded data removed]",
      "text/plain": [
       "<matplotlib.figure.Figure at 0x7f457429c590>"
      ]
     },
     "metadata": {},
     "output_type": "display_data"
    }
   ],
   "source": [
    "education_table = pd.crosstab(merged['education'], merged['gender'])\n",
    "education_table.plot(kind=\"bar\", figsize=(8,8))"
   ]
  },
  {
   "cell_type": "markdown",
   "metadata": {},
   "source": [
    "# Distribution of Work Experience by Gender"
   ]
  },
  {
   "cell_type": "markdown",
   "metadata": {},
   "source": [
    "Distribution of Work Experience for Men and Women in the U.S. on Upwork"
   ]
  },
  {
   "cell_type": "code",
   "execution_count": 28,
   "metadata": {},
   "outputs": [
    {
     "data": {
      "text/plain": [
       "array([[<matplotlib.axes._subplots.AxesSubplot object at 0x7f45524566d0>]], dtype=object)"
      ]
     },
     "execution_count": 28,
     "metadata": {},
     "output_type": "execute_result"
    },
    {
     "data": {
      "image/png": "[encoded data removed]",
      "text/plain": [
       "<matplotlib.figure.Figure at 0x7f4552462d10>"
      ]
     },
     "metadata": {},
     "output_type": "display_data"
    }
   ],
   "source": [
    "# Get work experience distribution \n",
    "merged.hist(column='work_experience', figsize=(8,8), color=\"purple\", bins=50)"
   ]
  },
  {
   "cell_type": "code",
   "execution_count": 30,
   "metadata": {},
   "outputs": [
    {
     "data": {
      "text/plain": [
       "array([[<matplotlib.axes._subplots.AxesSubplot object at 0x7f4551fa14d0>]], dtype=object)"
      ]
     },
     "execution_count": 30,
     "metadata": {},
     "output_type": "execute_result"
    },
    {
     "data": {
      "image/png": "[encoded data removed]",
      "text/plain": [
       "<matplotlib.figure.Figure at 0x7f4552133f50>"
      ]
     },
     "metadata": {},
     "output_type": "display_data"
    }
   ],
   "source": [
    "# Work experience distribution for women \n",
    "female_df = merged[merged['gender'] == 'female']\n",
    "female_df.hist(column='work_experience', figsize=(8,8), color=\"red\", bins=50)"
   ]
  },
  {
   "cell_type": "code",
   "execution_count": 15,
   "metadata": {},
   "outputs": [
    {
     "name": "stdout",
     "output_type": "stream",
     "text": [
      "col_0          count\n",
      "country             \n",
      "United States   1360\n"
     ]
    }
   ],
   "source": [
    "# Plot a bar chart of countries\n",
    "\n",
    "country_table = pd.crosstab(index=merged['country'], columns=\"count\")\n",
    "print country_table.sort_values(by=['count'], ascending=False)\n",
    "\n",
    "## We find that the top 10 countries represented are United States, India, Ukraine, Philippines, \n",
    "## Russia, Pakistan, Serbia, United Kingdom\n",
    "## Bangladesh, and Egypt "
   ]
  },
  {
   "cell_type": "code",
   "execution_count": 18,
   "metadata": {},
   "outputs": [
    {
     "name": "stdout",
     "output_type": "stream",
     "text": [
      "                            OLS Regression Results                            \n",
      "==============================================================================\n",
      "Dep. Variable:              bill_rate   R-squared:                       0.014\n",
      "Model:                            OLS   Adj. R-squared:                  0.013\n",
      "Method:                 Least Squares   F-statistic:                     18.83\n",
      "Date:                Tue, 28 Nov 2017   Prob (F-statistic):           1.54e-05\n",
      "Time:                        14:56:12   Log-Likelihood:                -6945.0\n",
      "No. Observations:                1360   AIC:                         1.389e+04\n",
      "Df Residuals:                    1358   BIC:                         1.390e+04\n",
      "Df Model:                           1                                         \n",
      "Covariance Type:            nonrobust                                         \n",
      "==================================================================================\n",
      "                     coef    std err          t      P>|t|      [0.025      0.975]\n",
      "----------------------------------------------------------------------------------\n",
      "Intercept         35.2858      1.546     22.828      0.000      32.254      38.318\n",
      "gender[T.male]     9.4094      2.169      4.339      0.000       5.155      13.663\n",
      "==============================================================================\n",
      "Omnibus:                     2335.956   Durbin-Watson:                   2.037\n",
      "Prob(Omnibus):                  0.000   Jarque-Bera (JB):          3302663.433\n",
      "Skew:                          11.088   Prob(JB):                         0.00\n",
      "Kurtosis:                     243.397   Cond. No.                         2.64\n",
      "==============================================================================\n",
      "\n",
      "Warnings:\n",
      "[1] Standard Errors assume that the covariance matrix of the errors is correctly specified.\n",
      "                sum_sq      df          F    PR(>F)\n",
      "gender    3.009471e+04     1.0  18.828004  0.000015\n",
      "Residual  2.170629e+06  1358.0        NaN       NaN\n"
     ]
    }
   ],
   "source": [
    "# Computing statistical significance of bill rate between men and women on Upwork\n",
    "model = ols(\"bill_rate ~ gender\", merged).fit()\n",
    "anova_table = sm.stats.anova_lm(model, typ=2)\n",
    "print(model.summary())\n",
    "print anova_table"
   ]
  },
  {
   "cell_type": "code",
   "execution_count": 19,
   "metadata": {},
   "outputs": [
    {
     "name": "stdout",
     "output_type": "stream",
     "text": [
      "                            OLS Regression Results                            \n",
      "==============================================================================\n",
      "Dep. Variable:              bill_rate   R-squared:                       0.068\n",
      "Model:                            OLS   Adj. R-squared:                  0.060\n",
      "Method:                 Least Squares   F-statistic:                     8.910\n",
      "Date:                Tue, 28 Nov 2017   Prob (F-statistic):           1.80e-15\n",
      "Time:                        14:56:13   Log-Likelihood:                -6906.6\n",
      "No. Observations:                1360   AIC:                         1.384e+04\n",
      "Df Residuals:                    1348   BIC:                         1.390e+04\n",
      "Df Model:                          11                                         \n",
      "Covariance Type:            nonrobust                                         \n",
      "==============================================================================================================\n",
      "                                                 coef    std err          t      P>|t|      [0.025      0.975]\n",
      "--------------------------------------------------------------------------------------------------------------\n",
      "Intercept                                     56.2362      4.475     12.567      0.000      47.458      65.015\n",
      "job_category[T.Admin Support]                -30.6756      5.538     -5.539      0.000     -41.539     -19.812\n",
      "job_category[T.Customer Service]             -30.8162     10.731     -2.872      0.004     -51.867      -9.766\n",
      "job_category[T.Data Science & Analytics]     -13.4262      6.906     -1.944      0.052     -26.974       0.122\n",
      "job_category[T.Design & Creative]            -18.3645      4.926     -3.728      0.000     -28.028      -8.701\n",
      "job_category[T.Engineering & Architecture]    -6.6830      8.995     -0.743      0.458     -24.328      10.962\n",
      "job_category[T.IT & Networking]              -10.7124      7.501     -1.428      0.153     -25.427       4.002\n",
      "job_category[T.Legal]                         47.7638     11.709      4.079      0.000      24.794      70.733\n",
      "job_category[T.Sales & Marketing]             -1.3166      6.018     -0.219      0.827     -13.122      10.489\n",
      "job_category[T.Translation]                  -29.6304      7.021     -4.220      0.000     -43.404     -15.857\n",
      "job_category[T.Web, Mobile & Software Dev]   -12.0182      5.315     -2.261      0.024     -22.445      -1.591\n",
      "job_category[T.Writing]                      -19.6525      5.010     -3.923      0.000     -29.480      -9.825\n",
      "==============================================================================\n",
      "Omnibus:                     2438.511   Durbin-Watson:                   2.030\n",
      "Prob(Omnibus):                  0.000   Jarque-Bera (JB):          4402437.109\n",
      "Skew:                          12.090   Prob(JB):                         0.00\n",
      "Kurtosis:                     280.679   Cond. No.                         17.1\n",
      "==============================================================================\n",
      "\n",
      "Warnings:\n",
      "[1] Standard Errors assume that the covariance matrix of the errors is correctly specified.\n",
      "                    sum_sq      df         F        PR(>F)\n",
      "job_category  1.491618e+05    11.0  8.909848  1.797546e-15\n",
      "Residual      2.051562e+06  1348.0       NaN           NaN\n"
     ]
    }
   ],
   "source": [
    "# Computing statistical significance of bill rate between people from different job categories on Upwork worldwide\n",
    "model = ols(\"bill_rate ~ job_category\", merged).fit()\n",
    "anova_table = sm.stats.anova_lm(model, typ=2)\n",
    "print(model.summary())\n",
    "print anova_table"
   ]
  },
  {
   "cell_type": "code",
   "execution_count": 20,
   "metadata": {},
   "outputs": [
    {
     "name": "stdout",
     "output_type": "stream",
     "text": [
      "                            OLS Regression Results                            \n",
      "==============================================================================\n",
      "Dep. Variable:              bill_rate   R-squared:                       0.015\n",
      "Model:                            OLS   Adj. R-squared:                  0.011\n",
      "Method:                 Least Squares   F-statistic:                     4.041\n",
      "Date:                Tue, 28 Nov 2017   Prob (F-statistic):            0.00121\n",
      "Time:                        14:56:13   Log-Likelihood:                -6944.2\n",
      "No. Observations:                1360   AIC:                         1.390e+04\n",
      "Df Residuals:                    1354   BIC:                         1.393e+04\n",
      "Df Model:                           5                                         \n",
      "Covariance Type:            nonrobust                                         \n",
      "=============================================================================================\n",
      "                                coef    std err          t      P>|t|      [0.025      0.975]\n",
      "---------------------------------------------------------------------------------------------\n",
      "Intercept                    31.5326      3.982      7.919      0.000      23.721      39.344\n",
      "education[T.Bachelor]         7.7809      4.219      1.844      0.065      -0.495      16.057\n",
      "education[T.Doctorate]       21.4190      8.217      2.607      0.009       5.300      37.538\n",
      "education[T.High School]     -7.1632      8.118     -0.882      0.378     -23.088       8.762\n",
      "education[T.Master]          11.6402      4.543      2.562      0.011       2.729      20.552\n",
      "education[T.Professional]    23.6877      7.768      3.049      0.002       8.449      38.926\n",
      "==============================================================================\n",
      "Omnibus:                     2355.285   Durbin-Watson:                   2.011\n",
      "Prob(Omnibus):                  0.000   Jarque-Bera (JB):          3469308.384\n",
      "Skew:                          11.275   Prob(JB):                         0.00\n",
      "Kurtosis:                     249.403   Cond. No.                         12.6\n",
      "==============================================================================\n",
      "\n",
      "Warnings:\n",
      "[1] Standard Errors assume that the covariance matrix of the errors is correctly specified.\n",
      "                 sum_sq      df         F    PR(>F)\n",
      "education  3.235442e+04     5.0  4.040629  0.001209\n",
      "Residual   2.168369e+06  1354.0       NaN       NaN\n"
     ]
    }
   ],
   "source": [
    "# Computing statistical significance of bill rate between people with different education on Upwork worldwide\n",
    "model = ols(\"bill_rate ~ education\", merged).fit()\n",
    "anova_table = sm.stats.anova_lm(model, typ=2)\n",
    "print(model.summary())\n",
    "print anova_table"
   ]
  },
  {
   "cell_type": "code",
   "execution_count": 21,
   "metadata": {},
   "outputs": [
    {
     "name": "stdout",
     "output_type": "stream",
     "text": [
      "                            OLS Regression Results                            \n",
      "==============================================================================\n",
      "Dep. Variable:              bill_rate   R-squared:                       0.060\n",
      "Model:                            OLS   Adj. R-squared:                  0.054\n",
      "Method:                 Least Squares   F-statistic:                     10.77\n",
      "Date:                Tue, 28 Nov 2017   Prob (F-statistic):           8.59e-15\n",
      "Time:                        14:56:13   Log-Likelihood:                -6912.3\n",
      "No. Observations:                1360   AIC:                         1.384e+04\n",
      "Df Residuals:                    1351   BIC:                         1.389e+04\n",
      "Df Model:                           8                                         \n",
      "Covariance Type:            nonrobust                                         \n",
      "=============================================================================================\n",
      "                                coef    std err          t      P>|t|      [0.025      0.975]\n",
      "---------------------------------------------------------------------------------------------\n",
      "Intercept                    18.5969      4.217      4.410      0.000      10.325      26.869\n",
      "education[T.Bachelor]         7.4755      4.134      1.808      0.071      -0.633      15.584\n",
      "education[T.Doctorate]       11.7393      8.138      1.443      0.149      -4.224      27.703\n",
      "education[T.High School]     -6.1051      7.947     -0.768      0.442     -21.695       9.484\n",
      "education[T.Master]           8.7673      4.497      1.950      0.051      -0.055      17.589\n",
      "education[T.Professional]    17.5330      7.671      2.285      0.022       2.484      32.582\n",
      "gender[T.male]               10.0561      2.129      4.723      0.000       5.879      14.233\n",
      "job_category_id               1.2579      0.309      4.069      0.000       0.651       1.864\n",
      "work_experience               0.8070      0.161      5.028      0.000       0.492       1.122\n",
      "==============================================================================\n",
      "Omnibus:                     2401.242   Durbin-Watson:                   2.032\n",
      "Prob(Omnibus):                  0.000   Jarque-Bera (JB):          3979756.399\n",
      "Skew:                          11.716   Prob(JB):                         0.00\n",
      "Kurtosis:                     266.973   Cond. No.                         96.3\n",
      "==============================================================================\n",
      "\n",
      "Warnings:\n",
      "[1] Standard Errors assume that the covariance matrix of the errors is correctly specified.\n",
      "                       sum_sq      df          F        PR(>F)\n",
      "education        1.566352e+04     5.0   2.045834  6.971135e-02\n",
      "gender           3.415520e+04     1.0  22.305296  2.567967e-06\n",
      "job_category_id  2.534922e+04     1.0  16.554492  5.000805e-05\n",
      "work_experience  3.870406e+04     1.0  25.275965  5.635230e-07\n",
      "Residual         2.068732e+06  1351.0        NaN           NaN\n"
     ]
    }
   ],
   "source": [
    "# Computing statistical significance of bill rate between people with different education on Upwork worldwide\n",
    "model = ols(\"bill_rate ~ job_category_id + education + gender + work_experience\", merged).fit()\n",
    "anova_table = sm.stats.anova_lm(model, typ=2)\n",
    "print(model.summary())\n",
    "print anova_table"
   ]
  },
  {
   "cell_type": "markdown",
   "metadata": {},
   "source": [
    "# Things to Look Into Next\n",
    "\n",
    "https://matplotlib.org/devdocs/gallery/shapes_and_collections/scatter.html#sphx-glr-gallery-shapes-and-collections-scatter-py\n",
    "\n",
    "http://scikit-learn.org/stable/auto_examples/cluster/plot_dbscan.html\n"
   ]
  }
 ],
 "metadata": {
  "kernelspec": {
   "display_name": "Python 2",
   "language": "python",
   "name": "python2"
  },
  "language_info": {
   "codemirror_mode": {
    "name": "ipython",
    "version": 2
   },
   "file_extension": ".py",
   "mimetype": "text/x-python",
   "name": "python",
   "nbconvert_exporter": "python",
   "pygments_lexer": "ipython2",
   "version": "2.7.13"
  }
 },
 "nbformat": 4,
 "nbformat_minor": 2
}
