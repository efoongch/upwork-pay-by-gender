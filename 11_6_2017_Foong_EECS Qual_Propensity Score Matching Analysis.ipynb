{
 "cells": [
  {
   "cell_type": "code",
   "execution_count": 27,
   "metadata": {},
   "outputs": [],
   "source": [
    "import httplib2\n",
    "import oauth2\n",
    "import urllib3\n",
    "import json\n",
    "import types\n",
    "import re\n",
    "import numpy as np\n",
    "import pandas as pd\n",
    "import matplotlib.pyplot as plt\n",
    "from gender_detector import GenderDetector \n",
    "import psycopg2, psycopg2.extras\n",
    "from causalinference import CausalModel\n",
    "from causalinference.utils import random_data\n",
    "\n",
    "user_count = 0\n",
    "\n",
    "# Connect to the database \n",
    "conn = psycopg2.connect(\"dbname=eureka01\")\n",
    "cur = conn.cursor(cursor_factory=psycopg2.extras.DictCursor)\n",
    "psycopg2.extensions.register_adapter(dict, psycopg2.extras.Json)\n"
   ]
  },
  {
   "cell_type": "code",
   "execution_count": 28,
   "metadata": {},
   "outputs": [
    {
     "name": "stdout",
     "output_type": "stream",
     "text": [
      "\n",
      "Estimated Parameters of Propensity Score\n",
      "\n",
      "                    Coef.       S.e.          z      P>|z|      [95% Conf. int.]\n",
      "--------------------------------------------------------------------------------\n",
      "     Intercept      0.434      3.181      0.136      0.891     -5.801      6.669\n",
      "            X0     -0.868      1.660     -0.523      0.601     -4.122      2.385\n",
      "            X1      0.868      1.660      0.523      0.601     -2.385      4.122\n",
      "\n"
     ]
    }
   ],
   "source": [
    "# Testing CausalModel \n",
    "\n",
    "Y = np.array([13.00, 15.00, 16.00, 14.00, 14.50, 16.50, 18.50])\n",
    "D = np.array([0, 1, 0, 1, 1, 1, 0])\n",
    "X = np.array([[1, 1], [2, 2], \n",
    "              [2, 1], [1, 1], \n",
    "              [2, 1], [1, 2],[2, 2]])\n",
    "causal = CausalModel(Y, D, X)\n",
    "causal.est_propensity()\n",
    "\n",
    "print (causal.propensity)"
   ]
  },
  {
   "cell_type": "code",
   "execution_count": 29,
   "metadata": {},
   "outputs": [
    {
     "name": "stdout",
     "output_type": "stream",
     "text": [
      "Now we're on user number 0\n",
      "~019ef3758cf73d289c\n",
      "Valentina\n",
      "Now we're on user number 1\n",
      "~014c24de20d2446d42\n",
      "Marwen\n",
      "Now we're on user number 2\n",
      "~01f5a19ca9880b867f\n",
      "Bruno\n",
      "Now we're on user number 3\n",
      "~0191a24ec4aadf154b\n",
      "Matt\n",
      "Now we're on user number 4\n",
      "~019309dfcb2b02ed10\n",
      "Orkun\n",
      "Now we're on user number 5\n",
      "~01dc5d676329574590\n",
      "Ganang\n",
      "Now we're on user number 6\n",
      "~016e70f671e01d08f5\n",
      "Yash\n",
      "Now we're on user number 7\n",
      "~0193675f0ca4d4c14a\n",
      "Alex\n",
      "Now we're on user number 8\n",
      "~0125bee9e4f17ef78e\n",
      "Rayhan\n",
      "Now we're on user number 9\n",
      "~01326a7a95a824e410\n",
      "Minas\n"
     ]
    }
   ],
   "source": [
    "# Get detailed_info from workers in our database\n",
    "cur.execute(\"SELECT detailed_info FROM upwork_worldwide_allskills_2017_10_21 LIMIT 10;\")\n",
    "\n",
    "for user in cur:\n",
    "    print \"Now we're on user number {0}\".format(user_count)\n",
    "    try:\n",
    "        worker_id = user[0][\"ciphertext\"]\n",
    "        print worker_id\n",
    "        first_name = user[0][\"dev_first_name\"]\n",
    "        print first_name\n",
    "        bill_rate = float(user[0][\"dev_bill_rate\"])\n",
    "        gender_by_detector = \"none\"\n",
    "        user_count += 1\n",
    "\n",
    "    except:\n",
    "        print \"This one has no detailed info: {0}\".format(user_count)\n",
    "        no_detailed_info_count += 1"
   ]
  },
  {
   "cell_type": "code",
   "execution_count": null,
   "metadata": {
    "collapsed": true
   },
   "outputs": [],
   "source": []
  }
 ],
 "metadata": {
  "kernelspec": {
   "display_name": "Python 2",
   "language": "python",
   "name": "python2"
  },
  "language_info": {
   "codemirror_mode": {
    "name": "ipython",
    "version": 2
   },
   "file_extension": ".py",
   "mimetype": "text/x-python",
   "name": "python",
   "nbconvert_exporter": "python",
   "pygments_lexer": "ipython2",
   "version": "2.7.13"
  }
 },
 "nbformat": 4,
 "nbformat_minor": 2
}
