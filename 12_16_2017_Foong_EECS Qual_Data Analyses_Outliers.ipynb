{
 "cells": [
  {
   "cell_type": "markdown",
   "metadata": {},
   "source": [
    "# Data Analyses: Outliers"
   ]
  },
  {
   "cell_type": "code",
   "execution_count": 23,
   "metadata": {},
   "outputs": [
    {
     "name": "stdout",
     "output_type": "stream",
     "text": [
      "Mean: 40.0665808824\n",
      "Standard deviation: 40.2265996757\n"
     ]
    },
    {
     "data": {
      "text/plain": [
       "outlier  education   \n",
       "False    Associate       100\n",
       "         Bachelor        800\n",
       "         Doctorate        29\n",
       "         High School      31\n",
       "         Master          321\n",
       "         Professional     33\n",
       "True     Associate         1\n",
       "         Bachelor         25\n",
       "         Doctorate         2\n",
       "         High School       1\n",
       "         Master           14\n",
       "         Professional      3\n",
       "dtype: int64"
      ]
     },
     "execution_count": 23,
     "metadata": {},
     "output_type": "execute_result"
    }
   ],
   "source": [
    "import httplib2\n",
    "import urllib3\n",
    "import types\n",
    "import re\n",
    "import numpy as np\n",
    "import pandas as pd\n",
    "import matplotlib.pyplot as plt\n",
    "%matplotlib inline\n",
    "import base64\n",
    "import time \n",
    "import csv\n",
    "import datetime \n",
    "\n",
    "# Read data from csv files and reformat\n",
    "all_data_file_name = './csv_files/10_21_2017_upwork_analysis_worldwide_allskills.csv' # Filename for all data\n",
    "gender_data_file_name = './csv_files/11_20_2017_upwork_gender_analysis_worldwide_allskills.csv' # Filename for gender data\n",
    "df = pd.read_csv(all_data_file_name)\n",
    "df_gender = pd.read_csv(gender_data_file_name)\n",
    "\n",
    "# Merge the files, then remove rows with an error, no gender identified, or ambiguous education\n",
    "merged = df.merge(df_gender, on='user_count')\n",
    "merged = merged[merged.bill_rate != 'error']\n",
    "merged = merged[merged.gender != 'unidentified']\n",
    "merged = merged[merged.gender != 'error']\n",
    "merged = merged[merged.education != 'None']\n",
    "merged = merged[merged.job_category != 'none']\n",
    "merged = merged[merged.country == 'United States'] # Look only at data in the United States, which is the largest dataset\n",
    "\n",
    "# Format bill rate and work experience properly \n",
    "merged['bill_rate'] = merged.bill_rate.astype('float')\n",
    "merged['work_experience'] = merged.work_experience.astype('float')\n",
    "\n",
    "mean = np.mean(merged['bill_rate'])\n",
    "sd = np.std(merged['bill_rate'])\n",
    "\n",
    "print \"Mean: {0}\".format(mean)\n",
    "print \"Standard deviation: {0}\".format(sd)\n",
    "\n",
    "merged['outlier'] = merged['bill_rate'] >= mean + 2*sd\n",
    "\n",
    "merged.groupby(['outlier', 'education']).size()"
   ]
  },
  {
   "cell_type": "code",
   "execution_count": null,
   "metadata": {
    "collapsed": true
   },
   "outputs": [],
   "source": [
    "def showOutliers(data):\n",
    "    data['bill_rate'] = data.bill_rate.astype('float')\n",
    "    sd = np.std(data['bill_rate'])\n",
    "    mean = np.mean(data['bill_rate'])\n",
    "    coeff_of_variation = float(sd/mean)\n",
    "    \n",
    "    print(\"Bill rate average: {0}\".format(mean))\n",
    "    print(\"Bill rate standard deviation: {0}\".format(sd))\n",
    "    print(\"Coefficient of variation: {0}\".format(coeff_of_variation))\n",
    "\n",
    "    totalOutliers = 0\n",
    "    outliers = data[data['bill_rate'] > mean + 2 * sd]\n",
    "    all_ids = outliers.worker_id_x # To show all worker ids, use this variable\n",
    "    all_billrates = outliers.bill_rate\n",
    "    for person in all_ids:\n",
    "        totalOutliers += 1\n",
    "    print totalOutliers\n",
    "\n",
    "def returnOutliers(data):\n",
    "    data['bill_rate'] = data.bill_rate.astype('float')\n",
    "    sd = np.std(data['bill_rate'])\n",
    "    mean = np.mean(data['bill_rate'])\n",
    "    outliers = data[data['bill_rate'] > mean + 2 * sd]\n",
    "    return outliers\n",
    "\n",
    "print \"Total outliers (overall average): \"\n",
    "showOutliers(merged)\n",
    "    \n",
    "# Find outliers in each of the job categories\n",
    "categories = ['Accounting & Consulting', 'Admin Support', 'Customer Service', 'Data Science & Analytics',\n",
    "                 'Design & Creative', 'Engineering & Architecture', 'IT & Networking', 'Legal', \n",
    "                 'Sales & Marketing', 'Translation', 'Web, Mobile & Software Dev', 'Writing']\n",
    "\n",
    "def showJobOutliers(data, category):\n",
    "    outliers_data = data[data.job_category == category]\n",
    "    showOutliers(outliers_data)\n",
    "    \n",
    "total_job_outliers = 0\n",
    "\n",
    "for category in categories:\n",
    "    print \"Total outliers for {0}\".format(category)\n",
    "    showJobOutliers(merged, category)\n",
    "\n",
    "print total_job_outliers\n",
    "\n",
    "# Calculate mean and standard deviation\n",
    "sd = np.std(merged['bill_rate'])\n",
    "mean = np.mean(merged['bill_rate'])\n",
    "print(\"Bill rate average: {0}\".format(mean))\n",
    "print(\"Bill rate standard deviation: {0}\".format(sd))\n",
    "\n",
    "outliers = returnOutliers(merged)\n",
    "non_outliers = merged\n",
    "\n",
    "# Make some new dataframes\n",
    "\n",
    "def calculate_percentage(data, category_of_data, value):\n",
    "    numerator = 0\n",
    "    denominator = 0\n",
    "    # Something wrong with the row reference here \n",
    "    for row in data:\n",
    "        denominator += 1\n",
    "    \n",
    "    return float(numerator/denominator) * 100\n",
    "\n",
    "d_by_jobs = {}\n",
    "for job in categories:\n",
    "    d_by_jobs[job] = []\n",
    "    \n",
    "print d_by_jobs\n",
    "\n",
    "# Make some crosstabs tables\n",
    "# non_outliers.plot(kind=\"bar\", figsize=(8,8))"
   ]
  },
  {
   "cell_type": "code",
   "execution_count": null,
   "metadata": {
    "collapsed": true
   },
   "outputs": [],
   "source": []
  }
 ],
 "metadata": {
  "kernelspec": {
   "display_name": "Python 2",
   "language": "python",
   "name": "python2"
  },
  "language_info": {
   "codemirror_mode": {
    "name": "ipython",
    "version": 2
   },
   "file_extension": ".py",
   "mimetype": "text/x-python",
   "name": "python",
   "nbconvert_exporter": "python",
   "pygments_lexer": "ipython2",
   "version": "2.7.13"
  }
 },
 "nbformat": 4,
 "nbformat_minor": 2
}
