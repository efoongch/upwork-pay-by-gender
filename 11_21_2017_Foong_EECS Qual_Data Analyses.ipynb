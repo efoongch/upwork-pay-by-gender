{
 "cells": [
  {
   "cell_type": "code",
   "execution_count": 439,
   "metadata": {},
   "outputs": [
    {
     "name": "stdout",
     "output_type": "stream",
     "text": [
      "Bill rate array length: 7292\n",
      "Gender array length: 7292\n",
      "Covariate array length: 7292\n"
     ]
    }
   ],
   "source": [
    "import httplib2\n",
    "import oauth2\n",
    "import urllib3\n",
    "import types\n",
    "import re\n",
    "import numpy as np\n",
    "import pandas as pd\n",
    "%matplotlib inline\n",
    "import matplotlib.pyplot as plt\n",
    "from gender_detector import GenderDetector \n",
    "import psycopg2, psycopg2.extras\n",
    "from causalinference import CausalModel\n",
    "from causalinference.utils import random_data\n",
    "import httplib\n",
    "import base64\n",
    "import json # For Microsoft Face API\n",
    "import urllib as urllib # For Microsoft Face API\n",
    "import time \n",
    "import csv\n",
    "import datetime \n",
    "from statsmodels.formula.api import ols\n",
    "import statsmodels.api as sm\n",
    "\n",
    "# Initialize arrays for Causal Analysis \n",
    "user_count = 1\n",
    "bill_rate_array = []\n",
    "gender_array = []\n",
    "all_covariates_array = []\n",
    "\n",
    "# Read data from csv files and reformat\n",
    "df = pd.read_csv(all_data_file_name)\n",
    "df_gender = pd.read_csv(gender_data_file_name)\n",
    "\n",
    "# Merge the files, then remove rows with an error, no gender identified, or ambiguous education\n",
    "merged = df.merge(df_gender, on='user_count')\n",
    "merged = merged[merged.bill_rate != 'error']\n",
    "merged = merged[merged.gender != 'unidentified']\n",
    "merged = merged[merged.gender != 'error']\n",
    "merged = merged[merged.education != 'None']\n",
    "#merged = merged[merged.country == 'United Kingdom']\n",
    "merged = merged[merged.job_category != 'none']\n",
    "#merged = merged[merged.job_category != 'Legal']\n",
    "#merged = merged[merged.job_category == 'Writing']\n",
    "#merged = merged[merged.education != 'Doctorate']\n",
    "#merged = merged[merged.education != 'High School']\n",
    "#merged = merged[merged.education != 'Professional']\n",
    "\n",
    "all_bill_rates = merged.bill_rate.astype('float')\n",
    "merged['bill_rate'] = merged.bill_rate.astype('float')\n",
    "merged['work_experience'] = merged.work_experience.astype('float')\n",
    "all_work_experience = merged.work_experience\n",
    "all_education = merged.education\n",
    "all_job_category_id = merged.job_category_id\n",
    "all_country_id = merged.country_id\n",
    "all_genders = merged.gender\n",
    "        \n",
    "# Data formatting \n",
    "for gender in all_genders:\n",
    "    if (gender == \"female\"):\n",
    "        gender_array.append(1)\n",
    "    elif (gender == \"male\"):\n",
    "        gender_array.append(2)\n",
    "\n",
    "for rate in all_bill_rates:\n",
    "    rate = round(float(rate), 2)\n",
    "    bill_rate_array.append(rate)\n",
    "\n",
    "for row in merged.itertuples():\n",
    "    covariate_matrix = [row.job_category_id]\n",
    "    all_covariates_array.append(covariate_matrix)\n",
    "        \n",
    "# Check that arrays contain complete data\n",
    "print \"Bill rate array length: {0}\".format(len(bill_rate_array))\n",
    "print \"Gender array length: {0}\".format(len(gender_array))\n",
    "print \"Covariate array length: {0}\".format(len(all_covariates_array))\n"
   ]
  },
  {
   "cell_type": "code",
   "execution_count": 440,
   "metadata": {},
   "outputs": [
    {
     "name": "stdout",
     "output_type": "stream",
     "text": [
      "gender                      female  male\n",
      "job_category                            \n",
      "Accounting & Consulting         85   116\n",
      "Admin Support                  373   326\n",
      "Customer Service                66    70\n",
      "Data Science & Analytics        38   177\n",
      "Design & Creative              592  1031\n",
      "Engineering & Architecture      69   211\n",
      "IT & Networking                 23   205\n",
      "Legal                           12    17\n",
      "Sales & Marketing              158   214\n",
      "Translation                    347   334\n",
      "Web, Mobile & Software Dev     263  1756\n",
      "Writing                        419   390\n"
     ]
    }
   ],
   "source": [
    "# See distribution of job categories\n",
    "\n",
    "job_category_table = pd.crosstab(merged['job_category'], merged['gender'])\n",
    "print job_category_table"
   ]
  },
  {
   "cell_type": "code",
   "execution_count": 441,
   "metadata": {},
   "outputs": [
    {
     "name": "stdout",
     "output_type": "stream",
     "text": [
      "gender\n",
      "female    23.021333\n",
      "male      24.284062\n",
      "Name: bill_rate, dtype: float64\n",
      "job_category\n",
      "Accounting & Consulting       41.006418\n",
      "Admin Support                 14.608026\n",
      "Customer Service              13.385809\n",
      "Data Science & Analytics      29.507023\n",
      "Design & Creative             24.835280\n",
      "Engineering & Architecture    21.476429\n",
      "IT & Networking               27.793333\n",
      "Legal                         64.149310\n",
      "Sales & Marketing             30.647742\n",
      "Translation                   17.514170\n",
      "Web, Mobile & Software Dev    23.818747\n",
      "Writing                       26.499135\n",
      "Name: bill_rate, dtype: float64\n",
      "gender\n",
      "female    21.152882\n",
      "male      27.134005\n",
      "Name: bill_rate, dtype: float64\n"
     ]
    }
   ],
   "source": [
    "# Make a crosstabs\n",
    "gender_table= merged.groupby('gender')['bill_rate'].mean()\n",
    "print gender_table\n",
    "\n",
    "gender_table= merged.groupby('job_category')['bill_rate'].mean()\n",
    "print gender_table\n",
    "\n",
    "gender_table= merged.groupby('gender')['bill_rate'].std()\n",
    "print gender_table"
   ]
  },
  {
   "cell_type": "code",
   "execution_count": 442,
   "metadata": {},
   "outputs": [
    {
     "name": "stdout",
     "output_type": "stream",
     "text": [
      "gender        female  male\n",
      "education                 \n",
      "Associate         95   151\n",
      "Bachelor        1403  2709\n",
      "Doctorate         31    90\n",
      "High School       45   139\n",
      "Master           803  1673\n",
      "Professional      68    85\n"
     ]
    }
   ],
   "source": [
    "# See distribution for our covariates\n",
    "\n",
    "education_table = pd.crosstab(merged['education'], merged['gender'])\n",
    "print education_table"
   ]
  },
  {
   "cell_type": "code",
   "execution_count": 443,
   "metadata": {},
   "outputs": [
    {
     "ename": "ValueError",
     "evalue": "Too few control units: N_c < K+1",
     "output_type": "error",
     "traceback": [
      "\u001b[0;31m---------------------------------------------------------------------------\u001b[0m",
      "\u001b[0;31mValueError\u001b[0m                                Traceback (most recent call last)",
      "\u001b[0;32m<ipython-input-443-44fe78f08099>\u001b[0m in \u001b[0;36m<module>\u001b[0;34m()\u001b[0m\n\u001b[1;32m      4\u001b[0m \u001b[0mX\u001b[0m \u001b[0;34m=\u001b[0m \u001b[0mnp\u001b[0m\u001b[0;34m.\u001b[0m\u001b[0marray\u001b[0m\u001b[0;34m(\u001b[0m\u001b[0mall_covariates_array\u001b[0m\u001b[0;34m)\u001b[0m\u001b[0;34m\u001b[0m\u001b[0m\n\u001b[1;32m      5\u001b[0m \u001b[0;34m\u001b[0m\u001b[0m\n\u001b[0;32m----> 6\u001b[0;31m \u001b[0mcausal\u001b[0m \u001b[0;34m=\u001b[0m \u001b[0mCausalModel\u001b[0m\u001b[0;34m(\u001b[0m\u001b[0mY\u001b[0m\u001b[0;34m,\u001b[0m \u001b[0mD\u001b[0m\u001b[0;34m,\u001b[0m \u001b[0mX\u001b[0m\u001b[0;34m)\u001b[0m\u001b[0;34m\u001b[0m\u001b[0m\n\u001b[0m\u001b[1;32m      7\u001b[0m \u001b[0mcausal\u001b[0m\u001b[0;34m.\u001b[0m\u001b[0mest_via_matching\u001b[0m\u001b[0;34m(\u001b[0m\u001b[0;34m)\u001b[0m\u001b[0;34m\u001b[0m\u001b[0m\n\u001b[1;32m      8\u001b[0m \u001b[0;32mprint\u001b[0m\u001b[0;34m(\u001b[0m\u001b[0mcausal\u001b[0m\u001b[0;34m.\u001b[0m\u001b[0mestimates\u001b[0m\u001b[0;34m)\u001b[0m\u001b[0;34m\u001b[0m\u001b[0m\n",
      "\u001b[0;32m/home/ecf384/.conda/envs/eureka2/lib/python2.7/site-packages/causalinference/causal.pyc\u001b[0m in \u001b[0;36m__init__\u001b[0;34m(self, Y, D, X)\u001b[0m\n\u001b[1;32m     15\u001b[0m         \u001b[0;32mdef\u001b[0m \u001b[0m__init__\u001b[0m\u001b[0;34m(\u001b[0m\u001b[0mself\u001b[0m\u001b[0;34m,\u001b[0m \u001b[0mY\u001b[0m\u001b[0;34m,\u001b[0m \u001b[0mD\u001b[0m\u001b[0;34m,\u001b[0m \u001b[0mX\u001b[0m\u001b[0;34m)\u001b[0m\u001b[0;34m:\u001b[0m\u001b[0;34m\u001b[0m\u001b[0m\n\u001b[1;32m     16\u001b[0m \u001b[0;34m\u001b[0m\u001b[0m\n\u001b[0;32m---> 17\u001b[0;31m                 \u001b[0mself\u001b[0m\u001b[0;34m.\u001b[0m\u001b[0mold_data\u001b[0m \u001b[0;34m=\u001b[0m \u001b[0mData\u001b[0m\u001b[0;34m(\u001b[0m\u001b[0mY\u001b[0m\u001b[0;34m,\u001b[0m \u001b[0mD\u001b[0m\u001b[0;34m,\u001b[0m \u001b[0mX\u001b[0m\u001b[0;34m)\u001b[0m\u001b[0;34m\u001b[0m\u001b[0m\n\u001b[0m\u001b[1;32m     18\u001b[0m                 \u001b[0mself\u001b[0m\u001b[0;34m.\u001b[0m\u001b[0mreset\u001b[0m\u001b[0;34m(\u001b[0m\u001b[0;34m)\u001b[0m\u001b[0;34m\u001b[0m\u001b[0m\n\u001b[1;32m     19\u001b[0m \u001b[0;34m\u001b[0m\u001b[0m\n",
      "\u001b[0;32m/home/ecf384/.conda/envs/eureka2/lib/python2.7/site-packages/causalinference/core/data.pyc\u001b[0m in \u001b[0;36m__init__\u001b[0;34m(self, outcome, treatment, covariates)\u001b[0m\n\u001b[1;32m     61\u001b[0m                 \u001b[0mself\u001b[0m\u001b[0;34m.\u001b[0m\u001b[0m_dict\u001b[0m\u001b[0;34m[\u001b[0m\u001b[0;34m'N_c'\u001b[0m\u001b[0;34m]\u001b[0m \u001b[0;34m=\u001b[0m \u001b[0mself\u001b[0m\u001b[0;34m.\u001b[0m\u001b[0m_dict\u001b[0m\u001b[0;34m[\u001b[0m\u001b[0;34m'N'\u001b[0m\u001b[0;34m]\u001b[0m \u001b[0;34m-\u001b[0m \u001b[0mself\u001b[0m\u001b[0;34m.\u001b[0m\u001b[0m_dict\u001b[0m\u001b[0;34m[\u001b[0m\u001b[0;34m'N_t'\u001b[0m\u001b[0;34m]\u001b[0m\u001b[0;34m\u001b[0m\u001b[0m\n\u001b[1;32m     62\u001b[0m                 \u001b[0;32mif\u001b[0m \u001b[0mself\u001b[0m\u001b[0;34m.\u001b[0m\u001b[0m_dict\u001b[0m\u001b[0;34m[\u001b[0m\u001b[0;34m'K'\u001b[0m\u001b[0;34m]\u001b[0m\u001b[0;34m+\u001b[0m\u001b[0;36m1\u001b[0m \u001b[0;34m>\u001b[0m \u001b[0mself\u001b[0m\u001b[0;34m.\u001b[0m\u001b[0m_dict\u001b[0m\u001b[0;34m[\u001b[0m\u001b[0;34m'N_c'\u001b[0m\u001b[0;34m]\u001b[0m\u001b[0;34m:\u001b[0m\u001b[0;34m\u001b[0m\u001b[0m\n\u001b[0;32m---> 63\u001b[0;31m                         \u001b[0;32mraise\u001b[0m \u001b[0mValueError\u001b[0m\u001b[0;34m(\u001b[0m\u001b[0;34m'Too few control units: N_c < K+1'\u001b[0m\u001b[0;34m)\u001b[0m\u001b[0;34m\u001b[0m\u001b[0m\n\u001b[0m\u001b[1;32m     64\u001b[0m                 \u001b[0;32mif\u001b[0m \u001b[0mself\u001b[0m\u001b[0;34m.\u001b[0m\u001b[0m_dict\u001b[0m\u001b[0;34m[\u001b[0m\u001b[0;34m'K'\u001b[0m\u001b[0;34m]\u001b[0m\u001b[0;34m+\u001b[0m\u001b[0;36m1\u001b[0m \u001b[0;34m>\u001b[0m \u001b[0mself\u001b[0m\u001b[0;34m.\u001b[0m\u001b[0m_dict\u001b[0m\u001b[0;34m[\u001b[0m\u001b[0;34m'N_t'\u001b[0m\u001b[0;34m]\u001b[0m\u001b[0;34m:\u001b[0m\u001b[0;34m\u001b[0m\u001b[0m\n\u001b[1;32m     65\u001b[0m                         \u001b[0;32mraise\u001b[0m \u001b[0mValueError\u001b[0m\u001b[0;34m(\u001b[0m\u001b[0;34m'Too few treated units: N_t < K+1'\u001b[0m\u001b[0;34m)\u001b[0m\u001b[0;34m\u001b[0m\u001b[0m\n",
      "\u001b[0;31mValueError\u001b[0m: Too few control units: N_c < K+1"
     ]
    }
   ],
   "source": [
    "# Run causal analysis \n",
    "Y = np.array(bill_rate_array)\n",
    "D = np.array(gender_array)\n",
    "X = np.array(all_covariates_array)\n",
    "\n",
    "causal = CausalModel(Y, D, X)\n",
    "causal.est_via_matching()\n",
    "print(causal.estimates)"
   ]
  },
  {
   "cell_type": "code",
   "execution_count": 444,
   "metadata": {},
   "outputs": [
    {
     "name": "stdout",
     "output_type": "stream",
     "text": [
      "23.8606705979\n"
     ]
    }
   ],
   "source": [
    "print np.mean(bill_rate_array)"
   ]
  },
  {
   "cell_type": "code",
   "execution_count": 445,
   "metadata": {},
   "outputs": [
    {
     "name": "stdout",
     "output_type": "stream",
     "text": [
      "25.2922389975\n"
     ]
    }
   ],
   "source": [
    "print all_bill_rates.std()"
   ]
  },
  {
   "cell_type": "code",
   "execution_count": 446,
   "metadata": {},
   "outputs": [
    {
     "data": {
      "text/plain": [
       "array([[<matplotlib.axes._subplots.AxesSubplot object at 0x7fbe16650710>]], dtype=object)"
      ]
     },
     "execution_count": 446,
     "metadata": {},
     "output_type": "execute_result"
    },
    {
     "data": {
      "image/png": "[encoded data removed]",
      "text/plain": [
       "<matplotlib.figure.Figure at 0x7fbe5019a910>"
      ]
     },
     "metadata": {},
     "output_type": "display_data"
    }
   ],
   "source": [
    "# Plot a histogram of bill rate\n",
    "\n",
    "merged.hist(column='bill_rate', figsize=(8,8), color=\"blue\", bins=50, range=(0,200))"
   ]
  },
  {
   "cell_type": "code",
   "execution_count": 447,
   "metadata": {},
   "outputs": [
    {
     "name": "stdout",
     "output_type": "stream",
     "text": [
      "col_0                             count\n",
      "country                                \n",
      "United States                      1360\n",
      "India                               836\n",
      "Ukraine                             666\n",
      "Philippines                         530\n",
      "Russia                              351\n",
      "Pakistan                            317\n",
      "Serbia                              217\n",
      "Bangladesh                          216\n",
      "United Kingdom                      215\n",
      "Egypt                               192\n",
      "Romania                             133\n",
      "Canada                              118\n",
      "Australia                            97\n",
      "Italy                                84\n",
      "Germany                              84\n",
      "France                               76\n",
      "Indonesia                            72\n",
      "Brazil                               66\n",
      "Armenia                              62\n",
      "Bulgaria                             62\n",
      "Macedonia                            62\n",
      "Spain                                57\n",
      "Greece                               56\n",
      "Venezuela                            53\n",
      "Kenya                                48\n",
      "Poland                               47\n",
      "Belarus                              47\n",
      "Turkey                               44\n",
      "China                                43\n",
      "Mexico                               40\n",
      "...                                 ...\n",
      "Grenada                               3\n",
      "Uruguay                               3\n",
      "Ethiopia                              3\n",
      "Taiwan                                3\n",
      "Qatar                                 3\n",
      "Cameroon                              2\n",
      "Guatemala                             2\n",
      "Haiti                                 2\n",
      "Iceland                               2\n",
      "Trinidad and Tobago                   2\n",
      "Oman                                  2\n",
      "Paraguay                              2\n",
      "Rwanda                                2\n",
      "Nicaragua                             2\n",
      "Ghana                                 2\n",
      "Malta                                 2\n",
      "British Virgin Islands                1\n",
      "Panama                                1\n",
      "Barbados                              1\n",
      "Turkmenistan                          1\n",
      "Saint Vincent and the Grenadines      1\n",
      "Bahrain                               1\n",
      "Mauritius                             1\n",
      "Guyana                                1\n",
      "Myanmar                               1\n",
      "United States Virgin Islands          1\n",
      "Botswana                              1\n",
      "Tajikistan                            1\n",
      "Aruba                                 1\n",
      "Saint Lucia                           1\n",
      "\n",
      "[126 rows x 1 columns]\n"
     ]
    },
    {
     "data": {
      "text/plain": [
       "<matplotlib.axes._subplots.AxesSubplot at 0x7fbe166a1490>"
      ]
     },
     "execution_count": 447,
     "metadata": {},
     "output_type": "execute_result"
    },
    {
     "data": {
      "image/png": "[encoded data removed]",
      "text/plain": [
       "<matplotlib.figure.Figure at 0x7fbe164450d0>"
      ]
     },
     "metadata": {},
     "output_type": "display_data"
    }
   ],
   "source": [
    "# Plot a bar chart of countries\n",
    "\n",
    "country_table = pd.crosstab(index=merged['country'], columns=\"count\")\n",
    "print country_table.sort_values(by=['count'], ascending=False)\n",
    "country_table.plot(kind=\"bar\", figsize=(8,8))\n",
    "\n",
    "## We find that the top 10 countries represented are United States, India, Ukraine, Philippines, \n",
    "## Russia, Pakistan, Serbia, United Kingdom\n",
    "## Bangladesh, and Egypt "
   ]
  },
  {
   "cell_type": "code",
   "execution_count": 448,
   "metadata": {
    "collapsed": true
   },
   "outputs": [],
   "source": [
    "# Plot bill rate by country "
   ]
  },
  {
   "cell_type": "code",
   "execution_count": 449,
   "metadata": {},
   "outputs": [
    {
     "name": "stdout",
     "output_type": "stream",
     "text": [
      "col_0            count\n",
      "work_experience       \n",
      "-1.0                 1\n",
      " 0.0              1787\n",
      " 1.0               647\n",
      " 2.0               691\n",
      " 3.0               641\n",
      " 4.0               645\n",
      " 5.0               470\n",
      " 6.0               409\n",
      " 7.0               368\n",
      " 8.0               265\n",
      " 9.0               284\n",
      " 10.0              194\n",
      " 11.0              166\n",
      " 12.0              107\n",
      " 13.0               84\n",
      " 14.0               85\n",
      " 15.0               66\n",
      " 16.0               56\n",
      " 17.0               51\n",
      " 18.0               53\n",
      " 19.0               36\n",
      " 20.0               19\n",
      " 21.0               34\n",
      " 22.0               24\n",
      " 23.0                9\n",
      " 24.0               10\n",
      " 25.0               16\n",
      " 26.0                9\n",
      " 27.0                7\n",
      " 28.0                6\n",
      " 29.0                8\n",
      " 30.0                6\n",
      " 31.0                2\n",
      " 32.0                1\n",
      " 33.0                6\n",
      " 34.0                4\n",
      " 35.0                5\n",
      " 36.0                4\n",
      " 37.0                3\n",
      " 38.0                3\n",
      " 39.0                2\n",
      " 41.0                1\n",
      " 42.0                1\n",
      " 44.0                2\n",
      " 45.0                1\n",
      " 46.0                2\n",
      " 76.0                1\n"
     ]
    },
    {
     "data": {
      "image/png": "[encoded data removed]",
      "text/plain": [
       "<matplotlib.figure.Figure at 0x7fbe16341a10>"
      ]
     },
     "metadata": {},
     "output_type": "display_data"
    }
   ],
   "source": [
    "# Get work experience distribution \n",
    "merged.hist(column='work_experience', figsize=(8,8), color=\"blue\", bins=50, range=(0,50))\n",
    "work_experience_table = pd.crosstab(index=merged['work_experience'], columns=\"count\")\n",
    "print work_experience_table"
   ]
  },
  {
   "cell_type": "code",
   "execution_count": 450,
   "metadata": {},
   "outputs": [
    {
     "name": "stdout",
     "output_type": "stream",
     "text": [
      "                            OLS Regression Results                            \n",
      "==============================================================================\n",
      "Dep. Variable:              bill_rate   R-squared:                       0.001\n",
      "Model:                            OLS   Adj. R-squared:                  0.000\n",
      "Method:                 Least Squares   F-statistic:                     4.053\n",
      "Date:                Wed, 22 Nov 2017   Prob (F-statistic):             0.0441\n",
      "Time:                        13:28:11   Log-Likelihood:                -33901.\n",
      "No. Observations:                7292   AIC:                         6.781e+04\n",
      "Df Residuals:                    7290   BIC:                         6.782e+04\n",
      "Df Model:                           1                                         \n",
      "Covariance Type:            nonrobust                                         \n",
      "==================================================================================\n",
      "                     coef    std err          t      P>|t|      [0.025      0.975]\n",
      "----------------------------------------------------------------------------------\n",
      "Intercept         23.0213      0.511     45.017      0.000      22.019      24.024\n",
      "gender[T.male]     1.2627      0.627      2.013      0.044       0.033       2.492\n",
      "==============================================================================\n",
      "Omnibus:                    12301.180   Durbin-Watson:                   2.004\n",
      "Prob(Omnibus):                  0.000   Jarque-Bera (JB):         32553024.531\n",
      "Skew:                          10.993   Prob(JB):                         0.00\n",
      "Kurtosis:                     329.585   Cond. No.                         3.22\n",
      "==============================================================================\n",
      "\n",
      "Warnings:\n",
      "[1] Standard Errors assume that the covariance matrix of the errors is correctly specified.\n",
      "                sum_sq      df         F   PR(>F)\n",
      "gender    2.591347e+03     1.0  4.052591  0.04414\n",
      "Residual  4.661442e+06  7290.0       NaN      NaN\n"
     ]
    }
   ],
   "source": [
    "# Computing statistical significance of bill rate between men and women on Upwork worldwide\n",
    "model = ols(\"bill_rate ~ gender\", merged).fit()\n",
    "anova_table = sm.stats.anova_lm(model, typ=2)\n",
    "print(model.summary())\n",
    "print anova_table"
   ]
  },
  {
   "cell_type": "code",
   "execution_count": 451,
   "metadata": {},
   "outputs": [
    {
     "name": "stdout",
     "output_type": "stream",
     "text": [
      "                            OLS Regression Results                            \n",
      "==============================================================================\n",
      "Dep. Variable:              bill_rate   R-squared:                       0.052\n",
      "Model:                            OLS   Adj. R-squared:                  0.051\n",
      "Method:                 Least Squares   F-statistic:                     36.64\n",
      "Date:                Wed, 22 Nov 2017   Prob (F-statistic):           2.42e-77\n",
      "Time:                        13:28:11   Log-Likelihood:                -33707.\n",
      "No. Observations:                7292   AIC:                         6.744e+04\n",
      "Df Residuals:                    7280   BIC:                         6.752e+04\n",
      "Df Model:                          11                                         \n",
      "Covariance Type:            nonrobust                                         \n",
      "==============================================================================================================\n",
      "                                                 coef    std err          t      P>|t|      [0.025      0.975]\n",
      "--------------------------------------------------------------------------------------------------------------\n",
      "Intercept                                     41.0064      1.738     23.596      0.000      37.600      44.413\n",
      "job_category[T.Admin Support]                -26.3984      1.972    -13.387      0.000     -30.264     -22.533\n",
      "job_category[T.Customer Service]             -27.6206      2.736    -10.096      0.000     -32.983     -22.258\n",
      "job_category[T.Data Science & Analytics]     -11.4994      2.417     -4.757      0.000     -16.238      -6.761\n",
      "job_category[T.Design & Creative]            -16.1711      1.842     -8.777      0.000     -19.783     -12.560\n",
      "job_category[T.Engineering & Architecture]   -19.5300      2.278     -8.574      0.000     -23.995     -15.065\n",
      "job_category[T.IT & Networking]              -13.2131      2.384     -5.543      0.000     -17.886      -8.540\n",
      "job_category[T.Legal]                         23.1429      4.894      4.729      0.000      13.549      32.737\n",
      "job_category[T.Sales & Marketing]            -10.3587      2.157     -4.803      0.000     -14.587      -6.131\n",
      "job_category[T.Translation]                  -23.4922      1.978    -11.878      0.000     -27.369     -19.615\n",
      "job_category[T.Web, Mobile & Software Dev]   -17.1877      1.822     -9.432      0.000     -20.760     -13.615\n",
      "job_category[T.Writing]                      -14.5073      1.942     -7.471      0.000     -18.314     -10.701\n",
      "==============================================================================\n",
      "Omnibus:                    12535.798   Durbin-Watson:                   2.012\n",
      "Prob(Omnibus):                  0.000   Jarque-Bera (JB):         38847490.067\n",
      "Skew:                          11.401   Prob(JB):                         0.00\n",
      "Kurtosis:                     359.844   Cond. No.                         24.0\n",
      "==============================================================================\n",
      "\n",
      "Warnings:\n",
      "[1] Standard Errors assume that the covariance matrix of the errors is correctly specified.\n",
      "                    sum_sq      df          F        PR(>F)\n",
      "job_category  2.446408e+05    11.0  36.635735  2.419322e-77\n",
      "Residual      4.419393e+06  7280.0        NaN           NaN\n"
     ]
    }
   ],
   "source": [
    "# Computing statistical significance of bill rate between people from different job categories on Upwork worldwide\n",
    "model = ols(\"bill_rate ~ job_category\", merged).fit()\n",
    "anova_table = sm.stats.anova_lm(model, typ=2)\n",
    "print(model.summary())\n",
    "print anova_table"
   ]
  },
  {
   "cell_type": "code",
   "execution_count": 452,
   "metadata": {},
   "outputs": [
    {
     "name": "stdout",
     "output_type": "stream",
     "text": [
      "                            OLS Regression Results                            \n",
      "==============================================================================\n",
      "Dep. Variable:              bill_rate   R-squared:                       0.008\n",
      "Model:                            OLS   Adj. R-squared:                  0.007\n",
      "Method:                 Least Squares   F-statistic:                     11.15\n",
      "Date:                Wed, 22 Nov 2017   Prob (F-statistic):           1.00e-10\n",
      "Time:                        13:28:11   Log-Likelihood:                -33875.\n",
      "No. Observations:                7292   AIC:                         6.776e+04\n",
      "Df Residuals:                    7286   BIC:                         6.780e+04\n",
      "Df Model:                           5                                         \n",
      "Covariance Type:            nonrobust                                         \n",
      "=============================================================================================\n",
      "                                coef    std err          t      P>|t|      [0.025      0.975]\n",
      "---------------------------------------------------------------------------------------------\n",
      "Intercept                    24.5692      1.607     15.289      0.000      21.419      27.719\n",
      "education[T.Bachelor]        -1.4520      1.654     -0.878      0.380      -4.695       1.791\n",
      "education[T.Doctorate]       11.7190      2.799      4.187      0.000       6.233      17.205\n",
      "education[T.High School]     -7.1947      2.457     -2.929      0.003     -12.010      -2.379\n",
      "education[T.Master]          -0.0396      1.685     -0.023      0.981      -3.343       3.263\n",
      "education[T.Professional]     5.2806      2.595      2.035      0.042       0.193      10.368\n",
      "==============================================================================\n",
      "Omnibus:                    12369.031   Durbin-Watson:                   2.006\n",
      "Prob(Omnibus):                  0.000   Jarque-Bera (JB):         33794131.420\n",
      "Skew:                          11.116   Prob(JB):                         0.00\n",
      "Kurtosis:                     335.764   Cond. No.                         17.4\n",
      "==============================================================================\n",
      "\n",
      "Warnings:\n",
      "[1] Standard Errors assume that the covariance matrix of the errors is correctly specified.\n",
      "                 sum_sq      df          F        PR(>F)\n",
      "education  3.542110e+04     5.0  11.151427  1.002894e-10\n",
      "Residual   4.628612e+06  7286.0        NaN           NaN\n"
     ]
    }
   ],
   "source": [
    "# Computing statistical significance of bill rate between people with different education on Upwork worldwide\n",
    "model = ols(\"bill_rate ~ education\", merged).fit()\n",
    "anova_table = sm.stats.anova_lm(model, typ=2)\n",
    "print(model.summary())\n",
    "print anova_table"
   ]
  },
  {
   "cell_type": "code",
   "execution_count": 453,
   "metadata": {},
   "outputs": [
    {
     "name": "stdout",
     "output_type": "stream",
     "text": [
      "                            OLS Regression Results                            \n",
      "==============================================================================\n",
      "Dep. Variable:              bill_rate   R-squared:                       0.031\n",
      "Model:                            OLS   Adj. R-squared:                  0.030\n",
      "Method:                 Least Squares   F-statistic:                     28.78\n",
      "Date:                Wed, 22 Nov 2017   Prob (F-statistic):           1.45e-44\n",
      "Time:                        13:28:12   Log-Likelihood:                -33790.\n",
      "No. Observations:                7292   AIC:                         6.760e+04\n",
      "Df Residuals:                    7283   BIC:                         6.766e+04\n",
      "Df Model:                           8                                         \n",
      "Covariance Type:            nonrobust                                         \n",
      "=============================================================================================\n",
      "                                coef    std err          t      P>|t|      [0.025      0.975]\n",
      "---------------------------------------------------------------------------------------------\n",
      "Intercept                    18.5707      1.684     11.026      0.000      15.269      21.873\n",
      "education[T.Bachelor]        -0.5566      1.639     -0.340      0.734      -3.770       2.656\n",
      "education[T.Doctorate]        9.4272      2.777      3.395      0.001       3.984      14.870\n",
      "education[T.High School]     -5.8440      2.434     -2.401      0.016     -10.615      -1.073\n",
      "education[T.Master]           0.0857      1.668      0.051      0.959      -3.184       3.355\n",
      "education[T.Professional]     4.7346      2.575      1.839      0.066      -0.313       9.782\n",
      "gender[T.male]                1.6041      0.623      2.575      0.010       0.383       2.825\n",
      "job_category_id               0.5039      0.091      5.532      0.000       0.325       0.682\n",
      "work_experience               0.5941      0.052     11.396      0.000       0.492       0.696\n",
      "==============================================================================\n",
      "Omnibus:                    12486.118   Durbin-Watson:                   2.005\n",
      "Prob(Omnibus):                  0.000   Jarque-Bera (JB):         36698598.273\n",
      "Skew:                          11.322   Prob(JB):                         0.00\n",
      "Kurtosis:                     349.803   Cond. No.                         114.\n",
      "==============================================================================\n",
      "\n",
      "Warnings:\n",
      "[1] Standard Errors assume that the covariance matrix of the errors is correctly specified.\n",
      "                       sum_sq      df           F        PR(>F)\n",
      "education        2.114401e+04     5.0    6.812102  2.394017e-06\n",
      "gender           4.117505e+03     1.0    6.632815  1.003123e-02\n",
      "job_category_id  1.899699e+04     1.0   30.601901  3.277802e-08\n",
      "work_experience  8.061378e+04     1.0  129.859288  7.863339e-30\n",
      "Residual         4.521126e+06  7283.0         NaN           NaN\n"
     ]
    }
   ],
   "source": [
    "# Computing statistical significance of bill rate between people with different education on Upwork worldwide\n",
    "model = ols(\"bill_rate ~ job_category_id + education + gender + work_experience\", merged).fit()\n",
    "anova_table = sm.stats.anova_lm(model, typ=2)\n",
    "print(model.summary())\n",
    "print anova_table"
   ]
  },
  {
   "cell_type": "code",
   "execution_count": null,
   "metadata": {
    "collapsed": true
   },
   "outputs": [],
   "source": []
  },
  {
   "cell_type": "code",
   "execution_count": null,
   "metadata": {
    "collapsed": true
   },
   "outputs": [],
   "source": []
  }
 ],
 "metadata": {
  "kernelspec": {
   "display_name": "Python 2",
   "language": "python",
   "name": "python2"
  },
  "language_info": {
   "codemirror_mode": {
    "name": "ipython",
    "version": 2
   },
   "file_extension": ".py",
   "mimetype": "text/x-python",
   "name": "python",
   "nbconvert_exporter": "python",
   "pygments_lexer": "ipython2",
   "version": "2.7.13"
  }
 },
 "nbformat": 4,
 "nbformat_minor": 2
}
