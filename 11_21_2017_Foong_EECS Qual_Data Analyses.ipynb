{
 "cells": [
  {
   "cell_type": "markdown",
   "metadata": {},
   "source": [
    "# Upwork Data Analyses"
   ]
  },
  {
   "cell_type": "code",
   "execution_count": 15,
   "metadata": {},
   "outputs": [
    {
     "name": "stdout",
     "output_type": "stream",
     "text": [
      "[0]\n",
      "Bill rate array length: 1360\n",
      "Gender array length: 1360\n",
      "Covariate array length: 1360\n",
      "Female count: 669, Male count: 691\n"
     ]
    }
   ],
   "source": [
    "import httplib2\n",
    "import oauth2\n",
    "import urllib3\n",
    "import types\n",
    "import re\n",
    "import numpy as np\n",
    "import pandas as pd\n",
    "import matplotlib.pyplot as plt\n",
    "%matplotlib inline\n",
    "from gender_detector import GenderDetector \n",
    "import psycopg2, psycopg2.extras\n",
    "from causalinference import CausalModel\n",
    "from causalinference.utils import random_data\n",
    "import httplib\n",
    "import base64\n",
    "import json # For Microsoft Face API\n",
    "import urllib as urllib # For Microsoft Face API\n",
    "import time \n",
    "import csv\n",
    "import datetime \n",
    "from statsmodels.formula.api import ols\n",
    "import statsmodels.api as sm\n",
    "\n",
    "# Initialize arrays for Causal Analysis \n",
    "user_count = 1\n",
    "bill_rate_array = []\n",
    "gender_array = []\n",
    "all_covariates_array = []\n",
    "\n",
    "# Read data from csv files and reformat\n",
    "all_data_file_name = '11_21_2017_upwork_analysis_worldwide_allskills.csv' # Filename for all data\n",
    "gender_data_file_name = '11_20_2017_upwork_gender_analysis_worldwide_allskills.csv' # Filename for gender data\n",
    "df = pd.read_csv(all_data_file_name)\n",
    "df_gender = pd.read_csv(gender_data_file_name)\n",
    "\n",
    "# Merge the files, then remove rows with an error, no gender identified, or ambiguous education\n",
    "merged = df.merge(df_gender, on='user_count')\n",
    "merged = merged[merged.bill_rate != 'error']\n",
    "merged = merged[merged.gender != 'unidentified']\n",
    "merged = merged[merged.gender != 'error']\n",
    "merged = merged[merged.education != 'None']\n",
    "merged = merged[merged.job_category != 'none']\n",
    "merged = merged[merged.country == 'United States'] # Look only at data in the United States, which is the largest dataset\n",
    "\n",
    "all_bill_rates = merged.bill_rate.astype('float')\n",
    "merged['bill_rate'] = merged.bill_rate.astype('float')\n",
    "merged['work_experience'] = merged.work_experience.astype('float')\n",
    "all_work_experience = merged.work_experience\n",
    "all_education_id = merged.education_id\n",
    "all_job_category_id = merged.job_category_id\n",
    "all_country_id = merged.country_id\n",
    "all_genders = merged.gender\n",
    "female_count = 0\n",
    "male_count = 0\n",
    "\n",
    "# Converting covariates to a matrix on a dichotomous scale\n",
    "def make_dichotomous_matrix(id_value, covariate, final_matrix):\n",
    "    for option in list(set(covariate)):\n",
    "        if (id_value == option):\n",
    "            final_matrix.append(1)\n",
    "        else:\n",
    "            final_matrix.append(0)\n",
    "    return final_matrix\n",
    "\n",
    "covariate_matrix = []\n",
    "print make_dichotomous_matrix(20, all_country_id, covariate_matrix)\n",
    "        \n",
    "# Data formatting \n",
    "for gender in all_genders:\n",
    "    if (gender == \"male\"):\n",
    "        gender_array.append(0)\n",
    "        male_count += 1\n",
    "    elif (gender == \"female\"): # Female as the treatment group\n",
    "        gender_array.append(1)\n",
    "        female_count += 1\n",
    "\n",
    "for rate in all_bill_rates:\n",
    "    rate = round(float(rate), 2)\n",
    "    bill_rate_array.append(rate)\n",
    "    \n",
    "\n",
    "for row in merged.itertuples():    \n",
    "    job_category_matrix = []\n",
    "    country_matrix = []\n",
    "    education_matrix = []\n",
    "    individual_covariate_matrix = []\n",
    "    \n",
    "    #Blocked out because not considering >1 country\n",
    "    #country_matrix = make_dichotomous_matrix(row.country_id, all_country_id, country_matrix)\n",
    "    #individual_covariate_matrix.extend(country_matrix)\n",
    "    \n",
    "    job_category_matrix = make_dichotomous_matrix(row.job_category_id, all_job_category_id, job_category_matrix)\n",
    "    education_matrix = make_dichotomous_matrix(row.education_id, all_education_id, education_matrix)\n",
    "    \n",
    "    individual_covariate_matrix.extend(job_category_matrix)\n",
    "    individual_covariate_matrix.extend(education_matrix)\n",
    "    individual_covariate_matrix.append(row.work_experience)\n",
    "    all_covariates_array.append(individual_covariate_matrix)\n",
    "\n",
    "# Check that arrays contain complete data\n",
    "print \"Bill rate array length: {0}\".format(len(bill_rate_array))\n",
    "print \"Gender array length: {0}\".format(len(gender_array))\n",
    "print \"Covariate array length: {0}\".format(len(all_covariates_array))\n",
    "print \"Female count: {0}, Male count: {1}\".format(female_count, male_count)\n"
   ]
  },
  {
   "cell_type": "markdown",
   "metadata": {},
   "source": [
    "# Causal Analysis"
   ]
  },
  {
   "cell_type": "code",
   "execution_count": 16,
   "metadata": {},
   "outputs": [
    {
     "name": "stdout",
     "output_type": "stream",
     "text": [
      "\n",
      "Summary Statistics\n",
      "\n",
      "                       Controls (N_c=691)         Treated (N_t=669)             \n",
      "       Variable         Mean         S.d.         Mean         S.d.     Raw-diff\n",
      "--------------------------------------------------------------------------------\n",
      "              Y       44.695       49.860       35.286       26.106       -9.409\n",
      "\n",
      "                       Controls (N_c=691)         Treated (N_t=669)             \n",
      "       Variable         Mean         S.d.         Mean         S.d.     Nor-diff\n",
      "--------------------------------------------------------------------------------\n",
      "             X0        0.250        0.434        0.278        0.448        0.063\n",
      "             X1        0.226        0.418        0.043        0.204       -0.554\n",
      "             X2        0.049        0.216        0.163        0.370        0.376\n",
      "             X3        0.052        0.222        0.009        0.094       -0.252\n",
      "             X4        0.029        0.168        0.048        0.214        0.098\n",
      "             X5        0.172        0.378        0.271        0.445        0.238\n",
      "             X6        0.025        0.155        0.012        0.109       -0.094\n",
      "             X7        0.059        0.236        0.021        0.143       -0.196\n",
      "             X8        0.059        0.236        0.052        0.223       -0.031\n",
      "             X9        0.007        0.085        0.016        0.127        0.085\n",
      "            X10        0.059        0.236        0.079        0.270        0.078\n",
      "            X11        0.012        0.107        0.007        0.086       -0.042\n",
      "            X12        0.621        0.486        0.592        0.492       -0.059\n",
      "            X13        0.223        0.416        0.271        0.445        0.111\n",
      "            X14        0.029        0.168        0.016        0.127       -0.084\n",
      "            X15        0.027        0.164        0.019        0.138       -0.053\n",
      "            X16        0.026        0.159        0.027        0.162        0.005\n",
      "            X17        0.074        0.262        0.075        0.263        0.004\n",
      "            X18        5.469        6.731        5.677        6.750        0.031\n",
      "\n"
     ]
    }
   ],
   "source": [
    "Y = np.array(bill_rate_array)\n",
    "D = np.array(gender_array)\n",
    "X = np.array(all_covariates_array)\n",
    "\n",
    "causal = CausalModel(Y, D, X)\n",
    "\n",
    "print(causal.summary_stats)\n",
    "\n",
    "##TO CHECK OUT -- WHY STD SO BIG?##"
   ]
  },
  {
   "cell_type": "code",
   "execution_count": 30,
   "metadata": {},
   "outputs": [
    {
     "name": "stdout",
     "output_type": "stream",
     "text": [
      "[0.072078563246551139, 0.17415809375660629, 0.34387901061231252, 0.47712992237638996, 0.52400007655087222, 0.5617148138531628, 0.62053786851470638, 0.99999938314819337]\n",
      "\n",
      "Stratification Summary\n",
      "\n",
      "              Propensity Score         Sample Size     Ave. Propensity   Outcome\n",
      "   Stratum      Min.      Max.  Controls   Treated  Controls   Treated  Raw-diff\n",
      "--------------------------------------------------------------------------------\n",
      "         1     0.072     0.174       192        35     0.153     0.158    -5.188\n",
      "         2     0.178     0.344        59        21     0.263     0.279    -5.352\n",
      "         3     0.353     0.477        62        48     0.434     0.440   -11.214\n",
      "         4     0.524     0.524       178       197     0.524     0.524    -5.249\n",
      "         5     0.556     0.562       121       154     0.560     0.560   -12.532\n",
      "         6     0.589     0.621        22        37     0.601     0.604    -2.179\n",
      "         7     0.679     1.000        57       177     0.759     0.764    -0.155\n",
      "\n",
      "\n",
      "Summary Statistics\n",
      "\n",
      "                       Controls (N_c=192)          Treated (N_t=35)             \n",
      "       Variable         Mean         S.d.         Mean         S.d.     Raw-diff\n",
      "--------------------------------------------------------------------------------\n",
      "              Y       45.260       32.707       40.071       29.997       -5.188\n",
      "\n",
      "                       Controls (N_c=192)          Treated (N_t=35)             \n",
      "       Variable         Mean         S.d.         Mean         S.d.     Nor-diff\n",
      "--------------------------------------------------------------------------------\n",
      "             X0        0.000        0.000        0.000        0.000          nan\n",
      "             X1        0.812        0.391        0.829        0.382        0.042\n",
      "             X2        0.000        0.000        0.000        0.000          nan\n",
      "             X3        0.188        0.391        0.171        0.382       -0.042\n",
      "             X4        0.000        0.000        0.000        0.000          nan\n",
      "             X5        0.000        0.000        0.000        0.000          nan\n",
      "             X6        0.000        0.000        0.000        0.000          nan\n",
      "             X7        0.000        0.000        0.000        0.000          nan\n",
      "             X8        0.000        0.000        0.000        0.000          nan\n",
      "             X9        0.000        0.000        0.000        0.000          nan\n",
      "            X10        0.000        0.000        0.000        0.000          nan\n",
      "            X11        0.000        0.000        0.000        0.000          nan\n",
      "            X12        0.609        0.489        0.686        0.471        0.159\n",
      "            X13        0.214        0.411        0.257        0.443        0.102\n",
      "            X14        0.010        0.102        0.000        0.000       -0.145\n",
      "            X15        0.042        0.200        0.000        0.000       -0.294\n",
      "            X16        0.005        0.072        0.029        0.169        0.180\n",
      "            X17        0.120        0.326        0.029        0.169       -0.352\n",
      "            X18        4.396        5.571        4.286        5.233       -0.020\n",
      "\n",
      "\n",
      "Summary Statistics\n",
      "\n",
      "                        Controls (N_c=59)          Treated (N_t=21)             \n",
      "       Variable         Mean         S.d.         Mean         S.d.     Raw-diff\n",
      "--------------------------------------------------------------------------------\n",
      "              Y       46.947       29.641       41.595       23.719       -5.352\n",
      "\n",
      "                        Controls (N_c=59)          Treated (N_t=21)             \n",
      "       Variable         Mean         S.d.         Mean         S.d.     Nor-diff\n",
      "--------------------------------------------------------------------------------\n",
      "             X0        0.051        0.222        0.048        0.218       -0.015\n",
      "             X1        0.000        0.000        0.000        0.000          nan\n",
      "             X2        0.000        0.000        0.000        0.000          nan\n",
      "             X3        0.000        0.000        0.000        0.000          nan\n",
      "             X4        0.000        0.000        0.000        0.000          nan\n",
      "             X5        0.000        0.000        0.000        0.000          nan\n",
      "             X6        0.288        0.457        0.381        0.498        0.194\n",
      "             X7        0.627        0.488        0.524        0.512       -0.207\n",
      "             X8        0.000        0.000        0.000        0.000          nan\n",
      "             X9        0.000        0.000        0.000        0.000          nan\n",
      "            X10        0.017        0.130        0.048        0.218        0.171\n",
      "            X11        0.017        0.130        0.000        0.000       -0.184\n",
      "            X12        0.492        0.504        0.286        0.463       -0.425\n",
      "            X13        0.373        0.488        0.524        0.512        0.302\n",
      "            X14        0.102        0.305        0.095        0.301       -0.021\n",
      "            X15        0.000        0.000        0.000        0.000          nan\n",
      "            X16        0.000        0.000        0.000        0.000          nan\n",
      "            X17        0.034        0.183        0.095        0.301        0.247\n",
      "            X18        5.237        5.761        4.095        4.805       -0.215\n",
      "\n"
     ]
    }
   ],
   "source": [
    "# Stratification\n",
    "\n",
    "causal.est_propensity_s()\n",
    "causal.stratify_s()\n",
    "\n",
    "print(causal.blocks)\n",
    "print(causal.strata)\n",
    "print(causal.strata[0].summary_stats)\n",
    "print(causal.strata[1].summary_stats)"
   ]
  },
  {
   "cell_type": "code",
   "execution_count": 35,
   "metadata": {},
   "outputs": [
    {
     "name": "stdout",
     "output_type": "stream",
     "text": [
      "\n",
      "Treatment Effect Estimates: Matching\n",
      "\n",
      "                     Est.       S.e.          z      P>|z|      [95% Conf. int.]\n",
      "--------------------------------------------------------------------------------\n",
      "           ATE     -7.410      2.873     -2.579      0.010    -13.042     -1.778\n",
      "           ATC     -9.256      3.110     -2.976      0.003    -15.353     -3.159\n",
      "           ATT     -5.503      3.497     -1.574      0.116    -12.357      1.351\n",
      "\n"
     ]
    }
   ],
   "source": [
    "# Matching\n",
    "causal.est_via_matching()\n",
    "print(causal.estimates)"
   ]
  },
  {
   "cell_type": "markdown",
   "metadata": {},
   "source": [
    "# Descriptive Statistics\n",
    "\n",
    "Things to look into next:\n",
    "\n",
    "https://matplotlib.org/devdocs/gallery/shapes_and_collections/scatter.html#sphx-glr-gallery-shapes-and-collections-scatter-py\n",
    "\n",
    "http://scikit-learn.org/stable/auto_examples/cluster/plot_dbscan.html\n"
   ]
  },
  {
   "cell_type": "markdown",
   "metadata": {},
   "source": [
    "# Bill Rate Across Gender"
   ]
  },
  {
   "cell_type": "code",
   "execution_count": 18,
   "metadata": {},
   "outputs": [
    {
     "name": "stdout",
     "output_type": "stream",
     "text": [
      "Mean bill rates\n",
      "gender\n",
      "female    35.285770\n",
      "male      44.695181\n",
      "Name: bill_rate, dtype: float64\n",
      "Standard deviation of bill rates\n",
      "gender\n",
      "female    26.105574\n",
      "male      49.860480\n",
      "Name: bill_rate, dtype: float64\n"
     ]
    }
   ],
   "source": [
    "gender_table= merged.groupby('gender')['bill_rate'].mean()\n",
    "print \"Mean bill rates\"\n",
    "print gender_table\n",
    "\n",
    "gender_table= merged.groupby('gender')['bill_rate'].std()\n",
    "print \"Standard deviation of bill rates\"\n",
    "print gender_table"
   ]
  },
  {
   "cell_type": "markdown",
   "metadata": {},
   "source": [
    "# Bill Rate Across Job Categories"
   ]
  },
  {
   "cell_type": "code",
   "execution_count": 19,
   "metadata": {
    "scrolled": true
   },
   "outputs": [
    {
     "data": {
      "text/plain": [
       "<matplotlib.axes._subplots.AxesSubplot at 0x7fd6b423f990>"
      ]
     },
     "execution_count": 19,
     "metadata": {},
     "output_type": "execute_result"
    },
    {
     "data": {
      "image/png": "[encoded data removed]",
      "text/plain": [
       "<matplotlib.figure.Figure at 0x7fd64ffc5390>"
      ]
     },
     "metadata": {},
     "output_type": "display_data"
    }
   ],
   "source": [
    "gender_table= merged.groupby('job_category')['bill_rate'].mean()\n",
    "gender_table.plot(kind=\"bar\", figsize=(8,8))"
   ]
  },
  {
   "cell_type": "markdown",
   "metadata": {},
   "source": [
    "# Distribution of Covariates\n",
    "\n",
    "Levels of education by gender"
   ]
  },
  {
   "cell_type": "code",
   "execution_count": 20,
   "metadata": {},
   "outputs": [
    {
     "data": {
      "text/plain": [
       "<matplotlib.axes._subplots.AxesSubplot at 0x7fd64ffeba50>"
      ]
     },
     "execution_count": 20,
     "metadata": {},
     "output_type": "execute_result"
    },
    {
     "data": {
      "image/png": "[encoded data removed]",
      "text/plain": [
       "<matplotlib.figure.Figure at 0x7fd6b4267950>"
      ]
     },
     "metadata": {},
     "output_type": "display_data"
    }
   ],
   "source": [
    "education_table = pd.crosstab(merged['education'], merged['gender'])\n",
    "education_table.plot(kind=\"bar\", figsize=(8,8))"
   ]
  },
  {
   "cell_type": "code",
   "execution_count": 21,
   "metadata": {},
   "outputs": [
    {
     "data": {
      "text/plain": [
       "array([[<matplotlib.axes._subplots.AxesSubplot object at 0x7fd6b4429c50>]], dtype=object)"
      ]
     },
     "execution_count": 21,
     "metadata": {},
     "output_type": "execute_result"
    },
    {
     "data": {
      "image/png": "[encoded data removed]",
      "text/plain": [
       "<matplotlib.figure.Figure at 0x7fd6b43b70d0>"
      ]
     },
     "metadata": {},
     "output_type": "display_data"
    }
   ],
   "source": [
    "# Plot a histogram of bill rate\n",
    "\n",
    "merged.hist(column='bill_rate', figsize=(8,8), color=\"blue\", bins=50, range=(0,200))"
   ]
  },
  {
   "cell_type": "code",
   "execution_count": 22,
   "metadata": {},
   "outputs": [
    {
     "name": "stdout",
     "output_type": "stream",
     "text": [
      "col_0          count\n",
      "country             \n",
      "United States   1360\n"
     ]
    }
   ],
   "source": [
    "# Plot a bar chart of countries\n",
    "\n",
    "country_table = pd.crosstab(index=merged['country'], columns=\"count\")\n",
    "print country_table.sort_values(by=['count'], ascending=False)\n",
    "\n",
    "## We find that the top 10 countries represented are United States, India, Ukraine, Philippines, \n",
    "## Russia, Pakistan, Serbia, United Kingdom\n",
    "## Bangladesh, and Egypt "
   ]
  },
  {
   "cell_type": "code",
   "execution_count": 23,
   "metadata": {
    "collapsed": true
   },
   "outputs": [],
   "source": [
    "# Plot bill rate by country "
   ]
  },
  {
   "cell_type": "code",
   "execution_count": 25,
   "metadata": {},
   "outputs": [
    {
     "data": {
      "text/plain": [
       "array([[<matplotlib.axes._subplots.AxesSubplot object at 0x7fd6c2d66f10>]], dtype=object)"
      ]
     },
     "execution_count": 25,
     "metadata": {},
     "output_type": "execute_result"
    },
    {
     "data": {
      "image/png": "[encoded data removed]",
      "text/plain": [
       "<matplotlib.figure.Figure at 0x7fd6c2d07e90>"
      ]
     },
     "metadata": {},
     "output_type": "display_data"
    }
   ],
   "source": [
    "# Get work experience distribution \n",
    "merged.hist(column='work_experience', figsize=(8,8), color=\"blue\", bins=50, range=(0,50))"
   ]
  },
  {
   "cell_type": "code",
   "execution_count": 27,
   "metadata": {},
   "outputs": [
    {
     "name": "stdout",
     "output_type": "stream",
     "text": [
      "                            OLS Regression Results                            \n",
      "==============================================================================\n",
      "Dep. Variable:              bill_rate   R-squared:                       0.014\n",
      "Model:                            OLS   Adj. R-squared:                  0.013\n",
      "Method:                 Least Squares   F-statistic:                     18.83\n",
      "Date:                Fri, 24 Nov 2017   Prob (F-statistic):           1.54e-05\n",
      "Time:                        23:29:17   Log-Likelihood:                -6945.0\n",
      "No. Observations:                1360   AIC:                         1.389e+04\n",
      "Df Residuals:                    1358   BIC:                         1.390e+04\n",
      "Df Model:                           1                                         \n",
      "Covariance Type:            nonrobust                                         \n",
      "==================================================================================\n",
      "                     coef    std err          t      P>|t|      [0.025      0.975]\n",
      "----------------------------------------------------------------------------------\n",
      "Intercept         35.2858      1.546     22.828      0.000      32.254      38.318\n",
      "gender[T.male]     9.4094      2.169      4.339      0.000       5.155      13.663\n",
      "==============================================================================\n",
      "Omnibus:                     2335.956   Durbin-Watson:                   2.037\n",
      "Prob(Omnibus):                  0.000   Jarque-Bera (JB):          3302663.433\n",
      "Skew:                          11.088   Prob(JB):                         0.00\n",
      "Kurtosis:                     243.397   Cond. No.                         2.64\n",
      "==============================================================================\n",
      "\n",
      "Warnings:\n",
      "[1] Standard Errors assume that the covariance matrix of the errors is correctly specified.\n",
      "                sum_sq      df          F    PR(>F)\n",
      "gender    3.009471e+04     1.0  18.828004  0.000015\n",
      "Residual  2.170629e+06  1358.0        NaN       NaN\n"
     ]
    }
   ],
   "source": [
    "# Computing statistical significance of bill rate between men and women on Upwork\n",
    "model = ols(\"bill_rate ~ gender\", merged).fit()\n",
    "anova_table = sm.stats.anova_lm(model, typ=2)\n",
    "print(model.summary())\n",
    "print anova_table"
   ]
  },
  {
   "cell_type": "code",
   "execution_count": 28,
   "metadata": {},
   "outputs": [
    {
     "name": "stdout",
     "output_type": "stream",
     "text": [
      "                            OLS Regression Results                            \n",
      "==============================================================================\n",
      "Dep. Variable:              bill_rate   R-squared:                       0.068\n",
      "Model:                            OLS   Adj. R-squared:                  0.060\n",
      "Method:                 Least Squares   F-statistic:                     8.910\n",
      "Date:                Fri, 24 Nov 2017   Prob (F-statistic):           1.80e-15\n",
      "Time:                        23:29:18   Log-Likelihood:                -6906.6\n",
      "No. Observations:                1360   AIC:                         1.384e+04\n",
      "Df Residuals:                    1348   BIC:                         1.390e+04\n",
      "Df Model:                          11                                         \n",
      "Covariance Type:            nonrobust                                         \n",
      "==============================================================================================================\n",
      "                                                 coef    std err          t      P>|t|      [0.025      0.975]\n",
      "--------------------------------------------------------------------------------------------------------------\n",
      "Intercept                                     56.2362      4.475     12.567      0.000      47.458      65.015\n",
      "job_category[T.Admin Support]                -30.6756      5.538     -5.539      0.000     -41.539     -19.812\n",
      "job_category[T.Customer Service]             -30.8162     10.731     -2.872      0.004     -51.867      -9.766\n",
      "job_category[T.Data Science & Analytics]     -13.4262      6.906     -1.944      0.052     -26.974       0.122\n",
      "job_category[T.Design & Creative]            -18.3645      4.926     -3.728      0.000     -28.028      -8.701\n",
      "job_category[T.Engineering & Architecture]    -6.6830      8.995     -0.743      0.458     -24.328      10.962\n",
      "job_category[T.IT & Networking]              -10.7124      7.501     -1.428      0.153     -25.427       4.002\n",
      "job_category[T.Legal]                         47.7638     11.709      4.079      0.000      24.794      70.733\n",
      "job_category[T.Sales & Marketing]             -1.3166      6.018     -0.219      0.827     -13.122      10.489\n",
      "job_category[T.Translation]                  -29.6304      7.021     -4.220      0.000     -43.404     -15.857\n",
      "job_category[T.Web, Mobile & Software Dev]   -12.0182      5.315     -2.261      0.024     -22.445      -1.591\n",
      "job_category[T.Writing]                      -19.6525      5.010     -3.923      0.000     -29.480      -9.825\n",
      "==============================================================================\n",
      "Omnibus:                     2438.511   Durbin-Watson:                   2.030\n",
      "Prob(Omnibus):                  0.000   Jarque-Bera (JB):          4402437.109\n",
      "Skew:                          12.090   Prob(JB):                         0.00\n",
      "Kurtosis:                     280.679   Cond. No.                         17.1\n",
      "==============================================================================\n",
      "\n",
      "Warnings:\n",
      "[1] Standard Errors assume that the covariance matrix of the errors is correctly specified.\n",
      "                    sum_sq      df         F        PR(>F)\n",
      "job_category  1.491618e+05    11.0  8.909848  1.797546e-15\n",
      "Residual      2.051562e+06  1348.0       NaN           NaN\n"
     ]
    }
   ],
   "source": [
    "# Computing statistical significance of bill rate between people from different job categories on Upwork worldwide\n",
    "model = ols(\"bill_rate ~ job_category\", merged).fit()\n",
    "anova_table = sm.stats.anova_lm(model, typ=2)\n",
    "print(model.summary())\n",
    "print anova_table"
   ]
  },
  {
   "cell_type": "code",
   "execution_count": 36,
   "metadata": {},
   "outputs": [
    {
     "name": "stdout",
     "output_type": "stream",
     "text": [
      "                            OLS Regression Results                            \n",
      "==============================================================================\n",
      "Dep. Variable:              bill_rate   R-squared:                       0.015\n",
      "Model:                            OLS   Adj. R-squared:                  0.011\n",
      "Method:                 Least Squares   F-statistic:                     4.041\n",
      "Date:                Fri, 24 Nov 2017   Prob (F-statistic):            0.00121\n",
      "Time:                        23:36:45   Log-Likelihood:                -6944.2\n",
      "No. Observations:                1360   AIC:                         1.390e+04\n",
      "Df Residuals:                    1354   BIC:                         1.393e+04\n",
      "Df Model:                           5                                         \n",
      "Covariance Type:            nonrobust                                         \n",
      "=============================================================================================\n",
      "                                coef    std err          t      P>|t|      [0.025      0.975]\n",
      "---------------------------------------------------------------------------------------------\n",
      "Intercept                    31.5326      3.982      7.919      0.000      23.721      39.344\n",
      "education[T.Bachelor]         7.7809      4.219      1.844      0.065      -0.495      16.057\n",
      "education[T.Doctorate]       21.4190      8.217      2.607      0.009       5.300      37.538\n",
      "education[T.High School]     -7.1632      8.118     -0.882      0.378     -23.088       8.762\n",
      "education[T.Master]          11.6402      4.543      2.562      0.011       2.729      20.552\n",
      "education[T.Professional]    23.6877      7.768      3.049      0.002       8.449      38.926\n",
      "==============================================================================\n",
      "Omnibus:                     2355.285   Durbin-Watson:                   2.011\n",
      "Prob(Omnibus):                  0.000   Jarque-Bera (JB):          3469308.384\n",
      "Skew:                          11.275   Prob(JB):                         0.00\n",
      "Kurtosis:                     249.403   Cond. No.                         12.6\n",
      "==============================================================================\n",
      "\n",
      "Warnings:\n",
      "[1] Standard Errors assume that the covariance matrix of the errors is correctly specified.\n",
      "                 sum_sq      df         F    PR(>F)\n",
      "education  3.235442e+04     5.0  4.040629  0.001209\n",
      "Residual   2.168369e+06  1354.0       NaN       NaN\n"
     ]
    }
   ],
   "source": [
    "# Computing statistical significance of bill rate between people with different education on Upwork worldwide\n",
    "model = ols(\"bill_rate ~ education\", merged).fit()\n",
    "anova_table = sm.stats.anova_lm(model, typ=2)\n",
    "print(model.summary())\n",
    "print anova_table"
   ]
  },
  {
   "cell_type": "code",
   "execution_count": 37,
   "metadata": {},
   "outputs": [
    {
     "name": "stdout",
     "output_type": "stream",
     "text": [
      "                            OLS Regression Results                            \n",
      "==============================================================================\n",
      "Dep. Variable:              bill_rate   R-squared:                       0.060\n",
      "Model:                            OLS   Adj. R-squared:                  0.054\n",
      "Method:                 Least Squares   F-statistic:                     10.77\n",
      "Date:                Fri, 24 Nov 2017   Prob (F-statistic):           8.59e-15\n",
      "Time:                        23:36:46   Log-Likelihood:                -6912.3\n",
      "No. Observations:                1360   AIC:                         1.384e+04\n",
      "Df Residuals:                    1351   BIC:                         1.389e+04\n",
      "Df Model:                           8                                         \n",
      "Covariance Type:            nonrobust                                         \n",
      "=============================================================================================\n",
      "                                coef    std err          t      P>|t|      [0.025      0.975]\n",
      "---------------------------------------------------------------------------------------------\n",
      "Intercept                    18.5969      4.217      4.410      0.000      10.325      26.869\n",
      "education[T.Bachelor]         7.4755      4.134      1.808      0.071      -0.633      15.584\n",
      "education[T.Doctorate]       11.7393      8.138      1.443      0.149      -4.224      27.703\n",
      "education[T.High School]     -6.1051      7.947     -0.768      0.442     -21.695       9.484\n",
      "education[T.Master]           8.7673      4.497      1.950      0.051      -0.055      17.589\n",
      "education[T.Professional]    17.5330      7.671      2.285      0.022       2.484      32.582\n",
      "gender[T.male]               10.0561      2.129      4.723      0.000       5.879      14.233\n",
      "job_category_id               1.2579      0.309      4.069      0.000       0.651       1.864\n",
      "work_experience               0.8070      0.161      5.028      0.000       0.492       1.122\n",
      "==============================================================================\n",
      "Omnibus:                     2401.242   Durbin-Watson:                   2.032\n",
      "Prob(Omnibus):                  0.000   Jarque-Bera (JB):          3979756.399\n",
      "Skew:                          11.716   Prob(JB):                         0.00\n",
      "Kurtosis:                     266.973   Cond. No.                         96.3\n",
      "==============================================================================\n",
      "\n",
      "Warnings:\n",
      "[1] Standard Errors assume that the covariance matrix of the errors is correctly specified.\n",
      "                       sum_sq      df          F        PR(>F)\n",
      "education        1.566352e+04     5.0   2.045834  6.971135e-02\n",
      "gender           3.415520e+04     1.0  22.305296  2.567967e-06\n",
      "job_category_id  2.534922e+04     1.0  16.554492  5.000805e-05\n",
      "work_experience  3.870406e+04     1.0  25.275965  5.635230e-07\n",
      "Residual         2.068732e+06  1351.0        NaN           NaN\n"
     ]
    }
   ],
   "source": [
    "# Computing statistical significance of bill rate between people with different education on Upwork worldwide\n",
    "model = ols(\"bill_rate ~ job_category_id + education + gender + work_experience\", merged).fit()\n",
    "anova_table = sm.stats.anova_lm(model, typ=2)\n",
    "print(model.summary())\n",
    "print anova_table"
   ]
  }
 ],
 "metadata": {
  "kernelspec": {
   "display_name": "Python 2",
   "language": "python",
   "name": "python2"
  },
  "language_info": {
   "codemirror_mode": {
    "name": "ipython",
    "version": 2
   },
   "file_extension": ".py",
   "mimetype": "text/x-python",
   "name": "python",
   "nbconvert_exporter": "python",
   "pygments_lexer": "ipython2",
   "version": "2.7.13"
  }
 },
 "nbformat": 4,
 "nbformat_minor": 2
}
